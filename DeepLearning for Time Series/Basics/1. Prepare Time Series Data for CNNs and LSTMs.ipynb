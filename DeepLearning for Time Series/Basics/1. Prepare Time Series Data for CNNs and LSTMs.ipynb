{
 "cells": [
  {
   "cell_type": "markdown",
   "id": "prime-protection",
   "metadata": {},
   "source": [
    "## Time Series to Supervised"
   ]
  },
  {
   "cell_type": "code",
   "execution_count": 2,
   "id": "preceding-trailer",
   "metadata": {},
   "outputs": [],
   "source": [
    "import numpy as np"
   ]
  },
  {
   "cell_type": "code",
   "execution_count": 3,
   "id": "clinical-feedback",
   "metadata": {},
   "outputs": [],
   "source": [
    "def split_sequence(sequence, n_steps):\n",
    "    X, y = list(), list()\n",
    "    for i in range(len(sequence)):\n",
    "        end_idx = i + n_steps\n",
    "        if end_idx > len(sequence) - 1:\n",
    "            break\n",
    "        seq_x, seq_y = sequence[i:end_idx], sequence[end_idx]\n",
    "        X.append(seq_x)\n",
    "        y.append(seq_y)\n",
    "        \n",
    "    return np.array(X), np.array(y)"
   ]
  },
  {
   "cell_type": "markdown",
   "id": "lesser-aggregate",
   "metadata": {},
   "source": [
    "- Feature : A column in a dataset, such as a lag obervation for a time series dataset\n",
    "- Sample : A row in a dataset, such as an input and output sequence for a time series"
   ]
  },
  {
   "cell_type": "code",
   "execution_count": 12,
   "id": "arranged-album",
   "metadata": {},
   "outputs": [],
   "source": [
    "seq = np.array([1,2,3,4,5,6,7,8,9,10])"
   ]
  },
  {
   "cell_type": "code",
   "execution_count": 13,
   "id": "intimate-airfare",
   "metadata": {},
   "outputs": [],
   "source": [
    "X, y = split_sequence(seq, 3)"
   ]
  },
  {
   "cell_type": "code",
   "execution_count": 14,
   "id": "egyptian-engineer",
   "metadata": {},
   "outputs": [
    {
     "name": "stdout",
     "output_type": "stream",
     "text": [
      "(7, 3) (7,)\n"
     ]
    }
   ],
   "source": [
    "print(X.shape, y.shape)"
   ]
  },
  {
   "cell_type": "code",
   "execution_count": 15,
   "id": "binary-uniform",
   "metadata": {},
   "outputs": [
    {
     "name": "stdout",
     "output_type": "stream",
     "text": [
      "[1 2 3] 4\n",
      "[2 3 4] 5\n",
      "[3 4 5] 6\n",
      "[4 5 6] 7\n",
      "[5 6 7] 8\n",
      "[6 7 8] 9\n",
      "[7 8 9] 10\n"
     ]
    }
   ],
   "source": [
    "for i in range(len(X)):\n",
    "    print(X[i], y[i])"
   ]
  },
  {
   "cell_type": "markdown",
   "id": "complex-church",
   "metadata": {},
   "source": [
    "In LSTM layer must specify the shape of the input data. The input to every CNN and LSTM layer must be three-dimensional.\n",
    "- Sample : One sequenec is one sample. A batch is comprised of one or more samples\n",
    "- Time Steps : One time step is one point of obervation in the sample. One sample is comprised of multiple time steps\n",
    "- Features : One feature is one observation at a time step. One time step is comprised of one or more features."
   ]
  },
  {
   "cell_type": "code",
   "execution_count": 22,
   "id": "extra-relevance",
   "metadata": {},
   "outputs": [],
   "source": [
    "X_reshaped = X.reshape((X.shape[0], X.shape[1], 1))\n",
    "# [samples, features] -> [samples, timesteps, features]"
   ]
  },
  {
   "cell_type": "code",
   "execution_count": 23,
   "id": "settled-library",
   "metadata": {},
   "outputs": [
    {
     "data": {
      "text/plain": [
       "(7, 3)"
      ]
     },
     "execution_count": 23,
     "metadata": {},
     "output_type": "execute_result"
    }
   ],
   "source": [
    "X.shape"
   ]
  },
  {
   "cell_type": "code",
   "execution_count": 24,
   "id": "ancient-kenya",
   "metadata": {},
   "outputs": [
    {
     "data": {
      "text/plain": [
       "(7, 3, 1)"
      ]
     },
     "execution_count": 24,
     "metadata": {},
     "output_type": "execute_result"
    }
   ],
   "source": [
    "X_reshaped.shape"
   ]
  },
  {
   "cell_type": "markdown",
   "id": "listed-uncle",
   "metadata": {},
   "source": [
    "## Exercise"
   ]
  },
  {
   "cell_type": "code",
   "execution_count": 37,
   "id": "reserved-heating",
   "metadata": {},
   "outputs": [],
   "source": [
    "data = list()\n",
    "n = 5000\n",
    "for i in range(n):\n",
    "    data.append([i+1, (i+1)*10])"
   ]
  },
  {
   "cell_type": "code",
   "execution_count": 38,
   "id": "controlled-computer",
   "metadata": {},
   "outputs": [],
   "source": [
    "data = np.array(data)"
   ]
  },
  {
   "cell_type": "code",
   "execution_count": 39,
   "id": "cooperative-catalog",
   "metadata": {},
   "outputs": [
    {
     "name": "stdout",
     "output_type": "stream",
     "text": [
      "[[    1    10]\n",
      " [    2    20]\n",
      " [    3    30]\n",
      " ...\n",
      " [ 4998 49980]\n",
      " [ 4999 49990]\n",
      " [ 5000 50000]] (5000, 2)\n"
     ]
    }
   ],
   "source": [
    "print(data, data.shape)"
   ]
  },
  {
   "cell_type": "code",
   "execution_count": 40,
   "id": "challenging-cassette",
   "metadata": {},
   "outputs": [
    {
     "data": {
      "text/plain": [
       "(5000,)"
      ]
     },
     "execution_count": 40,
     "metadata": {},
     "output_type": "execute_result"
    }
   ],
   "source": [
    "data = data[:, 1]\n",
    "# If time series data is uniform over timeand there is no missing values, \n",
    "# can drop the time column.\n",
    "data.shape"
   ]
  },
  {
   "cell_type": "markdown",
   "id": "banned-hello",
   "metadata": {},
   "source": [
    "### Split"
   ]
  },
  {
   "cell_type": "code",
   "execution_count": 41,
   "id": "musical-package",
   "metadata": {},
   "outputs": [],
   "source": [
    "length = 200\n",
    "samples = list()\n",
    "\n",
    "for i in range(0, n, length):\n",
    "    sample = data[i:i+length]\n",
    "    samples.append(sample)"
   ]
  },
  {
   "cell_type": "code",
   "execution_count": 45,
   "id": "temporal-second",
   "metadata": {},
   "outputs": [
    {
     "data": {
      "text/plain": [
       "25"
      ]
     },
     "execution_count": 45,
     "metadata": {},
     "output_type": "execute_result"
    }
   ],
   "source": [
    "len(samples)"
   ]
  },
  {
   "cell_type": "markdown",
   "id": "wound-queensland",
   "metadata": {},
   "source": [
    "### Reshape Subsequences"
   ]
  },
  {
   "cell_type": "code",
   "execution_count": 46,
   "id": "medieval-charles",
   "metadata": {},
   "outputs": [],
   "source": [
    "data = np.array(samples)"
   ]
  },
  {
   "cell_type": "code",
   "execution_count": 47,
   "id": "greatest-jason",
   "metadata": {},
   "outputs": [
    {
     "data": {
      "text/plain": [
       "(25, 200)"
      ]
     },
     "execution_count": 47,
     "metadata": {},
     "output_type": "execute_result"
    }
   ],
   "source": [
    "data.shape"
   ]
  },
  {
   "cell_type": "code",
   "execution_count": 48,
   "id": "consecutive-flesh",
   "metadata": {},
   "outputs": [],
   "source": [
    "data = data.reshape((len(samples), length, 1))"
   ]
  },
  {
   "cell_type": "code",
   "execution_count": 49,
   "id": "gorgeous-corpus",
   "metadata": {},
   "outputs": [
    {
     "data": {
      "text/plain": [
       "(25, 200, 1)"
      ]
     },
     "execution_count": 49,
     "metadata": {},
     "output_type": "execute_result"
    }
   ],
   "source": [
    "data.shape"
   ]
  },
  {
   "cell_type": "code",
   "execution_count": 53,
   "id": "tired-volume",
   "metadata": {},
   "outputs": [
    {
     "data": {
      "text/plain": [
       "array([[[   10],\n",
       "        [   20],\n",
       "        [   30],\n",
       "        ...,\n",
       "        [ 1980],\n",
       "        [ 1990],\n",
       "        [ 2000]],\n",
       "\n",
       "       [[ 2010],\n",
       "        [ 2020],\n",
       "        [ 2030],\n",
       "        ...,\n",
       "        [ 3980],\n",
       "        [ 3990],\n",
       "        [ 4000]],\n",
       "\n",
       "       [[ 4010],\n",
       "        [ 4020],\n",
       "        [ 4030],\n",
       "        ...,\n",
       "        [ 5980],\n",
       "        [ 5990],\n",
       "        [ 6000]],\n",
       "\n",
       "       ...,\n",
       "\n",
       "       [[44010],\n",
       "        [44020],\n",
       "        [44030],\n",
       "        ...,\n",
       "        [45980],\n",
       "        [45990],\n",
       "        [46000]],\n",
       "\n",
       "       [[46010],\n",
       "        [46020],\n",
       "        [46030],\n",
       "        ...,\n",
       "        [47980],\n",
       "        [47990],\n",
       "        [48000]],\n",
       "\n",
       "       [[48010],\n",
       "        [48020],\n",
       "        [48030],\n",
       "        ...,\n",
       "        [49980],\n",
       "        [49990],\n",
       "        [50000]]])"
      ]
     },
     "execution_count": 53,
     "metadata": {},
     "output_type": "execute_result"
    }
   ],
   "source": [
    "data"
   ]
  },
  {
   "cell_type": "code",
   "execution_count": null,
   "id": "pretty-european",
   "metadata": {},
   "outputs": [],
   "source": []
  }
 ],
 "metadata": {
  "kernelspec": {
   "display_name": "Python 3",
   "language": "python",
   "name": "python3"
  },
  "language_info": {
   "codemirror_mode": {
    "name": "ipython",
    "version": 3
   },
   "file_extension": ".py",
   "mimetype": "text/x-python",
   "name": "python",
   "nbconvert_exporter": "python",
   "pygments_lexer": "ipython3",
   "version": "3.7.9"
  }
 },
 "nbformat": 4,
 "nbformat_minor": 5
}
