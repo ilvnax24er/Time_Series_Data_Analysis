{
 "cells": [
  {
   "cell_type": "code",
   "execution_count": 1,
   "id": "wrong-signal",
   "metadata": {},
   "outputs": [],
   "source": [
    "import numpy as np\n",
    "import matplotlib.pyplot as plt"
   ]
  },
  {
   "cell_type": "code",
   "execution_count": 2,
   "id": "fuzzy-offering",
   "metadata": {},
   "outputs": [],
   "source": [
    "def split_sequence(sequence, n_steps):\n",
    "    X, y = list(), list()\n",
    "    for i in range(len(sequence)):\n",
    "        end_idx = i + n_steps\n",
    "        \n",
    "        if end_idx > len(sequence)-1:\n",
    "            break\n",
    "        seq_x , seq_y = sequence[i:end_idx], sequence[end_idx]\n",
    "        X.append(seq_x)\n",
    "        y.append(seq_y)\n",
    "        \n",
    "    return np.array(X), np.array(y)"
   ]
  },
  {
   "cell_type": "code",
   "execution_count": 3,
   "id": "olive-startup",
   "metadata": {},
   "outputs": [],
   "source": [
    "seq = [10, 20, 30, 40, 50, 60, 70, 80, 90]"
   ]
  },
  {
   "cell_type": "code",
   "execution_count": 4,
   "id": "scientific-offense",
   "metadata": {},
   "outputs": [],
   "source": [
    "n_steps = 3"
   ]
  },
  {
   "cell_type": "code",
   "execution_count": 5,
   "id": "appropriate-comfort",
   "metadata": {},
   "outputs": [],
   "source": [
    "X, y = split_sequence(seq, n_steps)"
   ]
  },
  {
   "cell_type": "markdown",
   "id": "acting-example",
   "metadata": {},
   "source": [
    "# MLP Model"
   ]
  },
  {
   "cell_type": "code",
   "execution_count": 6,
   "id": "linear-hungarian",
   "metadata": {},
   "outputs": [],
   "source": [
    "from tensorflow.keras.models import Model\n",
    "from tensorflow.keras.layers import Input, Dense"
   ]
  },
  {
   "cell_type": "code",
   "execution_count": 7,
   "id": "brief-yukon",
   "metadata": {},
   "outputs": [],
   "source": [
    "inputs = Input(shape = (n_steps))\n",
    "d = Dense(100, activation='relu')(inputs)\n",
    "d = Dense(1)(d)\n",
    "model = Model(inputs, d)"
   ]
  },
  {
   "cell_type": "code",
   "execution_count": 8,
   "id": "preliminary-gazette",
   "metadata": {},
   "outputs": [
    {
     "name": "stdout",
     "output_type": "stream",
     "text": [
      "Model: \"functional_1\"\n",
      "_________________________________________________________________\n",
      "Layer (type)                 Output Shape              Param #   \n",
      "=================================================================\n",
      "input_1 (InputLayer)         [(None, 3)]               0         \n",
      "_________________________________________________________________\n",
      "dense (Dense)                (None, 100)               400       \n",
      "_________________________________________________________________\n",
      "dense_1 (Dense)              (None, 1)                 101       \n",
      "=================================================================\n",
      "Total params: 501\n",
      "Trainable params: 501\n",
      "Non-trainable params: 0\n",
      "_________________________________________________________________\n"
     ]
    }
   ],
   "source": [
    "model.summary()\n",
    "model.compile(loss='mse', optimizer='adam')"
   ]
  },
  {
   "cell_type": "code",
   "execution_count": 9,
   "id": "valuable-algorithm",
   "metadata": {},
   "outputs": [],
   "source": [
    "hist = model.fit(X, y, epochs = 2000, verbose =0)"
   ]
  },
  {
   "cell_type": "code",
   "execution_count": 10,
   "id": "fresh-nevada",
   "metadata": {},
   "outputs": [
    {
     "data": {
      "image/png": "[encoded data removed]",
      "text/plain": [
       "<Figure size 432x288 with 1 Axes>"
      ]
     },
     "metadata": {
      "needs_background": "light"
     },
     "output_type": "display_data"
    }
   ],
   "source": [
    "plt.plot(hist.history['loss'])\n",
    "plt.show()"
   ]
  },
  {
   "cell_type": "code",
   "execution_count": 11,
   "id": "finnish-acting",
   "metadata": {},
   "outputs": [],
   "source": [
    "x_input = np.array([70, 80, 90])\n",
    "x_input = x_input.reshape((1, n_steps))\n",
    "yhat = model.predict(x_input, verbose=0)"
   ]
  },
  {
   "cell_type": "code",
   "execution_count": 12,
   "id": "posted-metabolism",
   "metadata": {},
   "outputs": [
    {
     "data": {
      "text/plain": [
       "array([[100.80939]], dtype=float32)"
      ]
     },
     "execution_count": 12,
     "metadata": {},
     "output_type": "execute_result"
    }
   ],
   "source": [
    "yhat"
   ]
  },
  {
   "cell_type": "markdown",
   "id": "unnecessary-costa",
   "metadata": {},
   "source": [
    "# Multivariate MLP Models"
   ]
  },
  {
   "cell_type": "code",
   "execution_count": 13,
   "id": "impaired-recall",
   "metadata": {},
   "outputs": [],
   "source": [
    "in_seq1 = np.arange(10, 100, 10)\n",
    "in_seq2 = np.arange(15, 100, 10)\n",
    "out_seq = np.array([in_seq1[i]+in_seq2[i] for i in range(len(in_seq1))])"
   ]
  },
  {
   "cell_type": "code",
   "execution_count": 14,
   "id": "equivalent-component",
   "metadata": {},
   "outputs": [],
   "source": [
    "in_seq1 = in_seq1.reshape((len(in_seq1), 1))\n",
    "in_seq2 = in_seq2.reshape((len(in_seq2), 1))\n",
    "out_seq = out_seq.reshape((len(out_seq), 1))"
   ]
  },
  {
   "cell_type": "code",
   "execution_count": 15,
   "id": "nonprofit-citizen",
   "metadata": {},
   "outputs": [],
   "source": [
    "dataset = np.hstack((in_seq1, in_seq2, out_seq))"
   ]
  },
  {
   "cell_type": "code",
   "execution_count": 16,
   "id": "interim-nitrogen",
   "metadata": {},
   "outputs": [
    {
     "data": {
      "text/plain": [
       "array([[ 10,  15,  25],\n",
       "       [ 20,  25,  45],\n",
       "       [ 30,  35,  65],\n",
       "       [ 40,  45,  85],\n",
       "       [ 50,  55, 105],\n",
       "       [ 60,  65, 125],\n",
       "       [ 70,  75, 145],\n",
       "       [ 80,  85, 165],\n",
       "       [ 90,  95, 185]])"
      ]
     },
     "execution_count": 16,
     "metadata": {},
     "output_type": "execute_result"
    }
   ],
   "source": [
    "dataset"
   ]
  },
  {
   "cell_type": "code",
   "execution_count": 17,
   "id": "palestinian-cholesterol",
   "metadata": {},
   "outputs": [],
   "source": [
    "def split_sequences(sequences, n_steps):\n",
    "    X, y = list(), list()\n",
    "    for i in range(len(sequences)):\n",
    "        end_idx = i + n_steps\n",
    "        \n",
    "        if end_idx > len(sequences):\n",
    "            break\n",
    "        seq_x, seq_y = sequences[i:end_idx, :-1], sequences[end_idx-1, -1]\n",
    "        X.append(seq_x)\n",
    "        y.append(seq_y)\n",
    "        \n",
    "    return np.array(X), np.array(y)"
   ]
  },
  {
   "cell_type": "code",
   "execution_count": 18,
   "id": "operating-departure",
   "metadata": {},
   "outputs": [],
   "source": [
    "X, y = split_sequences(dataset, 3)"
   ]
  },
  {
   "cell_type": "code",
   "execution_count": 19,
   "id": "extraordinary-entertainment",
   "metadata": {},
   "outputs": [
    {
     "name": "stdout",
     "output_type": "stream",
     "text": [
      "(7, 3, 2) (7,)\n"
     ]
    }
   ],
   "source": [
    "print(X.shape, y.shape)"
   ]
  },
  {
   "cell_type": "code",
   "execution_count": 20,
   "id": "productive-sacrifice",
   "metadata": {},
   "outputs": [],
   "source": [
    "n_input = X.shape[1] * X.shape[2]\n",
    "X = X.reshape((X.shape[0], n_input))"
   ]
  },
  {
   "cell_type": "code",
   "execution_count": 21,
   "id": "equal-garlic",
   "metadata": {},
   "outputs": [
    {
     "data": {
      "text/plain": [
       "array([[10, 15, 20, 25, 30, 35],\n",
       "       [20, 25, 30, 35, 40, 45],\n",
       "       [30, 35, 40, 45, 50, 55],\n",
       "       [40, 45, 50, 55, 60, 65],\n",
       "       [50, 55, 60, 65, 70, 75],\n",
       "       [60, 65, 70, 75, 80, 85],\n",
       "       [70, 75, 80, 85, 90, 95]])"
      ]
     },
     "execution_count": 21,
     "metadata": {},
     "output_type": "execute_result"
    }
   ],
   "source": [
    "X"
   ]
  },
  {
   "cell_type": "code",
   "execution_count": 22,
   "id": "common-identifier",
   "metadata": {},
   "outputs": [],
   "source": [
    "inputs = Input(shape=n_input)\n",
    "d = Dense(100, activation='relu')(inputs)\n",
    "d = Dense(1)(d)\n",
    "model = Model(inputs, d)"
   ]
  },
  {
   "cell_type": "code",
   "execution_count": 23,
   "id": "emerging-restoration",
   "metadata": {},
   "outputs": [
    {
     "name": "stdout",
     "output_type": "stream",
     "text": [
      "Model: \"functional_3\"\n",
      "_________________________________________________________________\n",
      "Layer (type)                 Output Shape              Param #   \n",
      "=================================================================\n",
      "input_2 (InputLayer)         [(None, 6)]               0         \n",
      "_________________________________________________________________\n",
      "dense_2 (Dense)              (None, 100)               700       \n",
      "_________________________________________________________________\n",
      "dense_3 (Dense)              (None, 1)                 101       \n",
      "=================================================================\n",
      "Total params: 801\n",
      "Trainable params: 801\n",
      "Non-trainable params: 0\n",
      "_________________________________________________________________\n"
     ]
    }
   ],
   "source": [
    "model.summary()\n",
    "model.compile(loss='mse', optimizer='adam')"
   ]
  },
  {
   "cell_type": "code",
   "execution_count": 24,
   "id": "surprised-warner",
   "metadata": {},
   "outputs": [],
   "source": [
    "hist = model.fit(X, y, epochs=2000, verbose=0)"
   ]
  },
  {
   "cell_type": "code",
   "execution_count": 25,
   "id": "discrete-secretary",
   "metadata": {},
   "outputs": [
    {
     "data": {
      "text/plain": [
       "[<matplotlib.lines.Line2D at 0x1e9e503f308>]"
      ]
     },
     "execution_count": 25,
     "metadata": {},
     "output_type": "execute_result"
    },
    {
     "data": {
      "image/png": "[encoded data removed]",
      "text/plain": [
       "<Figure size 432x288 with 1 Axes>"
      ]
     },
     "metadata": {
      "needs_background": "light"
     },
     "output_type": "display_data"
    }
   ],
   "source": [
    "plt.plot(hist.history['loss'][:250])"
   ]
  },
  {
   "cell_type": "code",
   "execution_count": 26,
   "id": "optical-favorite",
   "metadata": {},
   "outputs": [],
   "source": [
    "x_input = np.array([[80, 85], [90,95], [100,105]])\n",
    "x_input = x_input.reshape((1, n_input))"
   ]
  },
  {
   "cell_type": "code",
   "execution_count": 27,
   "id": "rational-spray",
   "metadata": {},
   "outputs": [
    {
     "data": {
      "text/plain": [
       "array([[ 80,  85,  90,  95, 100, 105]])"
      ]
     },
     "execution_count": 27,
     "metadata": {},
     "output_type": "execute_result"
    }
   ],
   "source": [
    "x_input"
   ]
  },
  {
   "cell_type": "code",
   "execution_count": 28,
   "id": "listed-brooks",
   "metadata": {},
   "outputs": [],
   "source": [
    "x_input2 = np.array([[100,105,110,115,120,125]])"
   ]
  },
  {
   "cell_type": "code",
   "execution_count": 29,
   "id": "muslim-saturday",
   "metadata": {},
   "outputs": [
    {
     "data": {
      "text/plain": [
       "array([[100, 105, 110, 115, 120, 125]])"
      ]
     },
     "execution_count": 29,
     "metadata": {},
     "output_type": "execute_result"
    }
   ],
   "source": [
    "x_input2"
   ]
  },
  {
   "cell_type": "code",
   "execution_count": 30,
   "id": "controlled-prompt",
   "metadata": {},
   "outputs": [],
   "source": [
    "yhat = model.predict(x_input, verbose=0)"
   ]
  },
  {
   "cell_type": "code",
   "execution_count": 31,
   "id": "drawn-appreciation",
   "metadata": {},
   "outputs": [
    {
     "data": {
      "text/plain": [
       "array([[205.36955]], dtype=float32)"
      ]
     },
     "execution_count": 31,
     "metadata": {},
     "output_type": "execute_result"
    }
   ],
   "source": [
    "yhat"
   ]
  },
  {
   "cell_type": "code",
   "execution_count": 32,
   "id": "mexican-salmon",
   "metadata": {},
   "outputs": [
    {
     "name": "stdout",
     "output_type": "stream",
     "text": [
      "[10 15 20 25 30 35] 65\n",
      "[20 25 30 35 40 45] 85\n",
      "[30 35 40 45 50 55] 105\n",
      "[40 45 50 55 60 65] 125\n",
      "[50 55 60 65 70 75] 145\n",
      "[60 65 70 75 80 85] 165\n",
      "[70 75 80 85 90 95] 185\n"
     ]
    }
   ],
   "source": [
    "for i in range(len(X)):\n",
    "    print(X[i], y[i])"
   ]
  },
  {
   "cell_type": "code",
   "execution_count": 33,
   "id": "liberal-police",
   "metadata": {},
   "outputs": [
    {
     "name": "stdout",
     "output_type": "stream",
     "text": [
      "[[245.59251]]\n"
     ]
    }
   ],
   "source": [
    "pred = model.predict(x_input2, verbose=0)\n",
    "print(pred)"
   ]
  },
  {
   "cell_type": "markdown",
   "id": "honey-crime",
   "metadata": {},
   "source": [
    "## Multi-headed MLP Model"
   ]
  },
  {
   "cell_type": "code",
   "execution_count": 34,
   "id": "powered-international",
   "metadata": {},
   "outputs": [],
   "source": [
    "from tensorflow.keras.layers import concatenate\n",
    "from tensorflow.keras.utils import plot_model"
   ]
  },
  {
   "cell_type": "code",
   "execution_count": 35,
   "id": "instructional-poison",
   "metadata": {},
   "outputs": [],
   "source": [
    "X, y = split_sequences(dataset, n_steps)"
   ]
  },
  {
   "cell_type": "code",
   "execution_count": 36,
   "id": "measured-methodology",
   "metadata": {},
   "outputs": [],
   "source": [
    "X1 = X[:, :, 0]\n",
    "X2 = X[:, :, 1]"
   ]
  },
  {
   "cell_type": "code",
   "execution_count": 37,
   "id": "sealed-disney",
   "metadata": {},
   "outputs": [],
   "source": [
    "visible1 = Input(shape=(n_steps, ))\n",
    "visible2 = Input(shape=(n_steps, ))\n",
    "\n",
    "dense1 = Dense(100, activation='relu')(visible1)\n",
    "dense2 = Dense(100, activation='relu')(visible2)\n",
    "merge = concatenate([dense1, dense2])\n",
    "output = Dense(1)(merge)"
   ]
  },
  {
   "cell_type": "code",
   "execution_count": 38,
   "id": "loose-kansas",
   "metadata": {},
   "outputs": [],
   "source": [
    "model = Model((visible1, visible2), output)\n",
    "model.compile(optimizer='adam', loss='mse')"
   ]
  },
  {
   "cell_type": "code",
   "execution_count": 39,
   "id": "challenging-mills",
   "metadata": {},
   "outputs": [
    {
     "data": {
      "image/png": "[encoded data removed]",
      "text/plain": [
       "<IPython.core.display.Image object>"
      ]
     },
     "execution_count": 39,
     "metadata": {},
     "output_type": "execute_result"
    }
   ],
   "source": [
    "plot_model(model, show_shapes=True)"
   ]
  },
  {
   "cell_type": "code",
   "execution_count": 40,
   "id": "former-frederick",
   "metadata": {},
   "outputs": [
    {
     "data": {
      "text/plain": [
       "<tensorflow.python.keras.callbacks.History at 0x1e9ec623f88>"
      ]
     },
     "execution_count": 40,
     "metadata": {},
     "output_type": "execute_result"
    }
   ],
   "source": [
    "model.fit([X1, X2], y, epochs=2000, verbose=0)"
   ]
  },
  {
   "cell_type": "code",
   "execution_count": 41,
   "id": "driving-economics",
   "metadata": {},
   "outputs": [],
   "source": [
    "x_input = np.array([[80, 85], [90,95], [100,105]])"
   ]
  },
  {
   "cell_type": "code",
   "execution_count": 42,
   "id": "touched-arnold",
   "metadata": {},
   "outputs": [],
   "source": [
    "x1 = x_input[:, 0].reshape((1, n_steps))\n",
    "x2 = x_input[:, 1].reshape((1, n_steps))\n",
    "yhat = model.predict([x1, x2], verbose=0)"
   ]
  },
  {
   "cell_type": "code",
   "execution_count": 43,
   "id": "processed-worse",
   "metadata": {},
   "outputs": [
    {
     "name": "stdout",
     "output_type": "stream",
     "text": [
      "[[205.65758]]\n"
     ]
    }
   ],
   "source": [
    "print(yhat)"
   ]
  },
  {
   "cell_type": "markdown",
   "id": "interested-twins",
   "metadata": {},
   "source": [
    "# Multiple Parallel Series"
   ]
  },
  {
   "cell_type": "code",
   "execution_count": 81,
   "id": "composed-studio",
   "metadata": {},
   "outputs": [],
   "source": [
    "def split_sequences(sequences, n_steps_in, n_steps_out):\n",
    "    X, y = list(), list()\n",
    "    for i in range(len(sequences)):\n",
    "        end_idx = i + n_steps_in\n",
    "        out_end_idx = end_idx + n_steps_out\n",
    "        \n",
    "        if out_end_idx > len(sequences):\n",
    "            break\n",
    "            \n",
    "        seq_x, seq_y = sequences[i:end_idx, :], sequences[end_idx:out_end_idx, :]\n",
    "        X.append(seq_x)\n",
    "        y.append(seq_y)\n",
    "        \n",
    "    return np.array(X), np.array(y)"
   ]
  },
  {
   "cell_type": "code",
   "execution_count": 82,
   "id": "experienced-decision",
   "metadata": {},
   "outputs": [],
   "source": [
    "in_seq1 = np.arange(10,100,10)\n",
    "in_seq2 = np.arange(15,100,10)\n",
    "out_seq = np.array([in_seq1[i]+in_seq2[i] for i in range(len(in_seq1))])"
   ]
  },
  {
   "cell_type": "code",
   "execution_count": 83,
   "id": "behind-advantage",
   "metadata": {},
   "outputs": [
    {
     "name": "stdout",
     "output_type": "stream",
     "text": [
      "[10 20 30 40 50 60 70 80 90]\n",
      "[15 25 35 45 55 65 75 85 95]\n",
      "[ 25  45  65  85 105 125 145 165 185]\n"
     ]
    }
   ],
   "source": [
    "print(in_seq1)\n",
    "print(in_seq2)\n",
    "print(out_seq)"
   ]
  },
  {
   "cell_type": "code",
   "execution_count": 84,
   "id": "theoretical-significance",
   "metadata": {},
   "outputs": [],
   "source": [
    "in_seq1 = in_seq1.reshape((len(in_seq1), 1))\n",
    "in_seq2 = in_seq2.reshape((len(in_seq2), 1))\n",
    "out_seq = out_seq.reshape((len(out_seq), 1))"
   ]
  },
  {
   "cell_type": "code",
   "execution_count": 85,
   "id": "european-parking",
   "metadata": {},
   "outputs": [],
   "source": [
    "dataset = np.hstack((in_seq1, in_seq2, out_seq))"
   ]
  },
  {
   "cell_type": "code",
   "execution_count": 86,
   "id": "duplicate-martial",
   "metadata": {},
   "outputs": [],
   "source": [
    "n_steps_in, n_steps_out = 3, 2"
   ]
  },
  {
   "cell_type": "code",
   "execution_count": 87,
   "id": "available-pickup",
   "metadata": {},
   "outputs": [],
   "source": [
    "X, y = split_sequences(dataset, n_steps_in, n_steps_out)"
   ]
  },
  {
   "cell_type": "code",
   "execution_count": 90,
   "id": "desirable-conspiracy",
   "metadata": {},
   "outputs": [
    {
     "name": "stdout",
     "output_type": "stream",
     "text": [
      "(5, 3, 3) (5, 2, 3)\n"
     ]
    }
   ],
   "source": [
    "print(X.shape, y.shape)"
   ]
  },
  {
   "cell_type": "code",
   "execution_count": 92,
   "id": "chicken-champion",
   "metadata": {},
   "outputs": [
    {
     "name": "stdout",
     "output_type": "stream",
     "text": [
      "[[10 15 25]\n",
      " [20 25 45]\n",
      " [30 35 65]] [[ 40  45  85]\n",
      " [ 50  55 105]]\n",
      "[[20 25 45]\n",
      " [30 35 65]\n",
      " [40 45 85]] [[ 50  55 105]\n",
      " [ 60  65 125]]\n",
      "[[ 30  35  65]\n",
      " [ 40  45  85]\n",
      " [ 50  55 105]] [[ 60  65 125]\n",
      " [ 70  75 145]]\n",
      "[[ 40  45  85]\n",
      " [ 50  55 105]\n",
      " [ 60  65 125]] [[ 70  75 145]\n",
      " [ 80  85 165]]\n",
      "[[ 50  55 105]\n",
      " [ 60  65 125]\n",
      " [ 70  75 145]] [[ 80  85 165]\n",
      " [ 90  95 185]]\n"
     ]
    }
   ],
   "source": [
    "for i in range(len(X)):\n",
    "    print(X[i], y[i])"
   ]
  },
  {
   "cell_type": "markdown",
   "id": "right-shock",
   "metadata": {},
   "source": [
    "MLP model is only capable of taking vector inputs and outputs"
   ]
  },
  {
   "cell_type": "code",
   "execution_count": 93,
   "id": "professional-slovak",
   "metadata": {},
   "outputs": [],
   "source": [
    "n_input = X.shape[1] * X.shape[2]\n",
    "X = X.reshape((X.shape[0], n_input))\n",
    "\n",
    "n_output = y.shape[1] * y.shape[2]\n",
    "y = y.reshape((y.shape[0], n_output))"
   ]
  },
  {
   "cell_type": "code",
   "execution_count": 97,
   "id": "settled-flash",
   "metadata": {},
   "outputs": [
    {
     "name": "stdout",
     "output_type": "stream",
     "text": [
      "[[ 10  15  25  20  25  45  30  35  65]\n",
      " [ 20  25  45  30  35  65  40  45  85]\n",
      " [ 30  35  65  40  45  85  50  55 105]\n",
      " [ 40  45  85  50  55 105  60  65 125]\n",
      " [ 50  55 105  60  65 125  70  75 145]]\n",
      "[[ 40  45  85  50  55 105]\n",
      " [ 50  55 105  60  65 125]\n",
      " [ 60  65 125  70  75 145]\n",
      " [ 70  75 145  80  85 165]\n",
      " [ 80  85 165  90  95 185]]\n"
     ]
    }
   ],
   "source": [
    "print(X)\n",
    "print(y)"
   ]
  },
  {
   "cell_type": "code",
   "execution_count": 98,
   "id": "extra-doubt",
   "metadata": {},
   "outputs": [],
   "source": [
    "from tensorflow.keras.layers import Dense, Input\n",
    "from tensorflow.keras.models import Model"
   ]
  },
  {
   "cell_type": "code",
   "execution_count": 106,
   "id": "incredible-alabama",
   "metadata": {},
   "outputs": [],
   "source": [
    "inputs = Input(shape=(n_input))\n",
    "x = Dense(100, activation='relu')(inputs)\n",
    "x = Dense(n_output)(x)"
   ]
  },
  {
   "cell_type": "code",
   "execution_count": 107,
   "id": "boolean-muscle",
   "metadata": {},
   "outputs": [],
   "source": [
    "model = Model(inputs, x)"
   ]
  },
  {
   "cell_type": "code",
   "execution_count": 108,
   "id": "unlimited-california",
   "metadata": {},
   "outputs": [
    {
     "name": "stdout",
     "output_type": "stream",
     "text": [
      "Model: \"functional_9\"\n",
      "_________________________________________________________________\n",
      "Layer (type)                 Output Shape              Param #   \n",
      "=================================================================\n",
      "input_7 (InputLayer)         [(None, 9)]               0         \n",
      "_________________________________________________________________\n",
      "dense_9 (Dense)              (None, 100)               1000      \n",
      "_________________________________________________________________\n",
      "dense_10 (Dense)             (None, 6)                 606       \n",
      "=================================================================\n",
      "Total params: 1,606\n",
      "Trainable params: 1,606\n",
      "Non-trainable params: 0\n",
      "_________________________________________________________________\n"
     ]
    }
   ],
   "source": [
    "model.summary()"
   ]
  },
  {
   "cell_type": "code",
   "execution_count": 109,
   "id": "macro-acrylic",
   "metadata": {},
   "outputs": [],
   "source": [
    "model.compile(loss='mse', optimizer='adam')"
   ]
  },
  {
   "cell_type": "code",
   "execution_count": 111,
   "id": "seven-intent",
   "metadata": {},
   "outputs": [],
   "source": [
    "hist = model.fit(X, y, epochs=2000, verbose=0)"
   ]
  },
  {
   "cell_type": "code",
   "execution_count": 112,
   "id": "tough-prospect",
   "metadata": {},
   "outputs": [
    {
     "data": {
      "text/plain": [
       "[<matplotlib.lines.Line2D at 0x1e9eea93608>]"
      ]
     },
     "execution_count": 112,
     "metadata": {},
     "output_type": "execute_result"
    },
    {
     "data": {
      "image/png": "[encoded data removed]",
      "text/plain": [
       "<Figure size 432x288 with 1 Axes>"
      ]
     },
     "metadata": {
      "needs_background": "light"
     },
     "output_type": "display_data"
    }
   ],
   "source": [
    "plt.plot(hist.history['loss'])"
   ]
  },
  {
   "cell_type": "code",
   "execution_count": 114,
   "id": "blond-brooks",
   "metadata": {},
   "outputs": [],
   "source": [
    "x_input = np.array([[60, 65, 125], [70,75,145], [80,85,165]])"
   ]
  },
  {
   "cell_type": "code",
   "execution_count": 116,
   "id": "extended-photographer",
   "metadata": {},
   "outputs": [],
   "source": [
    "x_input = x_input.reshape((1, -1))"
   ]
  },
  {
   "cell_type": "code",
   "execution_count": 118,
   "id": "arranged-allah",
   "metadata": {},
   "outputs": [],
   "source": [
    "yhat = model.predict(x_input, verbose=0)"
   ]
  },
  {
   "cell_type": "code",
   "execution_count": 119,
   "id": "unlike-basis",
   "metadata": {},
   "outputs": [
    {
     "data": {
      "text/plain": [
       "array([[ 90.00001,  94.99999, 185.00002, 100.00001, 104.99999, 205.00003]],\n",
       "      dtype=float32)"
      ]
     },
     "execution_count": 119,
     "metadata": {},
     "output_type": "execute_result"
    }
   ],
   "source": [
    "yhat"
   ]
  },
  {
   "cell_type": "code",
   "execution_count": null,
   "id": "cooperative-whole",
   "metadata": {},
   "outputs": [],
   "source": []
  }
 ],
 "metadata": {
  "kernelspec": {
   "display_name": "Python 3",
   "language": "python",
   "name": "python3"
  },
  "language_info": {
   "codemirror_mode": {
    "name": "ipython",
    "version": 3
   },
   "file_extension": ".py",
   "mimetype": "text/x-python",
   "name": "python",
   "nbconvert_exporter": "python",
   "pygments_lexer": "ipython3",
   "version": "3.7.9"
  }
 },
 "nbformat": 4,
 "nbformat_minor": 5
}
