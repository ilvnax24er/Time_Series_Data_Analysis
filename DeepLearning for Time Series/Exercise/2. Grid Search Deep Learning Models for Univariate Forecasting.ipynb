{
 "cells": [
  {
   "cell_type": "code",
   "execution_count": 63,
   "id": "animal-fantasy",
   "metadata": {},
   "outputs": [],
   "source": [
    "import pandas as pd\n",
    "import numpy as np\n",
    "import matplotlib.pyplot as plt\n",
    "\n",
    "from sklearn.metrics import mean_squared_error\n",
    "\n",
    "import time"
   ]
  },
  {
   "cell_type": "code",
   "execution_count": 7,
   "id": "pregnant-editor",
   "metadata": {},
   "outputs": [],
   "source": [
    "df = pd.read_csv('./Data/airline_passengers.csv', index_col='Month', parse_dates=True)"
   ]
  },
  {
   "cell_type": "code",
   "execution_count": 10,
   "id": "unnecessary-perry",
   "metadata": {},
   "outputs": [
    {
     "data": {
      "image/png": "[encoded data removed]",
      "text/plain": [
       "<Figure size 432x288 with 1 Axes>"
      ]
     },
     "metadata": {
      "needs_background": "light"
     },
     "output_type": "display_data"
    },
    {
     "name": "stdout",
     "output_type": "stream",
     "text": [
      "(144, 1)\n"
     ]
    }
   ],
   "source": [
    "plt.plot(df)\n",
    "plt.show()\n",
    "print(df.shape)"
   ]
  },
  {
   "cell_type": "code",
   "execution_count": 11,
   "id": "foster-dylan",
   "metadata": {},
   "outputs": [],
   "source": [
    "def train_test_split(data, n_test):\n",
    "    return data[:-n_test], data[-n_test:]"
   ]
  },
  {
   "cell_type": "code",
   "execution_count": 12,
   "id": "southwest-flesh",
   "metadata": {},
   "outputs": [],
   "source": [
    "def series_to_supervised(data, n_in, n_out=1):\n",
    "    df = pd.DataFrame(data)\n",
    "    cols = list()\n",
    "    \n",
    "    for i in range(n_in, 0, -1):\n",
    "        cols.append(df.shift(i))\n",
    "    for i in range(0, n_out):\n",
    "        cols.append(df.shift(-1))\n",
    "    agg = pd.concat(cols, axis=1)\n",
    "    agg.dropna(inplace=True)\n",
    "    return agg.values"
   ]
  },
  {
   "cell_type": "code",
   "execution_count": 15,
   "id": "manual-oregon",
   "metadata": {},
   "outputs": [],
   "source": [
    "def measure_rmse(actual, predicted):\n",
    "    return np.sqrt(mean_squared_error(actual, predicted))"
   ]
  },
  {
   "cell_type": "code",
   "execution_count": 17,
   "id": "deluxe-champagne",
   "metadata": {},
   "outputs": [],
   "source": [
    "def model_fit(train, config):\n",
    "    return None"
   ]
  },
  {
   "cell_type": "code",
   "execution_count": 18,
   "id": "appreciated-satisfaction",
   "metadata": {},
   "outputs": [],
   "source": [
    "def model_predict(model, history, config):\n",
    "    return 0.0"
   ]
  },
  {
   "cell_type": "code",
   "execution_count": 19,
   "id": "chubby-november",
   "metadata": {},
   "outputs": [],
   "source": [
    "def walk_forward_validation(data, n_test, cfg):\n",
    "    predictions = list()\n",
    "    train, test = train_test_split(data, n_test)\n",
    "    model = model_fit(train, cfg)\n",
    "    history = [x for x in train]\n",
    "    for i in range(len(test)):\n",
    "        yhat = model_predict(model, history, cfg)\n",
    "        predictions.append(yhat)\n",
    "        history.append(test[i])\n",
    "    error = measure_rmse(test, predictions)\n",
    "    print(' > %.3f' % error)\n",
    "    return error"
   ]
  },
  {
   "cell_type": "code",
   "execution_count": 20,
   "id": "clean-recipe",
   "metadata": {},
   "outputs": [],
   "source": [
    "def repeat_evaluate(data, config, n_test, n_repeats=10):\n",
    "    key = str(config)\n",
    "    scores = [walk_forward_validation(data, n_test, config) for _ in range(n_repeats)]\n",
    "    result = np.mean(scores)\n",
    "    print('> Model[%s] %.3f' % (key, result))\n",
    "    return (key, result)"
   ]
  },
  {
   "cell_type": "code",
   "execution_count": 33,
   "id": "incredible-italic",
   "metadata": {},
   "outputs": [],
   "source": [
    "def grid_search(data, cfg_list, n_test):\n",
    "    scores = scores = [repeat_evaluate(data, cfg, n_test) for cfg in cfg_list]\n",
    "    scores.sort(key=lambda tup: tup[1])\n",
    "    return scores"
   ]
  },
  {
   "cell_type": "markdown",
   "id": "literary-venue",
   "metadata": {},
   "source": [
    "## Worked Example"
   ]
  },
  {
   "cell_type": "code",
   "execution_count": 34,
   "id": "colonial-ministry",
   "metadata": {},
   "outputs": [],
   "source": [
    "cfg_list = [1, 6, 12, 24, 36]"
   ]
  },
  {
   "cell_type": "code",
   "execution_count": 39,
   "id": "assisted-recorder",
   "metadata": {},
   "outputs": [],
   "source": [
    "def model_predict(model, history, offset):\n",
    "    return history[-offset]"
   ]
  },
  {
   "cell_type": "code",
   "execution_count": 40,
   "id": "distinguished-consequence",
   "metadata": {},
   "outputs": [],
   "source": [
    "data = df.values"
   ]
  },
  {
   "cell_type": "code",
   "execution_count": 41,
   "id": "abroad-hebrew",
   "metadata": {},
   "outputs": [],
   "source": [
    "n_test = 12"
   ]
  },
  {
   "cell_type": "code",
   "execution_count": 42,
   "id": "incorporate-device",
   "metadata": {},
   "outputs": [
    {
     "name": "stdout",
     "output_type": "stream",
     "text": [
      " > 53.152\n",
      " > 53.152\n",
      " > 53.152\n",
      " > 53.152\n",
      " > 53.152\n",
      " > 53.152\n",
      " > 53.152\n",
      " > 53.152\n",
      " > 53.152\n",
      " > 53.152\n",
      "> Model[1] 53.152\n",
      " > 126.735\n",
      " > 126.735\n",
      " > 126.735\n",
      " > 126.735\n",
      " > 126.735\n",
      " > 126.735\n",
      " > 126.735\n",
      " > 126.735\n",
      " > 126.735\n",
      " > 126.735\n",
      "> Model[6] 126.735\n",
      " > 50.708\n",
      " > 50.708\n",
      " > 50.708\n",
      " > 50.708\n",
      " > 50.708\n",
      " > 50.708\n",
      " > 50.708\n",
      " > 50.708\n",
      " > 50.708\n",
      " > 50.708\n",
      "> Model[12] 50.708\n",
      " > 97.110\n",
      " > 97.110\n",
      " > 97.110\n",
      " > 97.110\n",
      " > 97.110\n",
      " > 97.110\n",
      " > 97.110\n",
      " > 97.110\n",
      " > 97.110\n",
      " > 97.110\n",
      "> Model[24] 97.110\n",
      " > 110.274\n",
      " > 110.274\n",
      " > 110.274\n",
      " > 110.274\n",
      " > 110.274\n",
      " > 110.274\n",
      " > 110.274\n",
      " > 110.274\n",
      " > 110.274\n",
      " > 110.274\n",
      "> Model[36] 110.274\n"
     ]
    }
   ],
   "source": [
    "scores = grid_search(data, cfg_list, n_test)"
   ]
  },
  {
   "cell_type": "markdown",
   "id": "quantitative-check",
   "metadata": {},
   "source": [
    "# Multilayer Perceptron Model"
   ]
  },
  {
   "cell_type": "code",
   "execution_count": 44,
   "id": "criminal-arnold",
   "metadata": {},
   "outputs": [],
   "source": [
    "from tensorflow.keras.models import Model\n",
    "from tensorflow.keras.layers import Input, Dense"
   ]
  },
  {
   "cell_type": "code",
   "execution_count": 45,
   "id": "junior-offering",
   "metadata": {},
   "outputs": [],
   "source": [
    "def difference(data, order):\n",
    "    return [data[i] - data[i-order] for i in range(order, len(data))]"
   ]
  },
  {
   "cell_type": "code",
   "execution_count": 47,
   "id": "bronze-harbor",
   "metadata": {},
   "outputs": [],
   "source": [
    "def model_fit(train, config):\n",
    "    n_input, n_nodes, n_epochs, n_batch, n_diff = config\n",
    "    if n_diff > 0:\n",
    "        train = difference(train, n_diff)\n",
    "    data = series_to_supervised(train, n_input)\n",
    "    train_x, train_y = data[:, :-1], data[:, -1]\n",
    "    inputs = Input(shape=n_input)\n",
    "    d = Dense(n_nodes, activation='relu')(inputs)\n",
    "    d = Dense(1)(d)\n",
    "    model = Model(inputs, d)\n",
    "    model.compile(loss='mse', optimizer='adam')\n",
    "    model.fit(train_x, train_y, epochs=n_epochs, batch_size=n_batch, verbose=0)\n",
    "    return model"
   ]
  },
  {
   "cell_type": "code",
   "execution_count": 49,
   "id": "ultimate-throw",
   "metadata": {},
   "outputs": [],
   "source": [
    "def model_predict(model, history, config):\n",
    "    n_input, _, _, _, n_diff = config\n",
    "    correction = 0.0\n",
    "    if n_diff > 0:\n",
    "        correction = history[-n_diff]\n",
    "        history = difference(history, n_diff)\n",
    "    x_input = np.array(history[-n_input:]).reshape((1, n_input))\n",
    "    yhat = model.predict(x_input, verbose=0)\n",
    "    return correction + yhat[0]"
   ]
  },
  {
   "cell_type": "code",
   "execution_count": 50,
   "id": "heavy-mother",
   "metadata": {},
   "outputs": [],
   "source": [
    "def model_configs():\n",
    "    n_input = [12]\n",
    "    n_nodes = [50, 100]\n",
    "    n_epochs = [100]\n",
    "    n_batch = [1, 150]\n",
    "    n_diff = [0, 12]\n",
    "    configs = list()\n",
    "    for i in n_input:\n",
    "        for j in n_nodes:\n",
    "            for k in n_epochs:\n",
    "                for l in n_batch:\n",
    "                    for m in n_diff:\n",
    "                        cfg = [i, j, k, l, m]\n",
    "                        configs.append(cfg)\n",
    "    print('Total configs: %d' % len(configs))\n",
    "    return configs"
   ]
  },
  {
   "cell_type": "code",
   "execution_count": 51,
   "id": "differential-spokesman",
   "metadata": {},
   "outputs": [
    {
     "name": "stdout",
     "output_type": "stream",
     "text": [
      "Total configs: 8\n"
     ]
    }
   ],
   "source": [
    "data = df.values\n",
    "n_test = 12\n",
    "cfg_list = model_configs()"
   ]
  },
  {
   "cell_type": "code",
   "execution_count": 52,
   "id": "collaborative-briefing",
   "metadata": {},
   "outputs": [
    {
     "name": "stdout",
     "output_type": "stream",
     "text": [
      " > 50.855\n",
      " > 49.543\n",
      " > 52.052\n",
      " > 47.296\n",
      " > 51.748\n",
      " > 47.602\n",
      " > 47.328\n",
      " > 49.940\n",
      " > 47.951\n",
      " > 45.789\n",
      "> Model[[12, 50, 100, 1, 0]] 49.010\n",
      " > 22.082\n",
      " > 23.412\n",
      " > 20.956\n",
      " > 23.638\n",
      " > 22.077\n",
      " > 30.015\n",
      " > 22.484\n",
      " > 24.413\n",
      " > 21.996\n",
      " > 23.591\n",
      "> Model[[12, 50, 100, 1, 12]] 23.467\n",
      " > 77.028\n",
      " > 61.067\n",
      " > 56.004\n",
      " > 71.009\n",
      " > 78.346\n",
      " > 61.731\n",
      " > 64.405\n",
      " > 51.337\n",
      " > 75.911\n",
      " > 88.910\n",
      "> Model[[12, 50, 100, 150, 0]] 68.575\n",
      " > 21.122\n",
      " > 20.089\n",
      " > 19.366\n",
      " > 20.917\n",
      " > 22.228\n",
      " > 21.359\n",
      " > 18.829\n",
      " > 21.059\n",
      " > 19.979\n",
      " > 20.322\n",
      "> Model[[12, 50, 100, 150, 12]] 20.527\n",
      " > 45.372\n",
      " > 54.896\n",
      " > 50.308\n",
      " > 43.689\n",
      " > 48.785\n",
      " > 48.073\n",
      " > 52.743\n",
      " > 50.568\n",
      " > 50.725\n",
      " > 57.657\n",
      "> Model[[12, 100, 100, 1, 0]] 50.282\n",
      " > 25.983\n",
      " > 24.608\n",
      " > 24.244\n",
      " > 26.153\n",
      " > 23.283\n",
      " > 24.376\n",
      " > 25.458\n",
      " > 22.593\n",
      " > 23.449\n",
      " > 22.782\n",
      "> Model[[12, 100, 100, 1, 12]] 24.293\n",
      " > 74.117\n",
      " > 60.637\n",
      " > 47.464\n",
      " > 54.801\n",
      " > 63.690\n",
      " > 42.670\n",
      " > 73.197\n",
      " > 70.202\n",
      " > 64.183\n",
      " > 45.094\n",
      "> Model[[12, 100, 100, 150, 0]] 59.606\n",
      " > 17.780\n",
      " > 19.361\n",
      " > 21.165\n",
      " > 18.823\n",
      " > 20.121\n",
      " > 19.715\n",
      " > 21.058\n",
      " > 19.319\n",
      " > 19.232\n",
      " > 19.793\n",
      "> Model[[12, 100, 100, 150, 12]] 19.637\n",
      "done\n"
     ]
    }
   ],
   "source": [
    "scores = grid_search(data, cfg_list, n_test)\n",
    "print('done')"
   ]
  },
  {
   "cell_type": "code",
   "execution_count": 53,
   "id": "operational-court",
   "metadata": {},
   "outputs": [
    {
     "name": "stdout",
     "output_type": "stream",
     "text": [
      "[12, 100, 100, 150, 12] 19.636562127593386\n",
      "[12, 50, 100, 150, 12] 20.52709134871789\n",
      "[12, 50, 100, 1, 12] 23.466501566662856\n"
     ]
    }
   ],
   "source": [
    "for cfg, error in scores[:3]:\n",
    "    print(cfg, error)"
   ]
  },
  {
   "cell_type": "markdown",
   "id": "blond-bleeding",
   "metadata": {},
   "source": [
    "# Convolutional Neural Network Model"
   ]
  },
  {
   "cell_type": "code",
   "execution_count": 54,
   "id": "excellent-chocolate",
   "metadata": {},
   "outputs": [],
   "source": [
    "from tensorflow.keras.layers import Conv1D, MaxPooling1D, Flatten"
   ]
  },
  {
   "cell_type": "code",
   "execution_count": 79,
   "id": "every-multimedia",
   "metadata": {},
   "outputs": [],
   "source": [
    "def model_fit(train, config):\n",
    "    n_input, n_filters, n_kernel, n_epochs, n_batch, n_diff = config\n",
    "    if n_diff > 0:\n",
    "        train = difference(train, n_diff)\n",
    "    data = series_to_supervised(train, n_input)\n",
    "    train_x, train_y = data[:, :-1], data[:, -1]\n",
    "    n_features = 1\n",
    "    train_x = train_x.reshape((train_x.shape[0], train_x.shape[1], n_features))\n",
    "    \n",
    "    inputs = Input(shape = (n_input, n_features))\n",
    "    c = Conv1D(filters=n_filters, kernel_size=n_kernel, activation='relu')(inputs)\n",
    "    c = MaxPooling1D(pool_size=2)(c)\n",
    "    c = Flatten()(c)\n",
    "    c = Dense(1)(c)\n",
    "    model = Model(inputs, c)\n",
    "    model.compile(loss='mse', optimizer='adam')\n",
    "    model.fit(train_x, train_y, epochs=n_epochs, batch_size=n_batch, verbose=0)\n",
    "    return model"
   ]
  },
  {
   "cell_type": "code",
   "execution_count": 80,
   "id": "ecological-apache",
   "metadata": {},
   "outputs": [],
   "source": [
    "def model_predict(model, history, config):\n",
    "    n_input, _, _, _, _, n_diff = config\n",
    "    correction = 0.0\n",
    "    if n_diff > 0:\n",
    "        correction = history[-n_diff]\n",
    "        history = difference(history, n_diff)\n",
    "    x_input = np.array(history[-n_input:]).reshape((1, n_input, 1))\n",
    "    yhat = model.predict(x_input, verbose=0)\n",
    "    return correction + yhat[0]"
   ]
  },
  {
   "cell_type": "code",
   "execution_count": 81,
   "id": "amateur-privacy",
   "metadata": {},
   "outputs": [],
   "source": [
    "def model_configs():\n",
    "    n_input = [12]\n",
    "    n_filters = [32, 64]\n",
    "    n_kernels = [3, 5]\n",
    "    n_epochs = [100]\n",
    "    n_batch = [1, 150]\n",
    "    n_diff = [0, 12]\n",
    "    configs = list()\n",
    "    for i in n_input:\n",
    "        for f in n_filters:\n",
    "            for k in n_kernels:\n",
    "                for e in n_epochs:\n",
    "                    for b in n_batch:\n",
    "                        for d in n_diff:\n",
    "                            cfg = [i,f,k,e,b,d]\n",
    "                            configs.append(cfg)\n",
    "    print('Total configs: %d' % len(configs))\n",
    "    return configs"
   ]
  },
  {
   "cell_type": "code",
   "execution_count": 82,
   "id": "peaceful-facial",
   "metadata": {},
   "outputs": [
    {
     "name": "stdout",
     "output_type": "stream",
     "text": [
      "Total configs: 16\n"
     ]
    }
   ],
   "source": [
    "data = df.values\n",
    "n_test = 12\n",
    "cfg_list = model_configs()"
   ]
  },
  {
   "cell_type": "code",
   "execution_count": 83,
   "id": "reserved-repair",
   "metadata": {},
   "outputs": [
    {
     "name": "stdout",
     "output_type": "stream",
     "text": [
      " > 47.249\n",
      " > 45.081\n",
      " > 48.921\n",
      " > 53.223\n",
      " > 52.329\n",
      " > 44.923\n",
      " > 45.864\n",
      " > 47.325\n",
      " > 50.122\n",
      " > 48.942\n",
      "> Model[[12, 32, 3, 100, 1, 0]] 48.398\n",
      " > 22.722\n",
      " > 22.948\n",
      " > 23.004\n",
      " > 22.826\n",
      " > 25.132\n",
      " > 24.070\n",
      " > 19.919\n",
      " > 20.374\n",
      " > 22.439\n",
      " > 21.342\n",
      "> Model[[12, 32, 3, 100, 1, 12]] 22.478\n",
      " > 87.591\n",
      " > 71.742\n",
      " > 72.777\n",
      " > 86.176\n",
      " > 85.378\n",
      " > 77.785\n",
      " > 82.671\n",
      " > 81.630\n",
      " > 73.620\n",
      " > 99.254\n",
      "> Model[[12, 32, 3, 100, 150, 0]] 81.862\n",
      " > 16.768\n",
      " > 20.325\n",
      " > 17.774\n",
      " > 18.769\n",
      " > 18.514\n",
      " > 19.372\n",
      " > 18.657\n",
      " > 19.387\n",
      " > 18.729\n",
      " > 18.400\n",
      "> Model[[12, 32, 3, 100, 150, 12]] 18.670\n",
      " > 44.011\n",
      " > 49.398\n",
      " > 48.546\n",
      " > 47.447\n",
      " > 48.803\n",
      " > 51.190\n",
      " > 48.730\n",
      " > 51.964\n",
      " > 52.589\n",
      " > 52.124\n",
      "> Model[[12, 32, 5, 100, 1, 0]] 49.480\n",
      " > 24.394\n",
      " > 26.451\n",
      " > 21.812\n",
      " > 21.454\n",
      " > 22.227\n",
      " > 20.732\n",
      " > 23.250\n",
      " > 22.345\n",
      " > 19.715\n",
      " > 20.909\n",
      "> Model[[12, 32, 5, 100, 1, 12]] 22.329\n",
      " > 87.418\n",
      " > 81.760\n",
      " > 94.748\n",
      " > 75.390\n",
      " > 86.193\n",
      " > 82.786\n",
      " > 84.563\n",
      " > 77.004\n",
      " > 76.821\n",
      " > 102.390\n",
      "> Model[[12, 32, 5, 100, 150, 0]] 84.907\n",
      " > 18.233\n",
      " > 19.203\n",
      " > 17.678\n",
      " > 18.844\n",
      " > 18.018\n",
      " > 19.196\n",
      " > 17.529\n",
      " > 20.350\n",
      " > 19.876\n",
      " > 19.433\n",
      "> Model[[12, 32, 5, 100, 150, 12]] 18.836\n",
      " > 48.962\n",
      " > 47.630\n",
      " > 49.683\n",
      " > 48.247\n",
      " > 46.897\n",
      " > 51.565\n",
      " > 47.477\n",
      " > 53.042\n",
      " > 55.216\n",
      " > 50.512\n",
      "> Model[[12, 64, 3, 100, 1, 0]] 49.923\n",
      " > 23.676\n",
      " > 20.457\n",
      " > 19.057\n",
      " > 20.321\n",
      " > 19.937\n",
      " > 22.817\n",
      " > 23.203\n",
      " > 22.410\n",
      " > 20.773\n",
      " > 21.693\n",
      "> Model[[12, 64, 3, 100, 1, 12]] 21.434\n",
      " > 79.272\n",
      " > 71.750\n",
      " > 75.528\n",
      " > 80.481\n",
      " > 83.765\n",
      " > 79.830\n",
      " > 90.654\n",
      " > 92.585\n",
      " > 81.677\n",
      " > 77.661\n",
      "> Model[[12, 64, 3, 100, 150, 0]] 81.321\n",
      " > 18.528\n",
      " > 20.106\n",
      " > 19.572\n",
      " > 18.329\n",
      " > 18.539\n",
      " > 18.396\n",
      " > 19.589\n",
      " > 18.426\n",
      " > 20.116\n",
      " > 18.518\n",
      "> Model[[12, 64, 3, 100, 150, 12]] 19.012\n",
      " > 54.192\n",
      " > 51.961\n",
      " > 53.756\n",
      " > 56.941\n",
      " > 59.096\n",
      " > 52.380\n",
      " > 48.914\n",
      " > 53.451\n",
      " > 53.038\n",
      " > 52.624\n",
      "> Model[[12, 64, 5, 100, 1, 0]] 53.635\n",
      " > 24.491\n",
      " > 24.118\n",
      " > 25.305\n",
      " > 22.334\n",
      " > 27.634\n",
      " > 22.954\n",
      " > 26.640\n",
      " > 25.565\n",
      " > 24.410\n",
      " > 25.036\n",
      "> Model[[12, 64, 5, 100, 1, 12]] 24.849\n",
      " > 76.747\n",
      " > 78.579\n",
      " > 80.098\n",
      " > 88.009\n",
      " > 87.798\n",
      " > 95.512\n",
      " > 82.159\n",
      " > 83.892\n",
      " > 79.907\n",
      " > 68.189\n",
      "> Model[[12, 64, 5, 100, 150, 0]] 82.089\n",
      " > 20.487\n",
      " > 19.516\n",
      " > 18.086\n",
      " > 19.549\n",
      " > 19.924\n",
      " > 19.473\n",
      " > 19.396\n",
      " > 18.933\n",
      " > 20.540\n",
      " > 19.097\n",
      "> Model[[12, 64, 5, 100, 150, 12]] 19.500\n",
      "Running Time : 646 seconds\n"
     ]
    }
   ],
   "source": [
    "s = time.time()\n",
    "scores = grid_search(data, cfg_list, n_test)\n",
    "e = time.time()\n",
    "print('Running Time : %d seconds' % (e-s))"
   ]
  },
  {
   "cell_type": "markdown",
   "id": "extended-teaching",
   "metadata": {},
   "source": [
    "# LSTM Network Model"
   ]
  },
  {
   "cell_type": "code",
   "execution_count": 84,
   "id": "appropriate-brooklyn",
   "metadata": {},
   "outputs": [],
   "source": [
    "from tensorflow.keras.layers import LSTM"
   ]
  },
  {
   "cell_type": "code",
   "execution_count": 85,
   "id": "gorgeous-perry",
   "metadata": {},
   "outputs": [],
   "source": [
    "def model_fit(train, config):\n",
    "    n_input, n_nodes, n_epochs, n_batch, n_diff = config\n",
    "    if n_diff > 0:\n",
    "        train = difference(train, n_diff)\n",
    "    data = series_to_supervised(train, n_in = n_input)\n",
    "    train_x, train_y = data[:, :-1], data[:, -1]\n",
    "    n_features = 1\n",
    "    train_x = train_x.reshape((train_x.shape[0], train_x.shape[1], n_features))\n",
    "    inputs = Input(shape=(n_input, n_features))\n",
    "    l = LSTM(n_nodes, activation='relu')(inputs)\n",
    "    l = Dense(n_nodes, activation='relu')(l)\n",
    "    l = Dense(1)(l)\n",
    "    model = Model(inputs, l)\n",
    "    model.compile(loss='mse', optimizer='adam')\n",
    "    model.fit(train_x, train_y, epochs=n_epochs, batch_size=n_batch, verbose=0)\n",
    "    return model"
   ]
  },
  {
   "cell_type": "code",
   "execution_count": 86,
   "id": "excited-tutorial",
   "metadata": {},
   "outputs": [],
   "source": [
    "def model_predict(model, history, config):\n",
    "    n_input, _, _, _, n_diff = config\n",
    "    correction = 0.0\n",
    "    if n_diff> 0:\n",
    "        correction = history[-n_diff]\n",
    "        history = difference(history, n_diff)\n",
    "    x_input = np.array(history[-n_input:]).reshape((1, n_input, 1))\n",
    "    yhat = model.predict(x_input, verbose=0)\n",
    "    return correction + yhat[0]"
   ]
  },
  {
   "cell_type": "code",
   "execution_count": 89,
   "id": "compound-harmony",
   "metadata": {},
   "outputs": [],
   "source": [
    "def model_configs():\n",
    "    n_input = [12]\n",
    "    n_nodes = [100, 150]\n",
    "    n_epochs = [50]\n",
    "    n_batch = [1, 150]\n",
    "    n_diff = [12]\n",
    "    configs = list()\n",
    "    for i in n_input:\n",
    "        for n in n_nodes:\n",
    "            for e in n_epochs:\n",
    "                for b in n_batch:\n",
    "                    for d in n_diff:\n",
    "                        cfg = [i,n,e,b,d]\n",
    "                        configs.append(cfg)\n",
    "    print('Total configs: %d' % len(configs))\n",
    "    return configs"
   ]
  },
  {
   "cell_type": "code",
   "execution_count": 90,
   "id": "pressing-wheel",
   "metadata": {},
   "outputs": [
    {
     "name": "stdout",
     "output_type": "stream",
     "text": [
      "Total configs: 4\n"
     ]
    }
   ],
   "source": [
    "data = df.values\n",
    "n_test = 12\n",
    "cfg_list = model_configs()"
   ]
  },
  {
   "cell_type": "code",
   "execution_count": 91,
   "id": "departmental-compromise",
   "metadata": {},
   "outputs": [
    {
     "name": "stdout",
     "output_type": "stream",
     "text": [
      "WARNING:tensorflow:Layer lstm will not use cuDNN kernel since it doesn't meet the cuDNN kernel criteria. It will use generic GPU kernel as fallback when running on GPU\n",
      " > 25.113\n",
      "WARNING:tensorflow:Layer lstm_1 will not use cuDNN kernel since it doesn't meet the cuDNN kernel criteria. It will use generic GPU kernel as fallback when running on GPU\n",
      " > 23.377\n",
      "WARNING:tensorflow:Layer lstm_2 will not use cuDNN kernel since it doesn't meet the cuDNN kernel criteria. It will use generic GPU kernel as fallback when running on GPU\n",
      " > 15.627\n",
      "WARNING:tensorflow:Layer lstm_3 will not use cuDNN kernel since it doesn't meet the cuDNN kernel criteria. It will use generic GPU kernel as fallback when running on GPU\n",
      " > 29.399\n",
      "WARNING:tensorflow:Layer lstm_4 will not use cuDNN kernel since it doesn't meet the cuDNN kernel criteria. It will use generic GPU kernel as fallback when running on GPU\n",
      " > 22.826\n",
      "WARNING:tensorflow:Layer lstm_5 will not use cuDNN kernel since it doesn't meet the cuDNN kernel criteria. It will use generic GPU kernel as fallback when running on GPU\n",
      " > 23.346\n",
      "WARNING:tensorflow:Layer lstm_6 will not use cuDNN kernel since it doesn't meet the cuDNN kernel criteria. It will use generic GPU kernel as fallback when running on GPU\n",
      " > 24.506\n",
      "WARNING:tensorflow:Layer lstm_7 will not use cuDNN kernel since it doesn't meet the cuDNN kernel criteria. It will use generic GPU kernel as fallback when running on GPU\n",
      " > 24.279\n",
      "WARNING:tensorflow:Layer lstm_8 will not use cuDNN kernel since it doesn't meet the cuDNN kernel criteria. It will use generic GPU kernel as fallback when running on GPU\n",
      " > 22.754\n",
      "WARNING:tensorflow:Layer lstm_9 will not use cuDNN kernel since it doesn't meet the cuDNN kernel criteria. It will use generic GPU kernel as fallback when running on GPU\n",
      " > 25.609\n",
      "> Model[[12, 100, 50, 1, 12]] 23.684\n",
      "WARNING:tensorflow:Layer lstm_10 will not use cuDNN kernel since it doesn't meet the cuDNN kernel criteria. It will use generic GPU kernel as fallback when running on GPU\n",
      " > 19.182\n",
      "WARNING:tensorflow:Layer lstm_11 will not use cuDNN kernel since it doesn't meet the cuDNN kernel criteria. It will use generic GPU kernel as fallback when running on GPU\n",
      " > 19.516\n",
      "WARNING:tensorflow:Layer lstm_12 will not use cuDNN kernel since it doesn't meet the cuDNN kernel criteria. It will use generic GPU kernel as fallback when running on GPU\n",
      " > 17.153\n",
      "WARNING:tensorflow:Layer lstm_13 will not use cuDNN kernel since it doesn't meet the cuDNN kernel criteria. It will use generic GPU kernel as fallback when running on GPU\n",
      " > 21.000\n",
      "WARNING:tensorflow:Layer lstm_14 will not use cuDNN kernel since it doesn't meet the cuDNN kernel criteria. It will use generic GPU kernel as fallback when running on GPU\n",
      " > 23.508\n",
      "WARNING:tensorflow:Layer lstm_15 will not use cuDNN kernel since it doesn't meet the cuDNN kernel criteria. It will use generic GPU kernel as fallback when running on GPU\n",
      " > 21.552\n",
      "WARNING:tensorflow:Layer lstm_16 will not use cuDNN kernel since it doesn't meet the cuDNN kernel criteria. It will use generic GPU kernel as fallback when running on GPU\n",
      " > 20.273\n",
      "WARNING:tensorflow:Layer lstm_17 will not use cuDNN kernel since it doesn't meet the cuDNN kernel criteria. It will use generic GPU kernel as fallback when running on GPU\n",
      " > 23.584\n",
      "WARNING:tensorflow:Layer lstm_18 will not use cuDNN kernel since it doesn't meet the cuDNN kernel criteria. It will use generic GPU kernel as fallback when running on GPU\n",
      " > 18.860\n",
      "WARNING:tensorflow:Layer lstm_19 will not use cuDNN kernel since it doesn't meet the cuDNN kernel criteria. It will use generic GPU kernel as fallback when running on GPU\n",
      " > 25.382\n",
      "> Model[[12, 100, 50, 150, 12]] 21.001\n",
      "WARNING:tensorflow:Layer lstm_20 will not use cuDNN kernel since it doesn't meet the cuDNN kernel criteria. It will use generic GPU kernel as fallback when running on GPU\n",
      " > 24.963\n",
      "WARNING:tensorflow:Layer lstm_21 will not use cuDNN kernel since it doesn't meet the cuDNN kernel criteria. It will use generic GPU kernel as fallback when running on GPU\n",
      " > 24.748\n",
      "WARNING:tensorflow:Layer lstm_22 will not use cuDNN kernel since it doesn't meet the cuDNN kernel criteria. It will use generic GPU kernel as fallback when running on GPU\n",
      " > 38.519\n",
      "WARNING:tensorflow:Layer lstm_23 will not use cuDNN kernel since it doesn't meet the cuDNN kernel criteria. It will use generic GPU kernel as fallback when running on GPU\n",
      " > 25.252\n",
      "WARNING:tensorflow:Layer lstm_24 will not use cuDNN kernel since it doesn't meet the cuDNN kernel criteria. It will use generic GPU kernel as fallback when running on GPU\n",
      " > 21.059\n",
      "WARNING:tensorflow:Layer lstm_25 will not use cuDNN kernel since it doesn't meet the cuDNN kernel criteria. It will use generic GPU kernel as fallback when running on GPU\n",
      " > 25.087\n",
      "WARNING:tensorflow:Layer lstm_26 will not use cuDNN kernel since it doesn't meet the cuDNN kernel criteria. It will use generic GPU kernel as fallback when running on GPU\n",
      " > 24.327\n",
      "WARNING:tensorflow:Layer lstm_27 will not use cuDNN kernel since it doesn't meet the cuDNN kernel criteria. It will use generic GPU kernel as fallback when running on GPU\n",
      " > 26.631\n",
      "WARNING:tensorflow:Layer lstm_28 will not use cuDNN kernel since it doesn't meet the cuDNN kernel criteria. It will use generic GPU kernel as fallback when running on GPU\n",
      " > 26.005\n",
      "WARNING:tensorflow:Layer lstm_29 will not use cuDNN kernel since it doesn't meet the cuDNN kernel criteria. It will use generic GPU kernel as fallback when running on GPU\n",
      " > 25.943\n",
      "> Model[[12, 150, 50, 1, 12]] 26.254\n",
      "WARNING:tensorflow:Layer lstm_30 will not use cuDNN kernel since it doesn't meet the cuDNN kernel criteria. It will use generic GPU kernel as fallback when running on GPU\n",
      " > 18.240\n",
      "WARNING:tensorflow:Layer lstm_31 will not use cuDNN kernel since it doesn't meet the cuDNN kernel criteria. It will use generic GPU kernel as fallback when running on GPU\n",
      " > 23.056\n",
      "WARNING:tensorflow:Layer lstm_32 will not use cuDNN kernel since it doesn't meet the cuDNN kernel criteria. It will use generic GPU kernel as fallback when running on GPU\n",
      " > 21.645\n",
      "WARNING:tensorflow:Layer lstm_33 will not use cuDNN kernel since it doesn't meet the cuDNN kernel criteria. It will use generic GPU kernel as fallback when running on GPU\n",
      " > 20.914\n",
      "WARNING:tensorflow:Layer lstm_34 will not use cuDNN kernel since it doesn't meet the cuDNN kernel criteria. It will use generic GPU kernel as fallback when running on GPU\n",
      " > 23.832\n",
      "WARNING:tensorflow:Layer lstm_35 will not use cuDNN kernel since it doesn't meet the cuDNN kernel criteria. It will use generic GPU kernel as fallback when running on GPU\n",
      " > 23.689\n",
      "WARNING:tensorflow:Layer lstm_36 will not use cuDNN kernel since it doesn't meet the cuDNN kernel criteria. It will use generic GPU kernel as fallback when running on GPU\n",
      " > 22.335\n",
      "WARNING:tensorflow:Layer lstm_37 will not use cuDNN kernel since it doesn't meet the cuDNN kernel criteria. It will use generic GPU kernel as fallback when running on GPU\n",
      " > 22.073\n",
      "WARNING:tensorflow:Layer lstm_38 will not use cuDNN kernel since it doesn't meet the cuDNN kernel criteria. It will use generic GPU kernel as fallback when running on GPU\n",
      " > 21.387\n",
      "WARNING:tensorflow:Layer lstm_39 will not use cuDNN kernel since it doesn't meet the cuDNN kernel criteria. It will use generic GPU kernel as fallback when running on GPU\n",
      " > 20.015\n",
      "> Model[[12, 150, 50, 150, 12]] 21.719\n",
      "Running Time : 479 seconds\n"
     ]
    }
   ],
   "source": [
    "s = time.time()\n",
    "scores = grid_search(data, cfg_list, n_test)\n",
    "e = time.time()\n",
    "print('Running Time : %d seconds' % (e-s))"
   ]
  },
  {
   "cell_type": "code",
   "execution_count": 92,
   "id": "allied-heath",
   "metadata": {},
   "outputs": [
    {
     "name": "stdout",
     "output_type": "stream",
     "text": [
      "[12, 100, 50, 150, 12] 21.001008795955393\n",
      "[12, 150, 50, 150, 12] 21.718614583175615\n",
      "[12, 100, 50, 1, 12] 23.683683448772644\n"
     ]
    }
   ],
   "source": [
    "for cfg, error in scores[:3]:\n",
    "    print(cfg, error)"
   ]
  },
  {
   "cell_type": "code",
   "execution_count": null,
   "id": "atomic-patch",
   "metadata": {},
   "outputs": [],
   "source": []
  }
 ],
 "metadata": {
  "kernelspec": {
   "display_name": "Python 3",
   "language": "python",
   "name": "python3"
  },
  "language_info": {
   "codemirror_mode": {
    "name": "ipython",
    "version": 3
   },
   "file_extension": ".py",
   "mimetype": "text/x-python",
   "name": "python",
   "nbconvert_exporter": "python",
   "pygments_lexer": "ipython3",
   "version": "3.7.9"
  }
 },
 "nbformat": 4,
 "nbformat_minor": 5
}
