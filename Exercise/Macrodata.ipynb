{
 "cells": [
  {
   "cell_type": "code",
   "execution_count": 273,
   "id": "understanding-showcase",
   "metadata": {},
   "outputs": [],
   "source": [
    "import pandas as pd\n",
    "import numpy as np\n",
    "import matplotlib.pyplot as plt"
   ]
  },
  {
   "cell_type": "markdown",
   "id": "greatest-polymer",
   "metadata": {},
   "source": [
    "# Dataset"
   ]
  },
  {
   "cell_type": "code",
   "execution_count": 302,
   "id": "affecting-dream",
   "metadata": {},
   "outputs": [],
   "source": [
    "df = pd.read_csv('./Data/macrodata.csv')"
   ]
  },
  {
   "cell_type": "code",
   "execution_count": 303,
   "id": "refined-talent",
   "metadata": {},
   "outputs": [
    {
     "data": {
      "text/plain": [
       "0     1959-03-31\n",
       "1     1959-06-30\n",
       "2     1959-09-30\n",
       "3     1959-12-31\n",
       "4     1960-03-31\n",
       "         ...    \n",
       "198   2008-09-30\n",
       "199   2008-12-31\n",
       "200   2009-03-31\n",
       "201   2009-06-30\n",
       "202   2009-09-30\n",
       "Name: Unnamed: 0, Length: 203, dtype: datetime64[ns]"
      ]
     },
     "execution_count": 303,
     "metadata": {},
     "output_type": "execute_result"
    }
   ],
   "source": [
    "pd.to_datetime(df['Unnamed: 0'])"
   ]
  },
  {
   "cell_type": "code",
   "execution_count": 304,
   "id": "growing-biology",
   "metadata": {},
   "outputs": [
    {
     "data": {
      "text/html": [
       "<div>\n",
       "<style scoped>\n",
       "    .dataframe tbody tr th:only-of-type {\n",
       "        vertical-align: middle;\n",
       "    }\n",
       "\n",
       "    .dataframe tbody tr th {\n",
       "        vertical-align: top;\n",
       "    }\n",
       "\n",
       "    .dataframe thead th {\n",
       "        text-align: right;\n",
       "    }\n",
       "</style>\n",
       "<table border=\"1\" class=\"dataframe\">\n",
       "  <thead>\n",
       "    <tr style=\"text-align: right;\">\n",
       "      <th></th>\n",
       "      <th>Unnamed: 0</th>\n",
       "      <th>year</th>\n",
       "      <th>quarter</th>\n",
       "      <th>realgdp</th>\n",
       "      <th>realcons</th>\n",
       "      <th>realinv</th>\n",
       "      <th>realgovt</th>\n",
       "      <th>realdpi</th>\n",
       "      <th>cpi</th>\n",
       "      <th>m1</th>\n",
       "      <th>tbilrate</th>\n",
       "      <th>unemp</th>\n",
       "      <th>pop</th>\n",
       "      <th>infl</th>\n",
       "      <th>realint</th>\n",
       "    </tr>\n",
       "  </thead>\n",
       "  <tbody>\n",
       "    <tr>\n",
       "      <th>0</th>\n",
       "      <td>3/31/1959</td>\n",
       "      <td>1959</td>\n",
       "      <td>1</td>\n",
       "      <td>2710.349</td>\n",
       "      <td>1707.4</td>\n",
       "      <td>286.898</td>\n",
       "      <td>470.045</td>\n",
       "      <td>1886.9</td>\n",
       "      <td>28.980</td>\n",
       "      <td>139.7</td>\n",
       "      <td>2.82</td>\n",
       "      <td>5.8</td>\n",
       "      <td>177.146</td>\n",
       "      <td>0.00</td>\n",
       "      <td>0.00</td>\n",
       "    </tr>\n",
       "    <tr>\n",
       "      <th>1</th>\n",
       "      <td>6/30/1959</td>\n",
       "      <td>1959</td>\n",
       "      <td>2</td>\n",
       "      <td>2778.801</td>\n",
       "      <td>1733.7</td>\n",
       "      <td>310.859</td>\n",
       "      <td>481.301</td>\n",
       "      <td>1919.7</td>\n",
       "      <td>29.150</td>\n",
       "      <td>141.7</td>\n",
       "      <td>3.08</td>\n",
       "      <td>5.1</td>\n",
       "      <td>177.830</td>\n",
       "      <td>2.34</td>\n",
       "      <td>0.74</td>\n",
       "    </tr>\n",
       "    <tr>\n",
       "      <th>2</th>\n",
       "      <td>9/30/1959</td>\n",
       "      <td>1959</td>\n",
       "      <td>3</td>\n",
       "      <td>2775.488</td>\n",
       "      <td>1751.8</td>\n",
       "      <td>289.226</td>\n",
       "      <td>491.260</td>\n",
       "      <td>1916.4</td>\n",
       "      <td>29.350</td>\n",
       "      <td>140.5</td>\n",
       "      <td>3.82</td>\n",
       "      <td>5.3</td>\n",
       "      <td>178.657</td>\n",
       "      <td>2.74</td>\n",
       "      <td>1.09</td>\n",
       "    </tr>\n",
       "    <tr>\n",
       "      <th>3</th>\n",
       "      <td>12/31/1959</td>\n",
       "      <td>1959</td>\n",
       "      <td>4</td>\n",
       "      <td>2785.204</td>\n",
       "      <td>1753.7</td>\n",
       "      <td>299.356</td>\n",
       "      <td>484.052</td>\n",
       "      <td>1931.3</td>\n",
       "      <td>29.370</td>\n",
       "      <td>140.0</td>\n",
       "      <td>4.33</td>\n",
       "      <td>5.6</td>\n",
       "      <td>179.386</td>\n",
       "      <td>0.27</td>\n",
       "      <td>4.06</td>\n",
       "    </tr>\n",
       "    <tr>\n",
       "      <th>4</th>\n",
       "      <td>3/31/1960</td>\n",
       "      <td>1960</td>\n",
       "      <td>1</td>\n",
       "      <td>2847.699</td>\n",
       "      <td>1770.5</td>\n",
       "      <td>331.722</td>\n",
       "      <td>462.199</td>\n",
       "      <td>1955.5</td>\n",
       "      <td>29.540</td>\n",
       "      <td>139.6</td>\n",
       "      <td>3.50</td>\n",
       "      <td>5.2</td>\n",
       "      <td>180.007</td>\n",
       "      <td>2.31</td>\n",
       "      <td>1.19</td>\n",
       "    </tr>\n",
       "    <tr>\n",
       "      <th>...</th>\n",
       "      <td>...</td>\n",
       "      <td>...</td>\n",
       "      <td>...</td>\n",
       "      <td>...</td>\n",
       "      <td>...</td>\n",
       "      <td>...</td>\n",
       "      <td>...</td>\n",
       "      <td>...</td>\n",
       "      <td>...</td>\n",
       "      <td>...</td>\n",
       "      <td>...</td>\n",
       "      <td>...</td>\n",
       "      <td>...</td>\n",
       "      <td>...</td>\n",
       "      <td>...</td>\n",
       "    </tr>\n",
       "    <tr>\n",
       "      <th>198</th>\n",
       "      <td>9/30/2008</td>\n",
       "      <td>2008</td>\n",
       "      <td>3</td>\n",
       "      <td>13324.600</td>\n",
       "      <td>9267.7</td>\n",
       "      <td>1990.693</td>\n",
       "      <td>991.551</td>\n",
       "      <td>9838.3</td>\n",
       "      <td>216.889</td>\n",
       "      <td>1474.7</td>\n",
       "      <td>1.17</td>\n",
       "      <td>6.0</td>\n",
       "      <td>305.270</td>\n",
       "      <td>-3.16</td>\n",
       "      <td>4.33</td>\n",
       "    </tr>\n",
       "    <tr>\n",
       "      <th>199</th>\n",
       "      <td>12/31/2008</td>\n",
       "      <td>2008</td>\n",
       "      <td>4</td>\n",
       "      <td>13141.920</td>\n",
       "      <td>9195.3</td>\n",
       "      <td>1857.661</td>\n",
       "      <td>1007.273</td>\n",
       "      <td>9920.4</td>\n",
       "      <td>212.174</td>\n",
       "      <td>1576.5</td>\n",
       "      <td>0.12</td>\n",
       "      <td>6.9</td>\n",
       "      <td>305.952</td>\n",
       "      <td>-8.79</td>\n",
       "      <td>8.91</td>\n",
       "    </tr>\n",
       "    <tr>\n",
       "      <th>200</th>\n",
       "      <td>3/31/2009</td>\n",
       "      <td>2009</td>\n",
       "      <td>1</td>\n",
       "      <td>12925.410</td>\n",
       "      <td>9209.2</td>\n",
       "      <td>1558.494</td>\n",
       "      <td>996.287</td>\n",
       "      <td>9926.4</td>\n",
       "      <td>212.671</td>\n",
       "      <td>1592.8</td>\n",
       "      <td>0.22</td>\n",
       "      <td>8.1</td>\n",
       "      <td>306.547</td>\n",
       "      <td>0.94</td>\n",
       "      <td>-0.71</td>\n",
       "    </tr>\n",
       "    <tr>\n",
       "      <th>201</th>\n",
       "      <td>6/30/2009</td>\n",
       "      <td>2009</td>\n",
       "      <td>2</td>\n",
       "      <td>12901.504</td>\n",
       "      <td>9189.0</td>\n",
       "      <td>1456.678</td>\n",
       "      <td>1023.528</td>\n",
       "      <td>10077.5</td>\n",
       "      <td>214.469</td>\n",
       "      <td>1653.6</td>\n",
       "      <td>0.18</td>\n",
       "      <td>9.2</td>\n",
       "      <td>307.226</td>\n",
       "      <td>3.37</td>\n",
       "      <td>-3.19</td>\n",
       "    </tr>\n",
       "    <tr>\n",
       "      <th>202</th>\n",
       "      <td>9/30/2009</td>\n",
       "      <td>2009</td>\n",
       "      <td>3</td>\n",
       "      <td>12990.341</td>\n",
       "      <td>9256.0</td>\n",
       "      <td>1486.398</td>\n",
       "      <td>1044.088</td>\n",
       "      <td>10040.6</td>\n",
       "      <td>216.385</td>\n",
       "      <td>1673.9</td>\n",
       "      <td>0.12</td>\n",
       "      <td>9.6</td>\n",
       "      <td>308.013</td>\n",
       "      <td>3.56</td>\n",
       "      <td>-3.44</td>\n",
       "    </tr>\n",
       "  </tbody>\n",
       "</table>\n",
       "<p>203 rows × 15 columns</p>\n",
       "</div>"
      ],
      "text/plain": [
       "     Unnamed: 0  year  quarter    realgdp  realcons   realinv  realgovt  \\\n",
       "0     3/31/1959  1959        1   2710.349    1707.4   286.898   470.045   \n",
       "1     6/30/1959  1959        2   2778.801    1733.7   310.859   481.301   \n",
       "2     9/30/1959  1959        3   2775.488    1751.8   289.226   491.260   \n",
       "3    12/31/1959  1959        4   2785.204    1753.7   299.356   484.052   \n",
       "4     3/31/1960  1960        1   2847.699    1770.5   331.722   462.199   \n",
       "..          ...   ...      ...        ...       ...       ...       ...   \n",
       "198   9/30/2008  2008        3  13324.600    9267.7  1990.693   991.551   \n",
       "199  12/31/2008  2008        4  13141.920    9195.3  1857.661  1007.273   \n",
       "200   3/31/2009  2009        1  12925.410    9209.2  1558.494   996.287   \n",
       "201   6/30/2009  2009        2  12901.504    9189.0  1456.678  1023.528   \n",
       "202   9/30/2009  2009        3  12990.341    9256.0  1486.398  1044.088   \n",
       "\n",
       "     realdpi      cpi      m1  tbilrate  unemp      pop  infl  realint  \n",
       "0     1886.9   28.980   139.7      2.82    5.8  177.146  0.00     0.00  \n",
       "1     1919.7   29.150   141.7      3.08    5.1  177.830  2.34     0.74  \n",
       "2     1916.4   29.350   140.5      3.82    5.3  178.657  2.74     1.09  \n",
       "3     1931.3   29.370   140.0      4.33    5.6  179.386  0.27     4.06  \n",
       "4     1955.5   29.540   139.6      3.50    5.2  180.007  2.31     1.19  \n",
       "..       ...      ...     ...       ...    ...      ...   ...      ...  \n",
       "198   9838.3  216.889  1474.7      1.17    6.0  305.270 -3.16     4.33  \n",
       "199   9920.4  212.174  1576.5      0.12    6.9  305.952 -8.79     8.91  \n",
       "200   9926.4  212.671  1592.8      0.22    8.1  306.547  0.94    -0.71  \n",
       "201  10077.5  214.469  1653.6      0.18    9.2  307.226  3.37    -3.19  \n",
       "202  10040.6  216.385  1673.9      0.12    9.6  308.013  3.56    -3.44  \n",
       "\n",
       "[203 rows x 15 columns]"
      ]
     },
     "execution_count": 304,
     "metadata": {},
     "output_type": "execute_result"
    }
   ],
   "source": [
    "df"
   ]
  },
  {
   "cell_type": "code",
   "execution_count": 305,
   "id": "occupational-subsection",
   "metadata": {},
   "outputs": [],
   "source": [
    "df['Unnamed: 0'] = pd.to_datetime(df['Unnamed: 0'])"
   ]
  },
  {
   "cell_type": "code",
   "execution_count": 306,
   "id": "greatest-flour",
   "metadata": {},
   "outputs": [],
   "source": [
    "df.rename(columns = {'Unnamed: 0' : 'date'}, inplace=True)"
   ]
  },
  {
   "cell_type": "code",
   "execution_count": 307,
   "id": "exciting-middle",
   "metadata": {},
   "outputs": [],
   "source": [
    "df.index = df['date']"
   ]
  },
  {
   "cell_type": "code",
   "execution_count": 308,
   "id": "japanese-earth",
   "metadata": {},
   "outputs": [],
   "source": [
    "features = df.drop(['date','year','quarter'],axis=1)"
   ]
  },
  {
   "cell_type": "code",
   "execution_count": 309,
   "id": "adult-bouquet",
   "metadata": {},
   "outputs": [],
   "source": [
    "target = df[['realgdp']]"
   ]
  },
  {
   "cell_type": "code",
   "execution_count": 310,
   "id": "virgin-representative",
   "metadata": {},
   "outputs": [],
   "source": [
    "features = features.drop(['realgdp'], axis=1)"
   ]
  },
  {
   "cell_type": "code",
   "execution_count": 312,
   "id": "missing-possession",
   "metadata": {},
   "outputs": [],
   "source": [
    "n_obs = 30"
   ]
  },
  {
   "cell_type": "code",
   "execution_count": 313,
   "id": "vocational-limitation",
   "metadata": {},
   "outputs": [],
   "source": [
    "x_train = features.iloc[:-n_obs]\n",
    "y_train = target.iloc[:-n_obs]\n",
    "x_test = features.iloc[-n_obs:]\n",
    "y_test = target.iloc[-n_obs:]"
   ]
  },
  {
   "cell_type": "code",
   "execution_count": 84,
   "id": "nervous-valuable",
   "metadata": {},
   "outputs": [
    {
     "data": {
      "text/html": [
       "<div>\n",
       "<style scoped>\n",
       "    .dataframe tbody tr th:only-of-type {\n",
       "        vertical-align: middle;\n",
       "    }\n",
       "\n",
       "    .dataframe tbody tr th {\n",
       "        vertical-align: top;\n",
       "    }\n",
       "\n",
       "    .dataframe thead th {\n",
       "        text-align: right;\n",
       "    }\n",
       "</style>\n",
       "<table border=\"1\" class=\"dataframe\">\n",
       "  <thead>\n",
       "    <tr style=\"text-align: right;\">\n",
       "      <th></th>\n",
       "      <th>realcons</th>\n",
       "      <th>realinv</th>\n",
       "      <th>realgovt</th>\n",
       "      <th>realdpi</th>\n",
       "      <th>cpi</th>\n",
       "      <th>m1</th>\n",
       "      <th>tbilrate</th>\n",
       "      <th>unemp</th>\n",
       "      <th>pop</th>\n",
       "      <th>infl</th>\n",
       "      <th>realint</th>\n",
       "    </tr>\n",
       "    <tr>\n",
       "      <th>date</th>\n",
       "      <th></th>\n",
       "      <th></th>\n",
       "      <th></th>\n",
       "      <th></th>\n",
       "      <th></th>\n",
       "      <th></th>\n",
       "      <th></th>\n",
       "      <th></th>\n",
       "      <th></th>\n",
       "      <th></th>\n",
       "      <th></th>\n",
       "    </tr>\n",
       "  </thead>\n",
       "  <tbody>\n",
       "    <tr>\n",
       "      <th>1959-03-31</th>\n",
       "      <td>1707.4</td>\n",
       "      <td>286.898</td>\n",
       "      <td>470.045</td>\n",
       "      <td>1886.9</td>\n",
       "      <td>28.98</td>\n",
       "      <td>139.7</td>\n",
       "      <td>2.82</td>\n",
       "      <td>5.8</td>\n",
       "      <td>177.146</td>\n",
       "      <td>0.00</td>\n",
       "      <td>0.00</td>\n",
       "    </tr>\n",
       "    <tr>\n",
       "      <th>1959-06-30</th>\n",
       "      <td>1733.7</td>\n",
       "      <td>310.859</td>\n",
       "      <td>481.301</td>\n",
       "      <td>1919.7</td>\n",
       "      <td>29.15</td>\n",
       "      <td>141.7</td>\n",
       "      <td>3.08</td>\n",
       "      <td>5.1</td>\n",
       "      <td>177.830</td>\n",
       "      <td>2.34</td>\n",
       "      <td>0.74</td>\n",
       "    </tr>\n",
       "    <tr>\n",
       "      <th>1959-09-30</th>\n",
       "      <td>1751.8</td>\n",
       "      <td>289.226</td>\n",
       "      <td>491.260</td>\n",
       "      <td>1916.4</td>\n",
       "      <td>29.35</td>\n",
       "      <td>140.5</td>\n",
       "      <td>3.82</td>\n",
       "      <td>5.3</td>\n",
       "      <td>178.657</td>\n",
       "      <td>2.74</td>\n",
       "      <td>1.09</td>\n",
       "    </tr>\n",
       "    <tr>\n",
       "      <th>1959-12-31</th>\n",
       "      <td>1753.7</td>\n",
       "      <td>299.356</td>\n",
       "      <td>484.052</td>\n",
       "      <td>1931.3</td>\n",
       "      <td>29.37</td>\n",
       "      <td>140.0</td>\n",
       "      <td>4.33</td>\n",
       "      <td>5.6</td>\n",
       "      <td>179.386</td>\n",
       "      <td>0.27</td>\n",
       "      <td>4.06</td>\n",
       "    </tr>\n",
       "    <tr>\n",
       "      <th>1960-03-31</th>\n",
       "      <td>1770.5</td>\n",
       "      <td>331.722</td>\n",
       "      <td>462.199</td>\n",
       "      <td>1955.5</td>\n",
       "      <td>29.54</td>\n",
       "      <td>139.6</td>\n",
       "      <td>3.50</td>\n",
       "      <td>5.2</td>\n",
       "      <td>180.007</td>\n",
       "      <td>2.31</td>\n",
       "      <td>1.19</td>\n",
       "    </tr>\n",
       "    <tr>\n",
       "      <th>...</th>\n",
       "      <td>...</td>\n",
       "      <td>...</td>\n",
       "      <td>...</td>\n",
       "      <td>...</td>\n",
       "      <td>...</td>\n",
       "      <td>...</td>\n",
       "      <td>...</td>\n",
       "      <td>...</td>\n",
       "      <td>...</td>\n",
       "      <td>...</td>\n",
       "      <td>...</td>\n",
       "    </tr>\n",
       "    <tr>\n",
       "      <th>2001-03-31</th>\n",
       "      <td>7744.3</td>\n",
       "      <td>1882.691</td>\n",
       "      <td>710.403</td>\n",
       "      <td>8296.5</td>\n",
       "      <td>176.40</td>\n",
       "      <td>1114.9</td>\n",
       "      <td>4.39</td>\n",
       "      <td>4.2</td>\n",
       "      <td>284.550</td>\n",
       "      <td>1.82</td>\n",
       "      <td>2.57</td>\n",
       "    </tr>\n",
       "    <tr>\n",
       "      <th>2001-06-30</th>\n",
       "      <td>7773.5</td>\n",
       "      <td>1876.650</td>\n",
       "      <td>725.623</td>\n",
       "      <td>8273.7</td>\n",
       "      <td>177.40</td>\n",
       "      <td>1139.7</td>\n",
       "      <td>3.54</td>\n",
       "      <td>4.4</td>\n",
       "      <td>285.267</td>\n",
       "      <td>2.26</td>\n",
       "      <td>1.28</td>\n",
       "    </tr>\n",
       "    <tr>\n",
       "      <th>2001-09-30</th>\n",
       "      <td>7807.7</td>\n",
       "      <td>1837.074</td>\n",
       "      <td>730.493</td>\n",
       "      <td>8484.5</td>\n",
       "      <td>177.60</td>\n",
       "      <td>1166.0</td>\n",
       "      <td>2.72</td>\n",
       "      <td>4.8</td>\n",
       "      <td>286.047</td>\n",
       "      <td>0.45</td>\n",
       "      <td>2.27</td>\n",
       "    </tr>\n",
       "    <tr>\n",
       "      <th>2001-12-31</th>\n",
       "      <td>7930.0</td>\n",
       "      <td>1731.189</td>\n",
       "      <td>739.318</td>\n",
       "      <td>8385.5</td>\n",
       "      <td>177.70</td>\n",
       "      <td>1190.9</td>\n",
       "      <td>1.74</td>\n",
       "      <td>5.5</td>\n",
       "      <td>286.728</td>\n",
       "      <td>0.23</td>\n",
       "      <td>1.51</td>\n",
       "    </tr>\n",
       "    <tr>\n",
       "      <th>2002-03-31</th>\n",
       "      <td>7957.3</td>\n",
       "      <td>1789.327</td>\n",
       "      <td>756.915</td>\n",
       "      <td>8611.6</td>\n",
       "      <td>179.30</td>\n",
       "      <td>1185.9</td>\n",
       "      <td>1.75</td>\n",
       "      <td>5.7</td>\n",
       "      <td>287.328</td>\n",
       "      <td>3.59</td>\n",
       "      <td>-1.84</td>\n",
       "    </tr>\n",
       "  </tbody>\n",
       "</table>\n",
       "<p>173 rows × 11 columns</p>\n",
       "</div>"
      ],
      "text/plain": [
       "            realcons   realinv  realgovt  realdpi     cpi      m1  tbilrate  \\\n",
       "date                                                                          \n",
       "1959-03-31    1707.4   286.898   470.045   1886.9   28.98   139.7      2.82   \n",
       "1959-06-30    1733.7   310.859   481.301   1919.7   29.15   141.7      3.08   \n",
       "1959-09-30    1751.8   289.226   491.260   1916.4   29.35   140.5      3.82   \n",
       "1959-12-31    1753.7   299.356   484.052   1931.3   29.37   140.0      4.33   \n",
       "1960-03-31    1770.5   331.722   462.199   1955.5   29.54   139.6      3.50   \n",
       "...              ...       ...       ...      ...     ...     ...       ...   \n",
       "2001-03-31    7744.3  1882.691   710.403   8296.5  176.40  1114.9      4.39   \n",
       "2001-06-30    7773.5  1876.650   725.623   8273.7  177.40  1139.7      3.54   \n",
       "2001-09-30    7807.7  1837.074   730.493   8484.5  177.60  1166.0      2.72   \n",
       "2001-12-31    7930.0  1731.189   739.318   8385.5  177.70  1190.9      1.74   \n",
       "2002-03-31    7957.3  1789.327   756.915   8611.6  179.30  1185.9      1.75   \n",
       "\n",
       "            unemp      pop  infl  realint  \n",
       "date                                       \n",
       "1959-03-31    5.8  177.146  0.00     0.00  \n",
       "1959-06-30    5.1  177.830  2.34     0.74  \n",
       "1959-09-30    5.3  178.657  2.74     1.09  \n",
       "1959-12-31    5.6  179.386  0.27     4.06  \n",
       "1960-03-31    5.2  180.007  2.31     1.19  \n",
       "...           ...      ...   ...      ...  \n",
       "2001-03-31    4.2  284.550  1.82     2.57  \n",
       "2001-06-30    4.4  285.267  2.26     1.28  \n",
       "2001-09-30    4.8  286.047  0.45     2.27  \n",
       "2001-12-31    5.5  286.728  0.23     1.51  \n",
       "2002-03-31    5.7  287.328  3.59    -1.84  \n",
       "\n",
       "[173 rows x 11 columns]"
      ]
     },
     "execution_count": 84,
     "metadata": {},
     "output_type": "execute_result"
    }
   ],
   "source": [
    "x_train"
   ]
  },
  {
   "cell_type": "markdown",
   "id": "peripheral-mixer",
   "metadata": {},
   "source": [
    "# Scaling"
   ]
  },
  {
   "cell_type": "code",
   "execution_count": 137,
   "id": "approved-algebra",
   "metadata": {},
   "outputs": [],
   "source": [
    "from sklearn.preprocessing import MinMaxScaler"
   ]
  },
  {
   "cell_type": "code",
   "execution_count": 205,
   "id": "turkish-darkness",
   "metadata": {},
   "outputs": [],
   "source": [
    "scaler = MinMaxScaler()"
   ]
  },
  {
   "cell_type": "code",
   "execution_count": 206,
   "id": "rural-miami",
   "metadata": {},
   "outputs": [],
   "source": [
    "scaled_x = scaler.fit_transform(x_train)"
   ]
  },
  {
   "cell_type": "code",
   "execution_count": 207,
   "id": "amateur-armenia",
   "metadata": {},
   "outputs": [],
   "source": [
    "scaled_y = scaler.fit_transform(y_train)"
   ]
  },
  {
   "cell_type": "code",
   "execution_count": 208,
   "id": "fantastic-orbit",
   "metadata": {},
   "outputs": [],
   "source": [
    "in_seq = scaled_x.reshape((len(scaled_x), 11))"
   ]
  },
  {
   "cell_type": "code",
   "execution_count": 209,
   "id": "continuous-puzzle",
   "metadata": {},
   "outputs": [],
   "source": [
    "out_seq = scaled_y.reshape((len(scaled_y), 1))"
   ]
  },
  {
   "cell_type": "code",
   "execution_count": 210,
   "id": "antique-ireland",
   "metadata": {},
   "outputs": [],
   "source": [
    "dataset = np.hstack((in_seq, out_seq))"
   ]
  },
  {
   "cell_type": "code",
   "execution_count": 211,
   "id": "technical-publication",
   "metadata": {},
   "outputs": [],
   "source": [
    "def split_sequences(sequences, n_steps):\n",
    "    X, y = list(), list()\n",
    "    for i in range(len(sequences)):\n",
    "        end_idx = i + n_steps\n",
    "        if end_idx > len(sequences):\n",
    "            break\n",
    "        seq_x, seq_y = sequences[i:end_idx, :-1], sequences[end_idx-1, -1]\n",
    "        X.append(seq_x)\n",
    "        y.append(seq_y)\n",
    "    \n",
    "    return np.array(X), np.array(y)"
   ]
  },
  {
   "cell_type": "code",
   "execution_count": 212,
   "id": "surprised-increase",
   "metadata": {},
   "outputs": [],
   "source": [
    "X, y = split_sequences(dataset, 3)"
   ]
  },
  {
   "cell_type": "code",
   "execution_count": 213,
   "id": "naked-flashing",
   "metadata": {},
   "outputs": [],
   "source": [
    "n_steps, n_features = 3, X.shape[2]"
   ]
  },
  {
   "cell_type": "markdown",
   "id": "occupational-infrastructure",
   "metadata": {},
   "source": [
    "# Modeling"
   ]
  },
  {
   "cell_type": "code",
   "execution_count": 272,
   "id": "peripheral-socket",
   "metadata": {},
   "outputs": [],
   "source": [
    "from tensorflow.keras.layers import Dense, LSTM, Input\n",
    "from tensorflow.keras.models import Model\n",
    "from tensorflow.keras.callbacks import EarlyStopping"
   ]
  },
  {
   "cell_type": "code",
   "execution_count": 220,
   "id": "southern-kinase",
   "metadata": {},
   "outputs": [],
   "source": [
    "inputs = Input(shape=(n_steps, n_features))\n",
    "l = LSTM(150, activation='tanh')(inputs)\n",
    "d = Dense(1)(l)"
   ]
  },
  {
   "cell_type": "code",
   "execution_count": 221,
   "id": "located-balloon",
   "metadata": {},
   "outputs": [],
   "source": [
    "model = Model(inputs, d)"
   ]
  },
  {
   "cell_type": "code",
   "execution_count": 222,
   "id": "reported-enhancement",
   "metadata": {},
   "outputs": [],
   "source": [
    "model.compile(loss='mse',optimizer='adam')"
   ]
  },
  {
   "cell_type": "code",
   "execution_count": 223,
   "id": "specialized-bowling",
   "metadata": {},
   "outputs": [],
   "source": [
    "es = EarlyStopping(monitor = 'loss', patience=5)"
   ]
  },
  {
   "cell_type": "code",
   "execution_count": 224,
   "id": "looking-fitness",
   "metadata": {},
   "outputs": [
    {
     "name": "stdout",
     "output_type": "stream",
     "text": [
      "Epoch 1/200\n",
      "6/6 [==============================] - 0s 2ms/step - loss: 0.1299\n",
      "Epoch 2/200\n",
      "6/6 [==============================] - 0s 2ms/step - loss: 0.0244\n",
      "Epoch 3/200\n",
      "6/6 [==============================] - 0s 2ms/step - loss: 0.0202\n",
      "Epoch 4/200\n",
      "6/6 [==============================] - 0s 2ms/step - loss: 0.0055\n",
      "Epoch 5/200\n",
      "6/6 [==============================] - 0s 2ms/step - loss: 0.0080\n",
      "Epoch 6/200\n",
      "6/6 [==============================] - 0s 2ms/step - loss: 0.0014\n",
      "Epoch 7/200\n",
      "6/6 [==============================] - 0s 2ms/step - loss: 0.0024\n",
      "Epoch 8/200\n",
      "6/6 [==============================] - 0s 2ms/step - loss: 0.0012\n",
      "Epoch 9/200\n",
      "6/6 [==============================] - 0s 2ms/step - loss: 0.0012\n",
      "Epoch 10/200\n",
      "6/6 [==============================] - 0s 2ms/step - loss: 8.6725e-04\n",
      "Epoch 11/200\n",
      "6/6 [==============================] - 0s 2ms/step - loss: 6.6319e-04\n",
      "Epoch 12/200\n",
      "6/6 [==============================] - 0s 2ms/step - loss: 5.1760e-04\n",
      "Epoch 13/200\n",
      "6/6 [==============================] - 0s 2ms/step - loss: 4.4012e-04\n",
      "Epoch 14/200\n",
      "6/6 [==============================] - 0s 2ms/step - loss: 3.6637e-04\n",
      "Epoch 15/200\n",
      "6/6 [==============================] - 0s 2ms/step - loss: 3.3537e-04\n",
      "Epoch 16/200\n",
      "6/6 [==============================] - 0s 2ms/step - loss: 2.9829e-04\n",
      "Epoch 17/200\n",
      "6/6 [==============================] - 0s 2ms/step - loss: 2.6729e-04\n",
      "Epoch 18/200\n",
      "6/6 [==============================] - 0s 2ms/step - loss: 2.3831e-04\n",
      "Epoch 19/200\n",
      "6/6 [==============================] - 0s 2ms/step - loss: 2.2618e-04\n",
      "Epoch 20/200\n",
      "6/6 [==============================] - 0s 2ms/step - loss: 2.1158e-04\n",
      "Epoch 21/200\n",
      "6/6 [==============================] - 0s 2ms/step - loss: 2.0438e-04\n",
      "Epoch 22/200\n",
      "6/6 [==============================] - 0s 2ms/step - loss: 1.9714e-04\n",
      "Epoch 23/200\n",
      "6/6 [==============================] - 0s 2ms/step - loss: 1.9081e-04\n",
      "Epoch 24/200\n",
      "6/6 [==============================] - 0s 2ms/step - loss: 1.8447e-04\n",
      "Epoch 25/200\n",
      "6/6 [==============================] - 0s 2ms/step - loss: 1.7857e-04\n",
      "Epoch 26/200\n",
      "6/6 [==============================] - 0s 2ms/step - loss: 1.7601e-04\n",
      "Epoch 27/200\n",
      "6/6 [==============================] - 0s 2ms/step - loss: 1.6906e-04\n",
      "Epoch 28/200\n",
      "6/6 [==============================] - 0s 2ms/step - loss: 1.6887e-04\n",
      "Epoch 29/200\n",
      "6/6 [==============================] - 0s 2ms/step - loss: 1.6557e-04\n",
      "Epoch 30/200\n",
      "6/6 [==============================] - 0s 2ms/step - loss: 1.5934e-04\n",
      "Epoch 31/200\n",
      "6/6 [==============================] - 0s 2ms/step - loss: 1.5731e-04\n",
      "Epoch 32/200\n",
      "6/6 [==============================] - 0s 2ms/step - loss: 1.5397e-04\n",
      "Epoch 33/200\n",
      "6/6 [==============================] - 0s 2ms/step - loss: 1.5004e-04\n",
      "Epoch 34/200\n",
      "6/6 [==============================] - 0s 2ms/step - loss: 1.4500e-04\n",
      "Epoch 35/200\n",
      "6/6 [==============================] - 0s 2ms/step - loss: 1.4304e-04\n",
      "Epoch 36/200\n",
      "6/6 [==============================] - 0s 2ms/step - loss: 1.3961e-04\n",
      "Epoch 37/200\n",
      "6/6 [==============================] - 0s 2ms/step - loss: 1.3616e-04\n",
      "Epoch 38/200\n",
      "6/6 [==============================] - 0s 2ms/step - loss: 1.3410e-04\n",
      "Epoch 39/200\n",
      "6/6 [==============================] - 0s 2ms/step - loss: 1.2971e-04\n",
      "Epoch 40/200\n",
      "6/6 [==============================] - 0s 2ms/step - loss: 1.2938e-04\n",
      "Epoch 41/200\n",
      "6/6 [==============================] - 0s 2ms/step - loss: 1.2653e-04\n",
      "Epoch 42/200\n",
      "6/6 [==============================] - 0s 2ms/step - loss: 1.2672e-04\n",
      "Epoch 43/200\n",
      "6/6 [==============================] - 0s 2ms/step - loss: 1.2296e-04\n",
      "Epoch 44/200\n",
      "6/6 [==============================] - 0s 2ms/step - loss: 1.1705e-04\n",
      "Epoch 45/200\n",
      "6/6 [==============================] - 0s 2ms/step - loss: 1.1569e-04\n",
      "Epoch 46/200\n",
      "6/6 [==============================] - 0s 2ms/step - loss: 1.1209e-04\n",
      "Epoch 47/200\n",
      "6/6 [==============================] - 0s 2ms/step - loss: 1.0770e-04\n",
      "Epoch 48/200\n",
      "6/6 [==============================] - 0s 2ms/step - loss: 1.0664e-04\n",
      "Epoch 49/200\n",
      "6/6 [==============================] - 0s 2ms/step - loss: 1.0302e-04\n",
      "Epoch 50/200\n",
      "6/6 [==============================] - 0s 2ms/step - loss: 1.0118e-04\n",
      "Epoch 51/200\n",
      "6/6 [==============================] - 0s 2ms/step - loss: 9.9347e-05\n",
      "Epoch 52/200\n",
      "6/6 [==============================] - 0s 2ms/step - loss: 9.7781e-05\n",
      "Epoch 53/200\n",
      "6/6 [==============================] - 0s 2ms/step - loss: 9.4115e-05\n",
      "Epoch 54/200\n",
      "6/6 [==============================] - 0s 2ms/step - loss: 9.3925e-05\n",
      "Epoch 55/200\n",
      "6/6 [==============================] - 0s 2ms/step - loss: 9.3244e-05\n",
      "Epoch 56/200\n",
      "6/6 [==============================] - 0s 2ms/step - loss: 8.6954e-05\n",
      "Epoch 57/200\n",
      "6/6 [==============================] - 0s 2ms/step - loss: 8.8322e-05\n",
      "Epoch 58/200\n",
      "6/6 [==============================] - 0s 2ms/step - loss: 8.6434e-05\n",
      "Epoch 59/200\n",
      "6/6 [==============================] - 0s 2ms/step - loss: 8.1961e-05\n",
      "Epoch 60/200\n",
      "6/6 [==============================] - 0s 2ms/step - loss: 8.0444e-05\n",
      "Epoch 61/200\n",
      "6/6 [==============================] - 0s 2ms/step - loss: 7.9554e-05\n",
      "Epoch 62/200\n",
      "6/6 [==============================] - 0s 2ms/step - loss: 7.8120e-05\n",
      "Epoch 63/200\n",
      "6/6 [==============================] - 0s 2ms/step - loss: 7.5365e-05\n",
      "Epoch 64/200\n",
      "6/6 [==============================] - 0s 2ms/step - loss: 7.7316e-05\n",
      "Epoch 65/200\n",
      "6/6 [==============================] - 0s 2ms/step - loss: 7.3870e-05\n",
      "Epoch 66/200\n",
      "6/6 [==============================] - 0s 2ms/step - loss: 7.2140e-05\n",
      "Epoch 67/200\n",
      "6/6 [==============================] - 0s 2ms/step - loss: 6.8808e-05\n",
      "Epoch 68/200\n",
      "6/6 [==============================] - 0s 2ms/step - loss: 6.8808e-05\n",
      "Epoch 69/200\n",
      "6/6 [==============================] - 0s 2ms/step - loss: 6.7338e-05\n",
      "Epoch 70/200\n",
      "6/6 [==============================] - 0s 2ms/step - loss: 6.6568e-05\n",
      "Epoch 71/200\n",
      "6/6 [==============================] - 0s 2ms/step - loss: 6.5383e-05\n",
      "Epoch 72/200\n",
      "6/6 [==============================] - 0s 2ms/step - loss: 6.2519e-05\n",
      "Epoch 73/200\n",
      "6/6 [==============================] - 0s 2ms/step - loss: 6.2740e-05\n",
      "Epoch 74/200\n",
      "6/6 [==============================] - 0s 2ms/step - loss: 6.0492e-05\n",
      "Epoch 75/200\n",
      "6/6 [==============================] - 0s 2ms/step - loss: 5.9793e-05\n",
      "Epoch 76/200\n",
      "6/6 [==============================] - 0s 2ms/step - loss: 5.9639e-05\n",
      "Epoch 77/200\n",
      "6/6 [==============================] - 0s 2ms/step - loss: 6.1487e-05\n",
      "Epoch 78/200\n",
      "6/6 [==============================] - 0s 2ms/step - loss: 5.9793e-05\n",
      "Epoch 79/200\n",
      "6/6 [==============================] - 0s 2ms/step - loss: 5.9496e-05\n",
      "Epoch 80/200\n",
      "6/6 [==============================] - 0s 2ms/step - loss: 5.4747e-05\n",
      "Epoch 81/200\n",
      "6/6 [==============================] - 0s 2ms/step - loss: 5.5103e-05\n",
      "Epoch 82/200\n",
      "6/6 [==============================] - 0s 2ms/step - loss: 5.5126e-05\n",
      "Epoch 83/200\n",
      "6/6 [==============================] - 0s 2ms/step - loss: 5.5347e-05\n",
      "Epoch 84/200\n",
      "6/6 [==============================] - 0s 2ms/step - loss: 5.3074e-05\n",
      "Epoch 85/200\n",
      "6/6 [==============================] - 0s 2ms/step - loss: 5.0240e-05\n",
      "Epoch 86/200\n",
      "6/6 [==============================] - 0s 2ms/step - loss: 5.0062e-05\n",
      "Epoch 87/200\n",
      "6/6 [==============================] - 0s 2ms/step - loss: 4.8780e-05\n",
      "Epoch 88/200\n",
      "6/6 [==============================] - 0s 2ms/step - loss: 5.0195e-05\n",
      "Epoch 89/200\n",
      "6/6 [==============================] - 0s 2ms/step - loss: 4.8563e-05\n",
      "Epoch 90/200\n",
      "6/6 [==============================] - 0s 2ms/step - loss: 4.6936e-05\n",
      "Epoch 91/200\n",
      "6/6 [==============================] - 0s 2ms/step - loss: 4.7572e-05\n",
      "Epoch 92/200\n",
      "6/6 [==============================] - 0s 2ms/step - loss: 4.7585e-05\n",
      "Epoch 93/200\n",
      "6/6 [==============================] - 0s 2ms/step - loss: 4.5331e-05\n",
      "Epoch 94/200\n",
      "6/6 [==============================] - 0s 2ms/step - loss: 4.4346e-05\n",
      "Epoch 95/200\n",
      "6/6 [==============================] - 0s 2ms/step - loss: 4.4747e-05\n",
      "Epoch 96/200\n",
      "6/6 [==============================] - 0s 2ms/step - loss: 4.4662e-05\n",
      "Epoch 97/200\n",
      "6/6 [==============================] - 0s 2ms/step - loss: 4.3841e-05\n",
      "Epoch 98/200\n",
      "6/6 [==============================] - 0s 2ms/step - loss: 4.2408e-05\n",
      "Epoch 99/200\n",
      "6/6 [==============================] - 0s 2ms/step - loss: 4.2477e-05\n",
      "Epoch 100/200\n"
     ]
    },
    {
     "name": "stdout",
     "output_type": "stream",
     "text": [
      "6/6 [==============================] - 0s 2ms/step - loss: 4.5660e-05\n",
      "Epoch 101/200\n",
      "6/6 [==============================] - 0s 2ms/step - loss: 4.3387e-05\n",
      "Epoch 102/200\n",
      "6/6 [==============================] - 0s 2ms/step - loss: 4.2909e-05\n",
      "Epoch 103/200\n",
      "6/6 [==============================] - 0s 2ms/step - loss: 4.1171e-05\n",
      "Epoch 104/200\n",
      "6/6 [==============================] - 0s 2ms/step - loss: 4.0635e-05\n",
      "Epoch 105/200\n",
      "6/6 [==============================] - 0s 2ms/step - loss: 4.2548e-05\n",
      "Epoch 106/200\n",
      "6/6 [==============================] - 0s 2ms/step - loss: 3.9873e-05\n",
      "Epoch 107/200\n",
      "6/6 [==============================] - 0s 2ms/step - loss: 4.0951e-05\n",
      "Epoch 108/200\n",
      "6/6 [==============================] - 0s 2ms/step - loss: 4.0965e-05\n",
      "Epoch 109/200\n",
      "6/6 [==============================] - 0s 2ms/step - loss: 3.8992e-05\n",
      "Epoch 110/200\n",
      "6/6 [==============================] - 0s 2ms/step - loss: 3.8602e-05\n",
      "Epoch 111/200\n",
      "6/6 [==============================] - 0s 2ms/step - loss: 3.8466e-05\n",
      "Epoch 112/200\n",
      "6/6 [==============================] - 0s 2ms/step - loss: 3.8224e-05\n",
      "Epoch 113/200\n",
      "6/6 [==============================] - 0s 2ms/step - loss: 3.7100e-05\n",
      "Epoch 114/200\n",
      "6/6 [==============================] - 0s 2ms/step - loss: 3.8100e-05\n",
      "Epoch 115/200\n",
      "6/6 [==============================] - 0s 2ms/step - loss: 3.7758e-05\n",
      "Epoch 116/200\n",
      "6/6 [==============================] - 0s 2ms/step - loss: 4.0709e-05\n",
      "Epoch 117/200\n",
      "6/6 [==============================] - 0s 2ms/step - loss: 3.8155e-05\n",
      "Epoch 118/200\n",
      "6/6 [==============================] - 0s 2ms/step - loss: 3.5432e-05\n",
      "Epoch 119/200\n",
      "6/6 [==============================] - 0s 2ms/step - loss: 3.9140e-05\n",
      "Epoch 120/200\n",
      "6/6 [==============================] - 0s 2ms/step - loss: 3.6316e-05\n",
      "Epoch 121/200\n",
      "6/6 [==============================] - 0s 2ms/step - loss: 3.5990e-05\n",
      "Epoch 122/200\n",
      "6/6 [==============================] - 0s 2ms/step - loss: 3.5643e-05\n",
      "Epoch 123/200\n",
      "6/6 [==============================] - 0s 2ms/step - loss: 3.4139e-05\n",
      "Epoch 124/200\n",
      "6/6 [==============================] - 0s 2ms/step - loss: 3.5856e-05\n",
      "Epoch 125/200\n",
      "6/6 [==============================] - 0s 2ms/step - loss: 3.4373e-05\n",
      "Epoch 126/200\n",
      "6/6 [==============================] - 0s 2ms/step - loss: 3.6330e-05\n",
      "Epoch 127/200\n",
      "6/6 [==============================] - 0s 2ms/step - loss: 3.6223e-05\n",
      "Epoch 128/200\n",
      "6/6 [==============================] - 0s 2ms/step - loss: 4.0073e-05\n"
     ]
    }
   ],
   "source": [
    "hist = model.fit(X, y, epochs=200, callbacks=[es])"
   ]
  },
  {
   "cell_type": "code",
   "execution_count": 225,
   "id": "personalized-circuit",
   "metadata": {},
   "outputs": [
    {
     "data": {
      "text/plain": [
       "[<matplotlib.lines.Line2D at 0x1a071418f88>]"
      ]
     },
     "execution_count": 225,
     "metadata": {},
     "output_type": "execute_result"
    },
    {
     "data": {
      "image/png": "[encoded data removed]",
      "text/plain": [
       "<Figure size 432x288 with 1 Axes>"
      ]
     },
     "metadata": {
      "needs_background": "light"
     },
     "output_type": "display_data"
    }
   ],
   "source": [
    "plt.plot(hist.history['loss'])"
   ]
  },
  {
   "cell_type": "code",
   "execution_count": 248,
   "id": "private-recording",
   "metadata": {},
   "outputs": [],
   "source": [
    "x_test_seq = scaler.fit_transform(x_test)\n",
    "y_test_seq = scaler.fit_transform(y_test)"
   ]
  },
  {
   "cell_type": "code",
   "execution_count": 249,
   "id": "atlantic-cocktail",
   "metadata": {},
   "outputs": [
    {
     "data": {
      "text/plain": [
       "array([0.00000000e+00, 1.54278713e-02, 2.76613868e-02, 0.00000000e+00,\n",
       "       0.00000000e+00, 9.51203272e-05, 7.94701987e-02, 3.28767123e-01,\n",
       "       0.00000000e+00, 2.30931089e-01, 3.30275229e-01])"
      ]
     },
     "execution_count": 249,
     "metadata": {},
     "output_type": "execute_result"
    }
   ],
   "source": [
    "in_seq[0]"
   ]
  },
  {
   "cell_type": "code",
   "execution_count": 251,
   "id": "young-korean",
   "metadata": {},
   "outputs": [],
   "source": [
    "testset = np.hstack((x_test_seq, y_test_seq))"
   ]
  },
  {
   "cell_type": "code",
   "execution_count": 252,
   "id": "governing-vegetation",
   "metadata": {},
   "outputs": [],
   "source": [
    "seq_x_test, seq_y_test = split_sequences(testset, 3)"
   ]
  },
  {
   "cell_type": "code",
   "execution_count": 255,
   "id": "permanent-sigma",
   "metadata": {},
   "outputs": [],
   "source": [
    "predict = model.predict(seq_x_test)"
   ]
  },
  {
   "cell_type": "code",
   "execution_count": 261,
   "id": "spiritual-cocktail",
   "metadata": {},
   "outputs": [],
   "source": [
    "predict = scaler.inverse_transform(predict)"
   ]
  },
  {
   "cell_type": "code",
   "execution_count": 267,
   "id": "valued-battery",
   "metadata": {},
   "outputs": [],
   "source": [
    "predict_df = pd.DataFrame(data=predict, index=y_test[:-2].index)"
   ]
  },
  {
   "cell_type": "code",
   "execution_count": 268,
   "id": "described-anatomy",
   "metadata": {},
   "outputs": [
    {
     "data": {
      "text/plain": [
       "[<matplotlib.lines.Line2D at 0x1a071730748>]"
      ]
     },
     "execution_count": 268,
     "metadata": {},
     "output_type": "execute_result"
    },
    {
     "data": {
      "image/png": "[encoded data removed]",
      "text/plain": [
       "<Figure size 432x288 with 1 Axes>"
      ]
     },
     "metadata": {
      "needs_background": "light"
     },
     "output_type": "display_data"
    }
   ],
   "source": [
    "plt.plot(y_test, label='True value')\n",
    "plt.plot(predict_df, label='Predictions')"
   ]
  },
  {
   "cell_type": "code",
   "execution_count": 269,
   "id": "collaborative-defense",
   "metadata": {},
   "outputs": [],
   "source": [
    "from sklearn.metrics import mean_squared_error"
   ]
  },
  {
   "cell_type": "code",
   "execution_count": 271,
   "id": "contemporary-whale",
   "metadata": {},
   "outputs": [
    {
     "data": {
      "text/plain": [
       "165.66167914437662"
      ]
     },
     "execution_count": 271,
     "metadata": {},
     "output_type": "execute_result"
    }
   ],
   "source": [
    "np.sqrt(mean_squared_error(y_test[:-2], predict_df))"
   ]
  },
  {
   "cell_type": "markdown",
   "id": "quick-sunglasses",
   "metadata": {},
   "source": [
    "# Timeseries Generator"
   ]
  },
  {
   "cell_type": "code",
   "execution_count": 335,
   "id": "double-technology",
   "metadata": {},
   "outputs": [],
   "source": [
    "from tensorflow.keras.preprocessing.sequence import TimeseriesGenerator\n",
    "from tensorflow.keras.layers import Dense, LSTM, Input\n",
    "from tensorflow.keras.models import Model"
   ]
  },
  {
   "cell_type": "code",
   "execution_count": 316,
   "id": "naval-protein",
   "metadata": {},
   "outputs": [],
   "source": [
    "df.drop(['date','year','quarter'], axis=1, inplace=True)"
   ]
  },
  {
   "cell_type": "code",
   "execution_count": 321,
   "id": "matched-ground",
   "metadata": {},
   "outputs": [],
   "source": [
    "n_obs= 30"
   ]
  },
  {
   "cell_type": "code",
   "execution_count": 323,
   "id": "happy-graduate",
   "metadata": {},
   "outputs": [],
   "source": [
    "train = df.iloc[:-n_obs]\n",
    "test = df.iloc[-n_obs:]"
   ]
  },
  {
   "cell_type": "code",
   "execution_count": 326,
   "id": "passive-difference",
   "metadata": {},
   "outputs": [],
   "source": [
    "scaler = MinMaxScaler()\n",
    "scaled_train = scaler.fit_transform(train)\n",
    "scaled_test = scaler.fit_transform(test)"
   ]
  },
  {
   "cell_type": "code",
   "execution_count": 333,
   "id": "intended-maryland",
   "metadata": {},
   "outputs": [],
   "source": [
    "length = 36\n",
    "batch_size = 1\n",
    "gen = TimeseriesGenerator(scaled_train, scaled_train, length=length,\n",
    "                         batch_size=batch_size)"
   ]
  },
  {
   "cell_type": "code",
   "execution_count": 336,
   "id": "nasty-flight",
   "metadata": {},
   "outputs": [
    {
     "data": {
      "text/plain": [
       "(173, 12)"
      ]
     },
     "execution_count": 336,
     "metadata": {},
     "output_type": "execute_result"
    }
   ],
   "source": [
    "scaled_train.shape"
   ]
  },
  {
   "cell_type": "code",
   "execution_count": 364,
   "id": "sweet-spiritual",
   "metadata": {},
   "outputs": [],
   "source": [
    "inputs = Input(shape=(length, scaled_train.shape[1]))\n",
    "x = LSTM(50, return_sequences=True)(inputs)\n",
    "x = LSTM(50)(x)\n",
    "x = Dense(32)(x)\n",
    "x = Dense(scaled_train.shape[1])(x)\n",
    "model = Model(inputs, x)"
   ]
  },
  {
   "cell_type": "code",
   "execution_count": 365,
   "id": "permanent-cancer",
   "metadata": {},
   "outputs": [],
   "source": [
    "model.compile(optimizer='adam', loss='mse')"
   ]
  },
  {
   "cell_type": "code",
   "execution_count": 366,
   "id": "thrown-surrey",
   "metadata": {},
   "outputs": [],
   "source": [
    "es = EarlyStopping(monitor='loss',patience=5)"
   ]
  },
  {
   "cell_type": "code",
   "execution_count": 367,
   "id": "sixth-burner",
   "metadata": {
    "scrolled": true
   },
   "outputs": [
    {
     "name": "stdout",
     "output_type": "stream",
     "text": [
      "Epoch 1/100\n",
      "137/137 [==============================] - 1s 4ms/step - loss: 0.0271\n",
      "Epoch 2/100\n",
      "137/137 [==============================] - 1s 4ms/step - loss: 0.0102\n",
      "Epoch 3/100\n",
      "137/137 [==============================] - 1s 4ms/step - loss: 0.0083\n",
      "Epoch 4/100\n",
      "137/137 [==============================] - 0s 4ms/step - loss: 0.0072\n",
      "Epoch 5/100\n",
      "137/137 [==============================] - 1s 4ms/step - loss: 0.0065\n",
      "Epoch 6/100\n",
      "137/137 [==============================] - 1s 4ms/step - loss: 0.0057\n",
      "Epoch 7/100\n",
      "137/137 [==============================] - 1s 4ms/step - loss: 0.0057\n",
      "Epoch 8/100\n",
      "137/137 [==============================] - 1s 4ms/step - loss: 0.0051\n",
      "Epoch 9/100\n",
      "137/137 [==============================] - 1s 4ms/step - loss: 0.0053\n",
      "Epoch 10/100\n",
      "137/137 [==============================] - 1s 4ms/step - loss: 0.0047\n",
      "Epoch 11/100\n",
      "137/137 [==============================] - 1s 4ms/step - loss: 0.0044\n",
      "Epoch 12/100\n",
      "137/137 [==============================] - 1s 4ms/step - loss: 0.0045\n",
      "Epoch 13/100\n",
      "137/137 [==============================] - 1s 4ms/step - loss: 0.0045\n",
      "Epoch 14/100\n",
      "137/137 [==============================] - 1s 4ms/step - loss: 0.0039\n",
      "Epoch 15/100\n",
      "137/137 [==============================] - 1s 4ms/step - loss: 0.0036\n",
      "Epoch 16/100\n",
      "137/137 [==============================] - 1s 4ms/step - loss: 0.0035\n",
      "Epoch 17/100\n",
      "137/137 [==============================] - 0s 4ms/step - loss: 0.0036\n",
      "Epoch 18/100\n",
      "137/137 [==============================] - 1s 4ms/step - loss: 0.0039\n",
      "Epoch 19/100\n",
      "137/137 [==============================] - 1s 4ms/step - loss: 0.0038\n",
      "Epoch 20/100\n",
      "137/137 [==============================] - 1s 4ms/step - loss: 0.0033\n",
      "Epoch 21/100\n",
      "137/137 [==============================] - 1s 4ms/step - loss: 0.0031\n",
      "Epoch 22/100\n",
      "137/137 [==============================] - 1s 4ms/step - loss: 0.0034\n",
      "Epoch 23/100\n",
      "137/137 [==============================] - 1s 4ms/step - loss: 0.0032\n",
      "Epoch 24/100\n",
      "137/137 [==============================] - 1s 4ms/step - loss: 0.0030\n",
      "Epoch 25/100\n",
      "137/137 [==============================] - 1s 4ms/step - loss: 0.0031\n",
      "Epoch 26/100\n",
      "137/137 [==============================] - 1s 4ms/step - loss: 0.0029\n",
      "Epoch 27/100\n",
      "137/137 [==============================] - 1s 4ms/step - loss: 0.0030\n",
      "Epoch 28/100\n",
      "137/137 [==============================] - 1s 4ms/step - loss: 0.0030\n",
      "Epoch 29/100\n",
      "137/137 [==============================] - 1s 4ms/step - loss: 0.0029\n",
      "Epoch 30/100\n",
      "137/137 [==============================] - 1s 4ms/step - loss: 0.0027\n",
      "Epoch 31/100\n",
      "137/137 [==============================] - 1s 4ms/step - loss: 0.0028\n",
      "Epoch 32/100\n",
      "137/137 [==============================] - 1s 4ms/step - loss: 0.0028\n",
      "Epoch 33/100\n",
      "137/137 [==============================] - 1s 4ms/step - loss: 0.0028\n",
      "Epoch 34/100\n",
      "137/137 [==============================] - 1s 4ms/step - loss: 0.0026\n",
      "Epoch 35/100\n",
      "137/137 [==============================] - 1s 4ms/step - loss: 0.0024\n",
      "Epoch 36/100\n",
      "137/137 [==============================] - 1s 4ms/step - loss: 0.0026\n",
      "Epoch 37/100\n",
      "137/137 [==============================] - 1s 4ms/step - loss: 0.0027\n",
      "Epoch 38/100\n",
      "137/137 [==============================] - 1s 4ms/step - loss: 0.0028\n",
      "Epoch 39/100\n",
      "137/137 [==============================] - 1s 4ms/step - loss: 0.0028\n",
      "Epoch 40/100\n",
      "137/137 [==============================] - 1s 4ms/step - loss: 0.0027\n"
     ]
    }
   ],
   "source": [
    "hist = model.fit(gen, epochs=100, callbacks=[es])"
   ]
  },
  {
   "cell_type": "code",
   "execution_count": 368,
   "id": "removable-score",
   "metadata": {},
   "outputs": [
    {
     "data": {
      "text/plain": [
       "[<matplotlib.lines.Line2D at 0x1a06a7b2188>]"
      ]
     },
     "execution_count": 368,
     "metadata": {},
     "output_type": "execute_result"
    },
    {
     "data": {
      "image/png": "[encoded data removed]",
      "text/plain": [
       "<Figure size 432x288 with 1 Axes>"
      ]
     },
     "metadata": {
      "needs_background": "light"
     },
     "output_type": "display_data"
    }
   ],
   "source": [
    "plt.plot(hist.history['loss'])"
   ]
  },
  {
   "cell_type": "code",
   "execution_count": 369,
   "id": "desperate-independence",
   "metadata": {},
   "outputs": [],
   "source": [
    "n_features = scaled_train.shape[1]\n",
    "predictions = []\n",
    "\n",
    "first_eval_batch = scaled_train[-length:]\n",
    "current_batch = first_eval_batch.reshape((1, length, n_features))\n",
    "\n",
    "for i in range(len(test)):\n",
    "    current_pred = model.predict(current_batch)[0]\n",
    "    predictions.append(current_pred)\n",
    "    current_batch = np.append(current_batch[:, 1:, :],[[current_pred]], axis=1)"
   ]
  },
  {
   "cell_type": "code",
   "execution_count": 370,
   "id": "parental-chicken",
   "metadata": {},
   "outputs": [],
   "source": [
    "predictions = scaler.inverse_transform(predictions)"
   ]
  },
  {
   "cell_type": "code",
   "execution_count": 371,
   "id": "instructional-notebook",
   "metadata": {},
   "outputs": [],
   "source": [
    "pred_df = pd.DataFrame(data=predictions, index=test.index, columns=test.columns)"
   ]
  },
  {
   "cell_type": "code",
   "execution_count": 372,
   "id": "comic-momentum",
   "metadata": {},
   "outputs": [],
   "source": [
    "columns = pred_df.columns"
   ]
  },
  {
   "cell_type": "code",
   "execution_count": 373,
   "id": "indie-jesus",
   "metadata": {},
   "outputs": [
    {
     "data": {
      "image/png": "[encoded data removed]",
      "text/plain": [
       "<Figure size 432x288 with 1 Axes>"
      ]
     },
     "metadata": {
      "needs_background": "light"
     },
     "output_type": "display_data"
    },
    {
     "data": {
      "image/png": "[encoded data removed]",
      "text/plain": [
       "<Figure size 432x288 with 1 Axes>"
      ]
     },
     "metadata": {
      "needs_background": "light"
     },
     "output_type": "display_data"
    },
    {
     "data": {
      "image/png": "[encoded data removed]",
      "text/plain": [
       "<Figure size 432x288 with 1 Axes>"
      ]
     },
     "metadata": {
      "needs_background": "light"
     },
     "output_type": "display_data"
    },
    {
     "data": {
      "image/png": "[encoded data removed]",
      "text/plain": [
       "<Figure size 432x288 with 1 Axes>"
      ]
     },
     "metadata": {
      "needs_background": "light"
     },
     "output_type": "display_data"
    },
    {
     "data": {
      "image/png": "[encoded data removed]",
      "text/plain": [
       "<Figure size 432x288 with 1 Axes>"
      ]
     },
     "metadata": {
      "needs_background": "light"
     },
     "output_type": "display_data"
    },
    {
     "data": {
      "image/png": "[encoded data removed]",
      "text/plain": [
       "<Figure size 432x288 with 1 Axes>"
      ]
     },
     "metadata": {
      "needs_background": "light"
     },
     "output_type": "display_data"
    },
    {
     "data": {
      "image/png": "[encoded data removed]",
      "text/plain": [
       "<Figure size 432x288 with 1 Axes>"
      ]
     },
     "metadata": {
      "needs_background": "light"
     },
     "output_type": "display_data"
    },
    {
     "data": {
      "image/png": "[encoded data removed]",
      "text/plain": [
       "<Figure size 432x288 with 1 Axes>"
      ]
     },
     "metadata": {
      "needs_background": "light"
     },
     "output_type": "display_data"
    },
    {
     "data": {
      "image/png": "[encoded data removed]",
      "text/plain": [
       "<Figure size 432x288 with 1 Axes>"
      ]
     },
     "metadata": {
      "needs_background": "light"
     },
     "output_type": "display_data"
    },
    {
     "data": {
      "image/png": "[encoded data removed]",
      "text/plain": [
       "<Figure size 432x288 with 1 Axes>"
      ]
     },
     "metadata": {
      "needs_background": "light"
     },
     "output_type": "display_data"
    },
    {
     "data": {
      "image/png": "[encoded data removed]",
      "text/plain": [
       "<Figure size 432x288 with 1 Axes>"
      ]
     },
     "metadata": {
      "needs_background": "light"
     },
     "output_type": "display_data"
    },
    {
     "data": {
      "image/png": "[encoded data removed]",
      "text/plain": [
       "<Figure size 432x288 with 1 Axes>"
      ]
     },
     "metadata": {
      "needs_background": "light"
     },
     "output_type": "display_data"
    }
   ],
   "source": [
    "for col in columns:\n",
    "    plt.plot(pred_df[col], label='Predictions')\n",
    "    plt.plot(test[col], label='True value')\n",
    "    plt.title(col)\n",
    "    plt.legend()\n",
    "    plt.show()"
   ]
  },
  {
   "cell_type": "code",
   "execution_count": null,
   "id": "vital-realtor",
   "metadata": {},
   "outputs": [],
   "source": []
  }
 ],
 "metadata": {
  "kernelspec": {
   "display_name": "Python 3",
   "language": "python",
   "name": "python3"
  },
  "language_info": {
   "codemirror_mode": {
    "name": "ipython",
    "version": 3
   },
   "file_extension": ".py",
   "mimetype": "text/x-python",
   "name": "python",
   "nbconvert_exporter": "python",
   "pygments_lexer": "ipython3",
   "version": "3.7.9"
  }
 },
 "nbformat": 4,
 "nbformat_minor": 5
}
