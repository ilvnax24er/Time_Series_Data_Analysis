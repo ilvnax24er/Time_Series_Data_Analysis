{
 "cells": [
  {
   "cell_type": "code",
   "execution_count": 1,
   "metadata": {},
   "outputs": [],
   "source": [
    "import tensorflow.keras\n",
    "import matplotlib.pyplot as plt\n",
    "import pandas as pd\n",
    "import numpy as np"
   ]
  },
  {
   "cell_type": "markdown",
   "metadata": {},
   "source": [
    "## y = mx + b + noise"
   ]
  },
  {
   "cell_type": "code",
   "execution_count": 11,
   "metadata": {},
   "outputs": [],
   "source": [
    "m = 2\n",
    "b = 3\n",
    "x = np.linspace(0, 50, 100)"
   ]
  },
  {
   "cell_type": "code",
   "execution_count": 12,
   "metadata": {},
   "outputs": [],
   "source": [
    "np.random.seed(101)\n",
    "noise = np.random.normal(loc=0, scale=4, size=len(x))"
   ]
  },
  {
   "cell_type": "code",
   "execution_count": 13,
   "metadata": {},
   "outputs": [],
   "source": [
    "y = 2*x + b + noise"
   ]
  },
  {
   "cell_type": "code",
   "execution_count": 14,
   "metadata": {},
   "outputs": [
    {
     "data": {
      "text/plain": [
       "[<matplotlib.lines.Line2D at 0x1a4db22fc18>]"
      ]
     },
     "execution_count": 14,
     "metadata": {},
     "output_type": "execute_result"
    },
    {
     "data": {
      "image/png": "[encoded data removed]",
      "text/plain": [
       "<Figure size 432x288 with 1 Axes>"
      ]
     },
     "metadata": {
      "needs_background": "light"
     },
     "output_type": "display_data"
    }
   ],
   "source": [
    "plt.plot(x, y, '*')"
   ]
  },
  {
   "cell_type": "code",
   "execution_count": 15,
   "metadata": {},
   "outputs": [],
   "source": [
    "from tensorflow.keras.models import Sequential\n",
    "from tensorflow.keras.layers import Dense"
   ]
  },
  {
   "cell_type": "code",
   "execution_count": 16,
   "metadata": {},
   "outputs": [],
   "source": [
    "model = Sequential()\n",
    "\n",
    "model.add(Dense(4, input_dim=1,activation='relu'))\n",
    "model.add(Dense(4, activation ='relu'))\n",
    "model.add(Dense(1, activation ='relu'))\n",
    "model.compile(loss = 'mse')"
   ]
  },
  {
   "cell_type": "code",
   "execution_count": 17,
   "metadata": {},
   "outputs": [
    {
     "name": "stdout",
     "output_type": "stream",
     "text": [
      "Model: \"sequential_1\"\n",
      "_________________________________________________________________\n",
      "Layer (type)                 Output Shape              Param #   \n",
      "=================================================================\n",
      "dense_3 (Dense)              (None, 4)                 8         \n",
      "_________________________________________________________________\n",
      "dense_4 (Dense)              (None, 4)                 20        \n",
      "_________________________________________________________________\n",
      "dense_5 (Dense)              (None, 1)                 5         \n",
      "=================================================================\n",
      "Total params: 33\n",
      "Trainable params: 33\n",
      "Non-trainable params: 0\n",
      "_________________________________________________________________\n"
     ]
    }
   ],
   "source": [
    "model.summary()"
   ]
  },
  {
   "cell_type": "code",
   "execution_count": 18,
   "metadata": {},
   "outputs": [
    {
     "name": "stdout",
     "output_type": "stream",
     "text": [
      "Epoch 1/200\n",
      "4/4 [==============================] - 0s 1ms/step - loss: 1835.2828\n",
      "Epoch 2/200\n",
      "4/4 [==============================] - 0s 1ms/step - loss: 1760.2566\n",
      "Epoch 3/200\n",
      "4/4 [==============================] - 0s 1ms/step - loss: 1708.3179\n",
      "Epoch 4/200\n",
      "4/4 [==============================] - 0s 1ms/step - loss: 1661.5303\n",
      "Epoch 5/200\n",
      "4/4 [==============================] - 0s 1ms/step - loss: 1622.3416\n",
      "Epoch 6/200\n",
      "4/4 [==============================] - 0s 2ms/step - loss: 1580.1083\n",
      "Epoch 7/200\n",
      "4/4 [==============================] - 0s 1ms/step - loss: 1546.7878\n",
      "Epoch 8/200\n",
      "4/4 [==============================] - 0s 1ms/step - loss: 1506.9521\n",
      "Epoch 9/200\n",
      "4/4 [==============================] - 0s 1ms/step - loss: 1470.2085\n",
      "Epoch 10/200\n",
      "4/4 [==============================] - 0s 1ms/step - loss: 1427.7432\n",
      "Epoch 11/200\n",
      "4/4 [==============================] - 0s 1ms/step - loss: 1386.2589\n",
      "Epoch 12/200\n",
      "4/4 [==============================] - 0s 1ms/step - loss: 1352.8347\n",
      "Epoch 13/200\n",
      "4/4 [==============================] - 0s 1ms/step - loss: 1323.4415\n",
      "Epoch 14/200\n",
      "4/4 [==============================] - 0s 1ms/step - loss: 1288.4734\n",
      "Epoch 15/200\n",
      "4/4 [==============================] - 0s 1ms/step - loss: 1254.3790\n",
      "Epoch 16/200\n",
      "4/4 [==============================] - 0s 1ms/step - loss: 1213.1908\n",
      "Epoch 17/200\n",
      "4/4 [==============================] - 0s 1ms/step - loss: 1177.0500\n",
      "Epoch 18/200\n",
      "4/4 [==============================] - 0s 1ms/step - loss: 1143.3599\n",
      "Epoch 19/200\n",
      "4/4 [==============================] - 0s 2ms/step - loss: 1105.8571\n",
      "Epoch 20/200\n",
      "4/4 [==============================] - 0s 1ms/step - loss: 1072.1377\n",
      "Epoch 21/200\n",
      "4/4 [==============================] - 0s 1ms/step - loss: 1034.3806\n",
      "Epoch 22/200\n",
      "4/4 [==============================] - 0s 1ms/step - loss: 997.8810\n",
      "Epoch 23/200\n",
      "4/4 [==============================] - 0s 1ms/step - loss: 962.5549\n",
      "Epoch 24/200\n",
      "4/4 [==============================] - 0s 1ms/step - loss: 929.9268\n",
      "Epoch 25/200\n",
      "4/4 [==============================] - 0s 1ms/step - loss: 895.7763\n",
      "Epoch 26/200\n",
      "4/4 [==============================] - 0s 2ms/step - loss: 861.8133\n",
      "Epoch 27/200\n",
      "4/4 [==============================] - 0s 1ms/step - loss: 825.4382\n",
      "Epoch 28/200\n",
      "4/4 [==============================] - 0s 1ms/step - loss: 788.8192\n",
      "Epoch 29/200\n",
      "4/4 [==============================] - 0s 1ms/step - loss: 754.3546\n",
      "Epoch 30/200\n",
      "4/4 [==============================] - 0s 1ms/step - loss: 720.8946\n",
      "Epoch 31/200\n",
      "4/4 [==============================] - 0s 2ms/step - loss: 694.4216\n",
      "Epoch 32/200\n",
      "4/4 [==============================] - 0s 1ms/step - loss: 665.4741\n",
      "Epoch 33/200\n",
      "4/4 [==============================] - 0s 1ms/step - loss: 629.9188\n",
      "Epoch 34/200\n",
      "4/4 [==============================] - 0s 2ms/step - loss: 598.7121\n",
      "Epoch 35/200\n",
      "4/4 [==============================] - 0s 1ms/step - loss: 567.5757\n",
      "Epoch 36/200\n",
      "4/4 [==============================] - 0s 1ms/step - loss: 537.9247\n",
      "Epoch 37/200\n",
      "4/4 [==============================] - 0s 1ms/step - loss: 510.0300\n",
      "Epoch 38/200\n",
      "4/4 [==============================] - 0s 1ms/step - loss: 480.5556\n",
      "Epoch 39/200\n",
      "4/4 [==============================] - 0s 1ms/step - loss: 455.6969\n",
      "Epoch 40/200\n",
      "4/4 [==============================] - 0s 1ms/step - loss: 429.8373\n",
      "Epoch 41/200\n",
      "4/4 [==============================] - 0s 1ms/step - loss: 402.3074\n",
      "Epoch 42/200\n",
      "4/4 [==============================] - 0s 1ms/step - loss: 376.8388\n",
      "Epoch 43/200\n",
      "4/4 [==============================] - 0s 1ms/step - loss: 351.1939\n",
      "Epoch 44/200\n",
      "4/4 [==============================] - 0s 1ms/step - loss: 329.2676\n",
      "Epoch 45/200\n",
      "4/4 [==============================] - 0s 1ms/step - loss: 305.4028\n",
      "Epoch 46/200\n",
      "4/4 [==============================] - 0s 1ms/step - loss: 284.1473\n",
      "Epoch 47/200\n",
      "4/4 [==============================] - 0s 1ms/step - loss: 263.4900\n",
      "Epoch 48/200\n",
      "4/4 [==============================] - 0s 2ms/step - loss: 243.5607\n",
      "Epoch 49/200\n",
      "4/4 [==============================] - 0s 1ms/step - loss: 219.7183\n",
      "Epoch 50/200\n",
      "4/4 [==============================] - 0s 1ms/step - loss: 202.2714\n",
      "Epoch 51/200\n",
      "4/4 [==============================] - 0s 1ms/step - loss: 181.6279\n",
      "Epoch 52/200\n",
      "4/4 [==============================] - 0s 1ms/step - loss: 164.6638\n",
      "Epoch 53/200\n",
      "4/4 [==============================] - 0s 1ms/step - loss: 149.9858\n",
      "Epoch 54/200\n",
      "4/4 [==============================] - 0s 1ms/step - loss: 135.7605\n",
      "Epoch 55/200\n",
      "4/4 [==============================] - 0s 1ms/step - loss: 120.9801\n",
      "Epoch 56/200\n",
      "4/4 [==============================] - 0s 1ms/step - loss: 106.5698\n",
      "Epoch 57/200\n",
      "4/4 [==============================] - 0s 1ms/step - loss: 94.0438\n",
      "Epoch 58/200\n",
      "4/4 [==============================] - 0s 1ms/step - loss: 81.3139\n",
      "Epoch 59/200\n",
      "4/4 [==============================] - 0s 1ms/step - loss: 72.4593\n",
      "Epoch 60/200\n",
      "4/4 [==============================] - 0s 1ms/step - loss: 63.2077\n",
      "Epoch 61/200\n",
      "4/4 [==============================] - 0s 1ms/step - loss: 54.8502\n",
      "Epoch 62/200\n",
      "4/4 [==============================] - 0s 1ms/step - loss: 48.2167\n",
      "Epoch 63/200\n",
      "4/4 [==============================] - 0s 1ms/step - loss: 42.0426\n",
      "Epoch 64/200\n",
      "4/4 [==============================] - 0s 1ms/step - loss: 36.3565\n",
      "Epoch 65/200\n",
      "4/4 [==============================] - 0s 2ms/step - loss: 31.2589\n",
      "Epoch 66/200\n",
      "4/4 [==============================] - 0s 1ms/step - loss: 26.9042\n",
      "Epoch 67/200\n",
      "4/4 [==============================] - 0s 1ms/step - loss: 24.5516\n",
      "Epoch 68/200\n",
      "4/4 [==============================] - 0s 1ms/step - loss: 23.0759\n",
      "Epoch 69/200\n",
      "4/4 [==============================] - 0s 1ms/step - loss: 21.8395\n",
      "Epoch 70/200\n",
      "4/4 [==============================] - 0s 1ms/step - loss: 20.5880\n",
      "Epoch 71/200\n",
      "4/4 [==============================] - 0s 1ms/step - loss: 19.7270\n",
      "Epoch 72/200\n",
      "4/4 [==============================] - 0s 1ms/step - loss: 19.4509\n",
      "Epoch 73/200\n",
      "4/4 [==============================] - 0s 1ms/step - loss: 19.5544\n",
      "Epoch 74/200\n",
      "4/4 [==============================] - 0s 1ms/step - loss: 19.4520\n",
      "Epoch 75/200\n",
      "4/4 [==============================] - 0s 1ms/step - loss: 19.4514\n",
      "Epoch 76/200\n",
      "4/4 [==============================] - 0s 1ms/step - loss: 19.3336\n",
      "Epoch 77/200\n",
      "4/4 [==============================] - 0s 1ms/step - loss: 19.2367\n",
      "Epoch 78/200\n",
      "4/4 [==============================] - 0s 1ms/step - loss: 19.4528\n",
      "Epoch 79/200\n",
      "4/4 [==============================] - 0s 1ms/step - loss: 19.1718\n",
      "Epoch 80/200\n",
      "4/4 [==============================] - 0s 1ms/step - loss: 19.2670\n",
      "Epoch 81/200\n",
      "4/4 [==============================] - 0s 1ms/step - loss: 19.4927\n",
      "Epoch 82/200\n",
      "4/4 [==============================] - 0s 1ms/step - loss: 19.2007\n",
      "Epoch 83/200\n",
      "4/4 [==============================] - 0s 1ms/step - loss: 19.4057\n",
      "Epoch 84/200\n",
      "4/4 [==============================] - 0s 1ms/step - loss: 19.1590\n",
      "Epoch 85/200\n",
      "4/4 [==============================] - 0s 1ms/step - loss: 19.1011\n",
      "Epoch 86/200\n",
      "4/4 [==============================] - 0s 1ms/step - loss: 19.2685\n",
      "Epoch 87/200\n",
      "4/4 [==============================] - 0s 1ms/step - loss: 19.0871\n",
      "Epoch 88/200\n",
      "4/4 [==============================] - 0s 1ms/step - loss: 19.1214\n",
      "Epoch 89/200\n",
      "4/4 [==============================] - 0s 1ms/step - loss: 19.1207\n",
      "Epoch 90/200\n",
      "4/4 [==============================] - 0s 2ms/step - loss: 19.2000\n",
      "Epoch 91/200\n",
      "4/4 [==============================] - 0s 2ms/step - loss: 19.0114\n",
      "Epoch 92/200\n",
      "4/4 [==============================] - 0s 1ms/step - loss: 19.0037\n",
      "Epoch 93/200\n",
      "4/4 [==============================] - 0s 1ms/step - loss: 19.4451\n",
      "Epoch 94/200\n",
      "4/4 [==============================] - 0s 2ms/step - loss: 19.1021\n",
      "Epoch 95/200\n",
      "4/4 [==============================] - 0s 1ms/step - loss: 19.0582\n",
      "Epoch 96/200\n",
      "4/4 [==============================] - 0s 2ms/step - loss: 19.0108\n",
      "Epoch 97/200\n",
      "4/4 [==============================] - 0s 1ms/step - loss: 19.0246\n",
      "Epoch 98/200\n",
      "4/4 [==============================] - 0s 2ms/step - loss: 18.9366\n",
      "Epoch 99/200\n",
      "4/4 [==============================] - 0s 1ms/step - loss: 18.9903\n",
      "Epoch 100/200\n",
      "4/4 [==============================] - 0s 1ms/step - loss: 18.9929\n",
      "Epoch 101/200\n",
      "4/4 [==============================] - 0s 1ms/step - loss: 18.9058\n",
      "Epoch 102/200\n",
      "4/4 [==============================] - 0s 1ms/step - loss: 18.9509\n",
      "Epoch 103/200\n",
      "4/4 [==============================] - 0s 1ms/step - loss: 19.0329\n",
      "Epoch 104/200\n",
      "4/4 [==============================] - 0s 1ms/step - loss: 18.9732\n",
      "Epoch 105/200\n",
      "4/4 [==============================] - 0s 1ms/step - loss: 18.7965\n",
      "Epoch 106/200\n",
      "4/4 [==============================] - 0s 1ms/step - loss: 18.8212\n",
      "Epoch 107/200\n",
      "4/4 [==============================] - 0s 1ms/step - loss: 18.7402\n",
      "Epoch 108/200\n",
      "4/4 [==============================] - 0s 1ms/step - loss: 18.8385\n",
      "Epoch 109/200\n",
      "4/4 [==============================] - 0s 1ms/step - loss: 18.8170\n",
      "Epoch 110/200\n",
      "4/4 [==============================] - 0s 1ms/step - loss: 18.8779\n",
      "Epoch 111/200\n",
      "4/4 [==============================] - 0s 997us/step - loss: 18.7897\n",
      "Epoch 112/200\n",
      "4/4 [==============================] - 0s 1ms/step - loss: 18.9200\n",
      "Epoch 113/200\n",
      "4/4 [==============================] - 0s 1ms/step - loss: 18.9472\n",
      "Epoch 114/200\n",
      "4/4 [==============================] - 0s 1ms/step - loss: 18.8327\n",
      "Epoch 115/200\n",
      "4/4 [==============================] - 0s 1ms/step - loss: 18.7283\n",
      "Epoch 116/200\n",
      "4/4 [==============================] - 0s 1ms/step - loss: 18.6641\n",
      "Epoch 117/200\n",
      "4/4 [==============================] - 0s 1ms/step - loss: 18.9163\n",
      "Epoch 118/200\n",
      "4/4 [==============================] - 0s 1ms/step - loss: 18.5791\n",
      "Epoch 119/200\n",
      "4/4 [==============================] - 0s 1ms/step - loss: 18.6373\n",
      "Epoch 120/200\n",
      "4/4 [==============================] - 0s 1ms/step - loss: 18.5254\n",
      "Epoch 121/200\n",
      "4/4 [==============================] - 0s 1ms/step - loss: 18.5407\n",
      "Epoch 122/200\n",
      "4/4 [==============================] - 0s 1ms/step - loss: 18.7938\n",
      "Epoch 123/200\n",
      "4/4 [==============================] - 0s 1ms/step - loss: 18.9352\n",
      "Epoch 124/200\n",
      "4/4 [==============================] - 0s 1ms/step - loss: 18.7772\n",
      "Epoch 125/200\n",
      "4/4 [==============================] - 0s 997us/step - loss: 18.5229\n",
      "Epoch 126/200\n",
      "4/4 [==============================] - 0s 1ms/step - loss: 18.5174\n",
      "Epoch 127/200\n",
      "4/4 [==============================] - 0s 1ms/step - loss: 18.4520\n",
      "Epoch 128/200\n",
      "4/4 [==============================] - 0s 1ms/step - loss: 18.4360\n",
      "Epoch 129/200\n",
      "4/4 [==============================] - 0s 1ms/step - loss: 18.4862\n",
      "Epoch 130/200\n",
      "4/4 [==============================] - 0s 1ms/step - loss: 18.5956\n",
      "Epoch 131/200\n",
      "4/4 [==============================] - 0s 1ms/step - loss: 18.5477\n",
      "Epoch 132/200\n",
      "4/4 [==============================] - 0s 1ms/step - loss: 18.5845\n",
      "Epoch 133/200\n",
      "4/4 [==============================] - 0s 1ms/step - loss: 18.3726\n",
      "Epoch 134/200\n",
      "4/4 [==============================] - 0s 1ms/step - loss: 18.4655\n",
      "Epoch 135/200\n",
      "4/4 [==============================] - 0s 1ms/step - loss: 18.3289\n",
      "Epoch 136/200\n",
      "4/4 [==============================] - 0s 1ms/step - loss: 18.3460\n",
      "Epoch 137/200\n",
      "4/4 [==============================] - 0s 1ms/step - loss: 18.3917\n",
      "Epoch 138/200\n",
      "4/4 [==============================] - 0s 1ms/step - loss: 18.3464\n",
      "Epoch 139/200\n",
      "4/4 [==============================] - 0s 1ms/step - loss: 18.4719\n",
      "Epoch 140/200\n",
      "4/4 [==============================] - 0s 1ms/step - loss: 18.6031\n",
      "Epoch 141/200\n",
      "4/4 [==============================] - 0s 1ms/step - loss: 18.4234\n",
      "Epoch 142/200\n",
      "4/4 [==============================] - 0s 1ms/step - loss: 18.3097\n",
      "Epoch 143/200\n",
      "4/4 [==============================] - 0s 1ms/step - loss: 18.2677\n",
      "Epoch 144/200\n",
      "4/4 [==============================] - 0s 1ms/step - loss: 18.3238\n",
      "Epoch 145/200\n",
      "4/4 [==============================] - 0s 1ms/step - loss: 18.2502\n",
      "Epoch 146/200\n",
      "4/4 [==============================] - 0s 1ms/step - loss: 18.3489\n",
      "Epoch 147/200\n",
      "4/4 [==============================] - 0s 1ms/step - loss: 18.2561\n",
      "Epoch 148/200\n",
      "4/4 [==============================] - 0s 1ms/step - loss: 18.2409\n",
      "Epoch 149/200\n",
      "4/4 [==============================] - 0s 1ms/step - loss: 18.4153\n",
      "Epoch 150/200\n",
      "4/4 [==============================] - 0s 1ms/step - loss: 18.1522\n",
      "Epoch 151/200\n",
      "4/4 [==============================] - 0s 1ms/step - loss: 18.1873\n",
      "Epoch 152/200\n",
      "4/4 [==============================] - 0s 1ms/step - loss: 18.2808\n",
      "Epoch 153/200\n",
      "4/4 [==============================] - 0s 1ms/step - loss: 18.1157\n",
      "Epoch 154/200\n",
      "4/4 [==============================] - 0s 1ms/step - loss: 18.1804\n",
      "Epoch 155/200\n",
      "4/4 [==============================] - 0s 1ms/step - loss: 18.3109\n",
      "Epoch 156/200\n",
      "4/4 [==============================] - 0s 1ms/step - loss: 18.3864\n",
      "Epoch 157/200\n",
      "4/4 [==============================] - 0s 1ms/step - loss: 18.3333\n",
      "Epoch 158/200\n",
      "4/4 [==============================] - 0s 1ms/step - loss: 18.3745\n",
      "Epoch 159/200\n",
      "4/4 [==============================] - 0s 1ms/step - loss: 18.3049\n",
      "Epoch 160/200\n",
      "4/4 [==============================] - 0s 1ms/step - loss: 18.1015\n",
      "Epoch 161/200\n",
      "4/4 [==============================] - 0s 1ms/step - loss: 18.0976\n",
      "Epoch 162/200\n",
      "4/4 [==============================] - 0s 1ms/step - loss: 18.1385\n",
      "Epoch 163/200\n",
      "4/4 [==============================] - 0s 1ms/step - loss: 18.1505\n",
      "Epoch 164/200\n",
      "4/4 [==============================] - 0s 1ms/step - loss: 18.1945\n",
      "Epoch 165/200\n",
      "4/4 [==============================] - 0s 1ms/step - loss: 18.2722\n",
      "Epoch 166/200\n",
      "4/4 [==============================] - 0s 1ms/step - loss: 17.9870\n",
      "Epoch 167/200\n",
      "4/4 [==============================] - ETA: 0s - loss: 18.00 - 0s 1ms/step - loss: 18.0277\n",
      "Epoch 168/200\n",
      "4/4 [==============================] - 0s 1ms/step - loss: 18.1463\n",
      "Epoch 169/200\n",
      "4/4 [==============================] - 0s 1ms/step - loss: 18.5038\n",
      "Epoch 170/200\n",
      "4/4 [==============================] - 0s 2ms/step - loss: 18.1617\n",
      "Epoch 171/200\n",
      "4/4 [==============================] - 0s 1ms/step - loss: 18.3358\n",
      "Epoch 172/200\n",
      "4/4 [==============================] - 0s 1ms/step - loss: 18.2571\n",
      "Epoch 173/200\n",
      "4/4 [==============================] - 0s 1ms/step - loss: 17.9925\n",
      "Epoch 174/200\n",
      "4/4 [==============================] - 0s 1ms/step - loss: 17.9974\n",
      "Epoch 175/200\n",
      "4/4 [==============================] - 0s 1ms/step - loss: 18.1721\n",
      "Epoch 176/200\n",
      "4/4 [==============================] - 0s 1ms/step - loss: 18.0019\n",
      "Epoch 177/200\n",
      "4/4 [==============================] - 0s 1ms/step - loss: 17.9564\n",
      "Epoch 178/200\n",
      "4/4 [==============================] - 0s 1ms/step - loss: 17.9195\n",
      "Epoch 179/200\n",
      "4/4 [==============================] - 0s 1ms/step - loss: 17.9515\n",
      "Epoch 180/200\n",
      "4/4 [==============================] - 0s 1ms/step - loss: 17.9477\n",
      "Epoch 181/200\n",
      "4/4 [==============================] - 0s 1ms/step - loss: 17.8825\n",
      "Epoch 182/200\n",
      "4/4 [==============================] - 0s 1ms/step - loss: 17.9276\n",
      "Epoch 183/200\n",
      "4/4 [==============================] - 0s 2ms/step - loss: 17.9231\n",
      "Epoch 184/200\n",
      "4/4 [==============================] - 0s 1ms/step - loss: 18.0652\n",
      "Epoch 185/200\n",
      "4/4 [==============================] - 0s 2ms/step - loss: 17.9978\n",
      "Epoch 186/200\n",
      "4/4 [==============================] - 0s 1ms/step - loss: 17.9539\n",
      "Epoch 187/200\n",
      "4/4 [==============================] - 0s 1ms/step - loss: 17.9550\n",
      "Epoch 188/200\n",
      "4/4 [==============================] - 0s 1ms/step - loss: 17.8413\n",
      "Epoch 189/200\n",
      "4/4 [==============================] - 0s 1ms/step - loss: 18.0824\n",
      "Epoch 190/200\n",
      "4/4 [==============================] - 0s 1ms/step - loss: 17.8459\n",
      "Epoch 191/200\n",
      "4/4 [==============================] - 0s 1ms/step - loss: 17.7732\n",
      "Epoch 192/200\n",
      "4/4 [==============================] - 0s 1ms/step - loss: 17.7758\n",
      "Epoch 193/200\n",
      "4/4 [==============================] - 0s 1ms/step - loss: 17.9182\n",
      "Epoch 194/200\n",
      "4/4 [==============================] - 0s 1ms/step - loss: 17.7538\n",
      "Epoch 195/200\n",
      "4/4 [==============================] - 0s 1ms/step - loss: 17.8182\n",
      "Epoch 196/200\n",
      "4/4 [==============================] - 0s 1ms/step - loss: 17.7276\n",
      "Epoch 197/200\n",
      "4/4 [==============================] - 0s 1ms/step - loss: 17.9054\n",
      "Epoch 198/200\n",
      "4/4 [==============================] - 0s 1ms/step - loss: 18.1024\n",
      "Epoch 199/200\n",
      "4/4 [==============================] - 0s 1ms/step - loss: 17.7250\n",
      "Epoch 200/200\n",
      "4/4 [==============================] - 0s 2ms/step - loss: 17.9618\n"
     ]
    },
    {
     "data": {
      "text/plain": [
       "<tensorflow.python.keras.callbacks.History at 0x1a4db1a3390>"
      ]
     },
     "execution_count": 18,
     "metadata": {},
     "output_type": "execute_result"
    }
   ],
   "source": [
    "model.fit(x,y,epochs=200)"
   ]
  },
  {
   "cell_type": "code",
   "execution_count": 19,
   "metadata": {},
   "outputs": [
    {
     "data": {
      "text/plain": [
       "[<matplotlib.lines.Line2D at 0x1a4dcfc7320>]"
      ]
     },
     "execution_count": 19,
     "metadata": {},
     "output_type": "execute_result"
    },
    {
     "data": {
      "image/png": "[encoded data removed]",
      "text/plain": [
       "<Figure size 432x288 with 1 Axes>"
      ]
     },
     "metadata": {
      "needs_background": "light"
     },
     "output_type": "display_data"
    }
   ],
   "source": [
    "loss = model.history.history['loss']\n",
    "epochs = range(len(loss))\n",
    "\n",
    "plt.plot(epochs, loss)"
   ]
  },
  {
   "cell_type": "code",
   "execution_count": 20,
   "metadata": {},
   "outputs": [],
   "source": [
    "x_for_predictions = np.linspace(0, 50, 100)\n",
    "\n",
    "y_pred = model.predict(x_for_predictions)"
   ]
  },
  {
   "cell_type": "code",
   "execution_count": 21,
   "metadata": {},
   "outputs": [
    {
     "data": {
      "text/plain": [
       "array([[  2.7469127],\n",
       "       [  3.77153  ],\n",
       "       [  4.796148 ],\n",
       "       [  5.820765 ],\n",
       "       [  6.8453813],\n",
       "       [  7.8699994],\n",
       "       [  8.894616 ],\n",
       "       [  9.919232 ],\n",
       "       [ 10.94385  ],\n",
       "       [ 11.968469 ],\n",
       "       [ 12.993085 ],\n",
       "       [ 14.017701 ],\n",
       "       [ 15.042319 ],\n",
       "       [ 16.066938 ],\n",
       "       [ 17.091555 ],\n",
       "       [ 18.116175 ],\n",
       "       [ 19.140789 ],\n",
       "       [ 20.165407 ],\n",
       "       [ 21.190025 ],\n",
       "       [ 22.214643 ],\n",
       "       [ 23.23926  ],\n",
       "       [ 24.263876 ],\n",
       "       [ 25.288492 ],\n",
       "       [ 26.313112 ],\n",
       "       [ 27.337729 ],\n",
       "       [ 28.362345 ],\n",
       "       [ 29.386963 ],\n",
       "       [ 30.411581 ],\n",
       "       [ 31.436197 ],\n",
       "       [ 32.46081  ],\n",
       "       [ 33.48543  ],\n",
       "       [ 34.510048 ],\n",
       "       [ 35.534664 ],\n",
       "       [ 36.559277 ],\n",
       "       [ 37.5839   ],\n",
       "       [ 38.608517 ],\n",
       "       [ 39.633137 ],\n",
       "       [ 40.65775  ],\n",
       "       [ 41.682373 ],\n",
       "       [ 42.70699  ],\n",
       "       [ 43.7316   ],\n",
       "       [ 44.75622  ],\n",
       "       [ 45.780834 ],\n",
       "       [ 46.805458 ],\n",
       "       [ 47.83007  ],\n",
       "       [ 48.854683 ],\n",
       "       [ 49.879303 ],\n",
       "       [ 50.90392  ],\n",
       "       [ 51.92854  ],\n",
       "       [ 52.953156 ],\n",
       "       [ 53.977776 ],\n",
       "       [ 55.00239  ],\n",
       "       [ 56.02701  ],\n",
       "       [ 57.05163  ],\n",
       "       [ 58.076244 ],\n",
       "       [ 59.10086  ],\n",
       "       [ 60.125477 ],\n",
       "       [ 61.15009  ],\n",
       "       [ 62.17471  ],\n",
       "       [ 63.199333 ],\n",
       "       [ 64.22395  ],\n",
       "       [ 65.248566 ],\n",
       "       [ 66.273186 ],\n",
       "       [ 67.2978   ],\n",
       "       [ 68.32242  ],\n",
       "       [ 69.34703  ],\n",
       "       [ 70.37166  ],\n",
       "       [ 71.39627  ],\n",
       "       [ 72.42089  ],\n",
       "       [ 73.4455   ],\n",
       "       [ 74.470116 ],\n",
       "       [ 75.49474  ],\n",
       "       [ 76.51936  ],\n",
       "       [ 77.543976 ],\n",
       "       [ 78.568596 ],\n",
       "       [ 79.59321  ],\n",
       "       [ 80.617836 ],\n",
       "       [ 81.64245  ],\n",
       "       [ 82.66706  ],\n",
       "       [ 83.69168  ],\n",
       "       [ 84.7163   ],\n",
       "       [ 85.74092  ],\n",
       "       [ 86.765526 ],\n",
       "       [ 87.79015  ],\n",
       "       [ 88.814766 ],\n",
       "       [ 89.83939  ],\n",
       "       [ 90.864006 ],\n",
       "       [ 91.88862  ],\n",
       "       [ 92.91323  ],\n",
       "       [ 93.93785  ],\n",
       "       [ 94.96246  ],\n",
       "       [ 95.98709  ],\n",
       "       [ 97.0117   ],\n",
       "       [ 98.03632  ],\n",
       "       [ 99.060936 ],\n",
       "       [100.085556 ],\n",
       "       [101.11017  ],\n",
       "       [102.134796 ],\n",
       "       [103.1594   ],\n",
       "       [104.18403  ]], dtype=float32)"
      ]
     },
     "execution_count": 21,
     "metadata": {},
     "output_type": "execute_result"
    }
   ],
   "source": [
    "y_pred"
   ]
  },
  {
   "cell_type": "code",
   "execution_count": 22,
   "metadata": {},
   "outputs": [
    {
     "data": {
      "text/plain": [
       "[<matplotlib.lines.Line2D at 0x1a4dd057f28>]"
      ]
     },
     "execution_count": 22,
     "metadata": {},
     "output_type": "execute_result"
    },
    {
     "data": {
      "image/png": "[encoded data removed]",
      "text/plain": [
       "<Figure size 432x288 with 1 Axes>"
      ]
     },
     "metadata": {
      "needs_background": "light"
     },
     "output_type": "display_data"
    }
   ],
   "source": [
    "plt.plot(x,y, '*')\n",
    "plt.plot(x_for_predictions, y_pred, 'r')"
   ]
  },
  {
   "cell_type": "code",
   "execution_count": 23,
   "metadata": {},
   "outputs": [],
   "source": [
    "from sklearn.metrics import mean_squared_error\n",
    "from statsmodels.tools.eval_measures import mse"
   ]
  },
  {
   "cell_type": "code",
   "execution_count": 24,
   "metadata": {},
   "outputs": [
    {
     "name": "stdout",
     "output_type": "stream",
     "text": [
      "17.764145266496467\n"
     ]
    }
   ],
   "source": [
    "print(mean_squared_error(y,y_pred))"
   ]
  },
  {
   "cell_type": "code",
   "execution_count": 25,
   "metadata": {},
   "outputs": [],
   "source": [
    "a = [1,2,3,4,5]\n",
    "b = [2,3,4,5,6]"
   ]
  },
  {
   "cell_type": "code",
   "execution_count": 26,
   "metadata": {
    "scrolled": true
   },
   "outputs": [
    {
     "data": {
      "text/plain": [
       "1.0"
      ]
     },
     "execution_count": 26,
     "metadata": {},
     "output_type": "execute_result"
    }
   ],
   "source": [
    "mean_squared_error(a,b)"
   ]
  },
  {
   "cell_type": "code",
   "execution_count": 27,
   "metadata": {
    "scrolled": true
   },
   "outputs": [
    {
     "data": {
      "text/plain": [
       "1.0"
      ]
     },
     "execution_count": 27,
     "metadata": {},
     "output_type": "execute_result"
    }
   ],
   "source": [
    "mse(a,b)"
   ]
  },
  {
   "cell_type": "code",
   "execution_count": 28,
   "metadata": {},
   "outputs": [],
   "source": [
    "y_pred_reshape = y_pred.reshape(100, )"
   ]
  },
  {
   "cell_type": "code",
   "execution_count": 29,
   "metadata": {},
   "outputs": [
    {
     "data": {
      "text/plain": [
       "(100,)"
      ]
     },
     "execution_count": 29,
     "metadata": {},
     "output_type": "execute_result"
    }
   ],
   "source": [
    "y_pred_reshape.shape"
   ]
  },
  {
   "cell_type": "code",
   "execution_count": 30,
   "metadata": {},
   "outputs": [
    {
     "data": {
      "text/plain": [
       "17.764145266496467"
      ]
     },
     "execution_count": 30,
     "metadata": {},
     "output_type": "execute_result"
    }
   ],
   "source": [
    "mse(y, y_pred_reshape)"
   ]
  },
  {
   "cell_type": "markdown",
   "metadata": {},
   "source": [
    "# Recurrent Neural Network"
   ]
  },
  {
   "cell_type": "code",
   "execution_count": 31,
   "metadata": {},
   "outputs": [],
   "source": [
    "import pandas as pd\n",
    "import numpy as np\n",
    "%matplotlib inline\n",
    "import matplotlib.pyplot as plt"
   ]
  },
  {
   "cell_type": "code",
   "execution_count": 32,
   "metadata": {},
   "outputs": [],
   "source": [
    "df = pd.read_csv('Data/Alcohol_Sales.csv',index_col='DATE',parse_dates=True)\n",
    "df.index.freq = 'MS'"
   ]
  },
  {
   "cell_type": "code",
   "execution_count": 33,
   "metadata": {},
   "outputs": [
    {
     "data": {
      "text/html": [
       "<div>\n",
       "<style scoped>\n",
       "    .dataframe tbody tr th:only-of-type {\n",
       "        vertical-align: middle;\n",
       "    }\n",
       "\n",
       "    .dataframe tbody tr th {\n",
       "        vertical-align: top;\n",
       "    }\n",
       "\n",
       "    .dataframe thead th {\n",
       "        text-align: right;\n",
       "    }\n",
       "</style>\n",
       "<table border=\"1\" class=\"dataframe\">\n",
       "  <thead>\n",
       "    <tr style=\"text-align: right;\">\n",
       "      <th></th>\n",
       "      <th>S4248SM144NCEN</th>\n",
       "    </tr>\n",
       "    <tr>\n",
       "      <th>DATE</th>\n",
       "      <th></th>\n",
       "    </tr>\n",
       "  </thead>\n",
       "  <tbody>\n",
       "    <tr>\n",
       "      <th>1992-01-01</th>\n",
       "      <td>3459</td>\n",
       "    </tr>\n",
       "    <tr>\n",
       "      <th>1992-02-01</th>\n",
       "      <td>3458</td>\n",
       "    </tr>\n",
       "    <tr>\n",
       "      <th>1992-03-01</th>\n",
       "      <td>4002</td>\n",
       "    </tr>\n",
       "    <tr>\n",
       "      <th>1992-04-01</th>\n",
       "      <td>4564</td>\n",
       "    </tr>\n",
       "    <tr>\n",
       "      <th>1992-05-01</th>\n",
       "      <td>4221</td>\n",
       "    </tr>\n",
       "  </tbody>\n",
       "</table>\n",
       "</div>"
      ],
      "text/plain": [
       "            S4248SM144NCEN\n",
       "DATE                      \n",
       "1992-01-01            3459\n",
       "1992-02-01            3458\n",
       "1992-03-01            4002\n",
       "1992-04-01            4564\n",
       "1992-05-01            4221"
      ]
     },
     "execution_count": 33,
     "metadata": {},
     "output_type": "execute_result"
    }
   ],
   "source": [
    "df.head()"
   ]
  },
  {
   "cell_type": "code",
   "execution_count": 35,
   "metadata": {},
   "outputs": [],
   "source": [
    "df.columns = ['Sales']"
   ]
  },
  {
   "cell_type": "code",
   "execution_count": 36,
   "metadata": {},
   "outputs": [
    {
     "data": {
      "text/plain": [
       "<AxesSubplot:xlabel='DATE'>"
      ]
     },
     "execution_count": 36,
     "metadata": {},
     "output_type": "execute_result"
    },
    {
     "data": {
      "image/png": "[encoded data removed]",
      "text/plain": [
       "<Figure size 864x576 with 1 Axes>"
      ]
     },
     "metadata": {
      "needs_background": "light"
     },
     "output_type": "display_data"
    }
   ],
   "source": [
    "df.plot(figsize=(12,8))"
   ]
  },
  {
   "cell_type": "code",
   "execution_count": 37,
   "metadata": {},
   "outputs": [],
   "source": [
    "from statsmodels.tsa.seasonal import seasonal_decompose"
   ]
  },
  {
   "cell_type": "code",
   "execution_count": 38,
   "metadata": {},
   "outputs": [],
   "source": [
    "results = seasonal_decompose(df['Sales'])"
   ]
  },
  {
   "cell_type": "code",
   "execution_count": 43,
   "metadata": {},
   "outputs": [
    {
     "data": {
      "text/plain": [
       "DATE\n",
       "1992-01-01   -1836.088354\n",
       "1992-02-01   -1321.328738\n",
       "1992-03-01    -148.299892\n",
       "1992-04-01    -240.372008\n",
       "1992-05-01     554.966133\n",
       "                 ...     \n",
       "2018-09-01    -109.224572\n",
       "2018-10-01     260.730557\n",
       "2018-11-01     258.666454\n",
       "2018-12-01    1303.892416\n",
       "2019-01-01   -1836.088354\n",
       "Freq: MS, Name: seasonal, Length: 325, dtype: float64"
      ]
     },
     "execution_count": 43,
     "metadata": {},
     "output_type": "execute_result"
    }
   ],
   "source": [
    "results.seasonal #plot(figsize=(12,8))"
   ]
  },
  {
   "cell_type": "code",
   "execution_count": 45,
   "metadata": {},
   "outputs": [
    {
     "data": {
      "text/plain": [
       "325"
      ]
     },
     "execution_count": 45,
     "metadata": {},
     "output_type": "execute_result"
    }
   ],
   "source": [
    "len(df)"
   ]
  },
  {
   "cell_type": "code",
   "execution_count": 47,
   "metadata": {},
   "outputs": [],
   "source": [
    "nobs = 12"
   ]
  },
  {
   "cell_type": "code",
   "execution_count": 48,
   "metadata": {},
   "outputs": [],
   "source": [
    "train = df.iloc[:-nobs]\n",
    "test = df.iloc[-nobs:]"
   ]
  },
  {
   "cell_type": "code",
   "execution_count": 51,
   "metadata": {},
   "outputs": [],
   "source": [
    "ser = np.array([23,56,2,13,14])"
   ]
  },
  {
   "cell_type": "code",
   "execution_count": 52,
   "metadata": {},
   "outputs": [
    {
     "data": {
      "text/plain": [
       "56"
      ]
     },
     "execution_count": 52,
     "metadata": {},
     "output_type": "execute_result"
    }
   ],
   "source": [
    "ser.max()"
   ]
  },
  {
   "cell_type": "code",
   "execution_count": 53,
   "metadata": {},
   "outputs": [
    {
     "data": {
      "text/plain": [
       "array([0.41071429, 1.        , 0.03571429, 0.23214286, 0.25      ])"
      ]
     },
     "execution_count": 53,
     "metadata": {},
     "output_type": "execute_result"
    }
   ],
   "source": [
    "ser / ser.max()"
   ]
  },
  {
   "cell_type": "code",
   "execution_count": 54,
   "metadata": {},
   "outputs": [],
   "source": [
    "from sklearn.preprocessing import MinMaxScaler"
   ]
  },
  {
   "cell_type": "code",
   "execution_count": 55,
   "metadata": {},
   "outputs": [],
   "source": [
    "scaler = MinMaxScaler()"
   ]
  },
  {
   "cell_type": "code",
   "execution_count": 56,
   "metadata": {},
   "outputs": [
    {
     "data": {
      "text/plain": [
       "MinMaxScaler()"
      ]
     },
     "execution_count": 56,
     "metadata": {},
     "output_type": "execute_result"
    }
   ],
   "source": [
    "scaler.fit(train) # finds the max value in train data"
   ]
  },
  {
   "cell_type": "code",
   "execution_count": 57,
   "metadata": {},
   "outputs": [],
   "source": [
    "scaled_train = scaler.transform(train)\n",
    "scaled_test = scaler.transform(test)"
   ]
  },
  {
   "cell_type": "code",
   "execution_count": 59,
   "metadata": {},
   "outputs": [],
   "source": [
    "from tensorflow.keras.preprocessing.sequence import TimeseriesGenerator"
   ]
  },
  {
   "cell_type": "code",
   "execution_count": 69,
   "metadata": {},
   "outputs": [],
   "source": [
    "n_input = 3\n",
    "n_features = 1\n",
    "\n",
    "generator = TimeseriesGenerator(scaled_train, scaled_train,length=n_input,batch_size=1)"
   ]
  },
  {
   "cell_type": "code",
   "execution_count": 70,
   "metadata": {},
   "outputs": [
    {
     "data": {
      "text/plain": [
       "313"
      ]
     },
     "execution_count": 70,
     "metadata": {},
     "output_type": "execute_result"
    }
   ],
   "source": [
    "len(scaled_train)"
   ]
  },
  {
   "cell_type": "code",
   "execution_count": 71,
   "metadata": {},
   "outputs": [
    {
     "data": {
      "text/plain": [
       "310"
      ]
     },
     "execution_count": 71,
     "metadata": {},
     "output_type": "execute_result"
    }
   ],
   "source": [
    "len(generator)"
   ]
  },
  {
   "cell_type": "code",
   "execution_count": 72,
   "metadata": {},
   "outputs": [],
   "source": [
    "X,y = generator[0]"
   ]
  },
  {
   "cell_type": "code",
   "execution_count": 73,
   "metadata": {},
   "outputs": [
    {
     "name": "stdout",
     "output_type": "stream",
     "text": [
      "[[[0.03658432]\n",
      "  [0.03649885]\n",
      "  [0.08299855]]]\n",
      "[[0.13103684]]\n"
     ]
    }
   ],
   "source": [
    "print(X)\n",
    "print(y)"
   ]
  },
  {
   "cell_type": "code",
   "execution_count": 74,
   "metadata": {},
   "outputs": [
    {
     "data": {
      "text/plain": [
       "(1, 3, 1)"
      ]
     },
     "execution_count": 74,
     "metadata": {},
     "output_type": "execute_result"
    }
   ],
   "source": [
    "X.shape"
   ]
  },
  {
   "cell_type": "code",
   "execution_count": 76,
   "metadata": {},
   "outputs": [],
   "source": [
    "from tensorflow.keras.models import Sequential\n",
    "from tensorflow.keras.layers import Dense, LSTM"
   ]
  },
  {
   "cell_type": "code",
   "execution_count": 80,
   "metadata": {},
   "outputs": [],
   "source": [
    "n_input = 12\n",
    "n_features = 1\n",
    "\n",
    "train_generator = TimeseriesGenerator(scaled_train, scaled_train,length=n_input,batch_size=1)"
   ]
  },
  {
   "cell_type": "code",
   "execution_count": 81,
   "metadata": {},
   "outputs": [
    {
     "name": "stdout",
     "output_type": "stream",
     "text": [
      "WARNING:tensorflow:Layer lstm_1 will not use cuDNN kernel since it doesn't meet the cuDNN kernel criteria. It will use generic GPU kernel as fallback when running on GPU\n"
     ]
    }
   ],
   "source": [
    "model = Sequential()\n",
    "\n",
    "model.add(LSTM(150, activation = 'relu', input_shape=(n_input, n_features)))\n",
    "model.add(Dense(1))\n",
    "model.compile(optimizer='adam', loss='mse')"
   ]
  },
  {
   "cell_type": "code",
   "execution_count": 82,
   "metadata": {},
   "outputs": [
    {
     "name": "stdout",
     "output_type": "stream",
     "text": [
      "Model: \"sequential_3\"\n",
      "_________________________________________________________________\n",
      "Layer (type)                 Output Shape              Param #   \n",
      "=================================================================\n",
      "lstm_1 (LSTM)                (None, 150)               91200     \n",
      "_________________________________________________________________\n",
      "dense_7 (Dense)              (None, 1)                 151       \n",
      "=================================================================\n",
      "Total params: 91,351\n",
      "Trainable params: 91,351\n",
      "Non-trainable params: 0\n",
      "_________________________________________________________________\n"
     ]
    }
   ],
   "source": [
    "model.summary()"
   ]
  },
  {
   "cell_type": "code",
   "execution_count": 83,
   "metadata": {},
   "outputs": [
    {
     "name": "stdout",
     "output_type": "stream",
     "text": [
      "WARNING:tensorflow:From <ipython-input-83-698d8e58e24d>:1: Model.fit_generator (from tensorflow.python.keras.engine.training) is deprecated and will be removed in a future version.\n",
      "Instructions for updating:\n",
      "Please use Model.fit, which supports generators.\n",
      "Epoch 1/25\n",
      "301/301 [==============================] - 5s 18ms/step - loss: 0.0170\n",
      "Epoch 2/25\n",
      "301/301 [==============================] - 5s 18ms/step - loss: 0.0098\n",
      "Epoch 3/25\n",
      "301/301 [==============================] - 5s 18ms/step - loss: 0.0087\n",
      "Epoch 4/25\n",
      "301/301 [==============================] - 5s 18ms/step - loss: 0.0086\n",
      "Epoch 5/25\n",
      "301/301 [==============================] - 5s 18ms/step - loss: 0.0077\n",
      "Epoch 6/25\n",
      "301/301 [==============================] - 5s 15ms/step - loss: 0.0051\n",
      "Epoch 7/25\n",
      "301/301 [==============================] - 5s 16ms/step - loss: 0.0042\n",
      "Epoch 8/25\n",
      "301/301 [==============================] - 5s 15ms/step - loss: 0.0036\n",
      "Epoch 9/25\n",
      "301/301 [==============================] - 5s 15ms/step - loss: 0.0028\n",
      "Epoch 10/25\n",
      "301/301 [==============================] - 5s 15ms/step - loss: 0.0022\n",
      "Epoch 11/25\n",
      "301/301 [==============================] - 5s 15ms/step - loss: 0.0024\n",
      "Epoch 12/25\n",
      "301/301 [==============================] - 5s 16ms/step - loss: 0.0021\n",
      "Epoch 13/25\n",
      "301/301 [==============================] - 5s 16ms/step - loss: 0.0021\n",
      "Epoch 14/25\n",
      "301/301 [==============================] - 5s 16ms/step - loss: 0.0028: 0s - lo\n",
      "Epoch 15/25\n",
      "301/301 [==============================] - 5s 15ms/step - loss: 0.0018\n",
      "Epoch 16/25\n",
      "301/301 [==============================] - 5s 16ms/step - loss: 0.0017: 0s - l\n",
      "Epoch 17/25\n",
      "301/301 [==============================] - 5s 16ms/step - loss: 0.0017\n",
      "Epoch 18/25\n",
      "301/301 [==============================] - 5s 15ms/step - loss: 0.0017\n",
      "Epoch 19/25\n",
      "301/301 [==============================] - 5s 16ms/step - loss: 0.0017\n",
      "Epoch 20/25\n",
      "301/301 [==============================] - 5s 16ms/step - loss: 0.0018\n",
      "Epoch 21/25\n",
      "301/301 [==============================] - 5s 15ms/step - loss: 0.0017\n",
      "Epoch 22/25\n",
      "301/301 [==============================] - 5s 16ms/step - loss: 0.0018\n",
      "Epoch 23/25\n",
      "301/301 [==============================] - 5s 16ms/step - loss: 0.0016\n",
      "Epoch 24/25\n",
      "301/301 [==============================] - 5s 15ms/step - loss: 0.0018\n",
      "Epoch 25/25\n",
      "301/301 [==============================] - 5s 16ms/step - loss: 0.0015\n"
     ]
    },
    {
     "data": {
      "text/plain": [
       "<tensorflow.python.keras.callbacks.History at 0x1a5fca6e0f0>"
      ]
     },
     "execution_count": 83,
     "metadata": {},
     "output_type": "execute_result"
    }
   ],
   "source": [
    "model.fit_generator(train_generator, epochs=25)"
   ]
  },
  {
   "cell_type": "code",
   "execution_count": 84,
   "metadata": {},
   "outputs": [
    {
     "data": {
      "text/plain": [
       "dict_keys(['loss'])"
      ]
     },
     "execution_count": 84,
     "metadata": {},
     "output_type": "execute_result"
    }
   ],
   "source": [
    "model.history.history.keys()"
   ]
  },
  {
   "cell_type": "code",
   "execution_count": 86,
   "metadata": {},
   "outputs": [
    {
     "data": {
      "text/plain": [
       "[<matplotlib.lines.Line2D at 0x1a5ffd1dda0>]"
      ]
     },
     "execution_count": 86,
     "metadata": {},
     "output_type": "execute_result"
    },
    {
     "data": {
      "image/png": "[encoded data removed]",
      "text/plain": [
       "<Figure size 432x288 with 1 Axes>"
      ]
     },
     "metadata": {
      "needs_background": "light"
     },
     "output_type": "display_data"
    }
   ],
   "source": [
    "plt.plot(range(len(model.history.history['loss'])),model.history.history['loss'])"
   ]
  },
  {
   "cell_type": "code",
   "execution_count": 87,
   "metadata": {},
   "outputs": [],
   "source": [
    "# 12 history steps ---> step 13\n",
    "# Last 12 points train --> point 1 of test data"
   ]
  },
  {
   "cell_type": "code",
   "execution_count": 88,
   "metadata": {},
   "outputs": [],
   "source": [
    "first_eval_batch = scaled_train[-12:]"
   ]
  },
  {
   "cell_type": "code",
   "execution_count": 89,
   "metadata": {},
   "outputs": [
    {
     "data": {
      "text/plain": [
       "array([[0.63432772],\n",
       "       [0.80776135],\n",
       "       [0.72313873],\n",
       "       [0.89870929],\n",
       "       [1.        ],\n",
       "       [0.71672793],\n",
       "       [0.88648602],\n",
       "       [0.75869732],\n",
       "       [0.82742115],\n",
       "       [0.87443371],\n",
       "       [0.96025301],\n",
       "       [0.5584238 ]])"
      ]
     },
     "execution_count": 89,
     "metadata": {},
     "output_type": "execute_result"
    }
   ],
   "source": [
    "first_eval_batch"
   ]
  },
  {
   "cell_type": "code",
   "execution_count": 91,
   "metadata": {},
   "outputs": [],
   "source": [
    "first_eval_batch = first_eval_batch.reshape((1,n_input, n_features))"
   ]
  },
  {
   "cell_type": "code",
   "execution_count": 92,
   "metadata": {},
   "outputs": [
    {
     "data": {
      "text/plain": [
       "array([[0.7314653]], dtype=float32)"
      ]
     },
     "execution_count": 92,
     "metadata": {},
     "output_type": "execute_result"
    }
   ],
   "source": [
    "model.predict(first_eval_batch)"
   ]
  },
  {
   "cell_type": "markdown",
   "metadata": {},
   "source": [
    "## FORECAST USING RNN MODEL"
   ]
  },
  {
   "cell_type": "code",
   "execution_count": 94,
   "metadata": {},
   "outputs": [],
   "source": [
    "test_predictions = []\n",
    "first_eval_batch = scaled_train[-n_input:]\n",
    "current_batch = first_eval_batch.reshape((1, n_input, n_features))\n",
    "\n",
    "for i in range(len(test)):\n",
    "    \n",
    "    current_pred = model.predict(current_batch)[0]\n",
    "    \n",
    "    test_predictions.append(current_pred)\n",
    "    \n",
    "    current_batch = np.append(current_batch[:,1:,:],[[current_pred]],axis=1)\n"
   ]
  },
  {
   "cell_type": "code",
   "execution_count": 95,
   "metadata": {},
   "outputs": [
    {
     "data": {
      "text/plain": [
       "[array([0.7314653], dtype=float32),\n",
       " array([0.8324642], dtype=float32),\n",
       " array([0.8028721], dtype=float32),\n",
       " array([0.94515663], dtype=float32),\n",
       " array([1.008543], dtype=float32),\n",
       " array([0.79361135], dtype=float32),\n",
       " array([0.9141835], dtype=float32),\n",
       " array([0.8050848], dtype=float32),\n",
       " array([0.87166405], dtype=float32),\n",
       " array([0.91545624], dtype=float32),\n",
       " array([0.97476], dtype=float32),\n",
       " array([0.66045696], dtype=float32)]"
      ]
     },
     "execution_count": 95,
     "metadata": {},
     "output_type": "execute_result"
    }
   ],
   "source": [
    "test_predictions"
   ]
  },
  {
   "cell_type": "code",
   "execution_count": 96,
   "metadata": {},
   "outputs": [],
   "source": [
    "true_predictions = scaler.inverse_transform(test_predictions)"
   ]
  },
  {
   "cell_type": "code",
   "execution_count": 97,
   "metadata": {},
   "outputs": [
    {
     "data": {
      "text/plain": [
       "array([[11588.41231138],\n",
       "       [12769.99888802],\n",
       "       [12423.80094749],\n",
       "       [14088.38745946],\n",
       "       [14829.94472694],\n",
       "       [12315.45915645],\n",
       "       [13726.03273642],\n",
       "       [12449.68736255],\n",
       "       [13228.59768867],\n",
       "       [13740.92249805],\n",
       "       [14434.71719247],\n",
       "       [10757.68592161]])"
      ]
     },
     "execution_count": 97,
     "metadata": {},
     "output_type": "execute_result"
    }
   ],
   "source": [
    "true_predictions"
   ]
  },
  {
   "cell_type": "code",
   "execution_count": 99,
   "metadata": {},
   "outputs": [
    {
     "name": "stderr",
     "output_type": "stream",
     "text": [
      "C:\\Users\\ilvna\\.conda\\envs\\tf-2.3\\lib\\site-packages\\ipykernel_launcher.py:1: SettingWithCopyWarning: \n",
      "A value is trying to be set on a copy of a slice from a DataFrame.\n",
      "Try using .loc[row_indexer,col_indexer] = value instead\n",
      "\n",
      "See the caveats in the documentation: https://pandas.pydata.org/pandas-docs/stable/user_guide/indexing.html#returning-a-view-versus-a-copy\n",
      "  \"\"\"Entry point for launching an IPython kernel.\n"
     ]
    }
   ],
   "source": [
    "test['Predictions'] = true_predictions"
   ]
  },
  {
   "cell_type": "code",
   "execution_count": 100,
   "metadata": {},
   "outputs": [
    {
     "data": {
      "text/html": [
       "<div>\n",
       "<style scoped>\n",
       "    .dataframe tbody tr th:only-of-type {\n",
       "        vertical-align: middle;\n",
       "    }\n",
       "\n",
       "    .dataframe tbody tr th {\n",
       "        vertical-align: top;\n",
       "    }\n",
       "\n",
       "    .dataframe thead th {\n",
       "        text-align: right;\n",
       "    }\n",
       "</style>\n",
       "<table border=\"1\" class=\"dataframe\">\n",
       "  <thead>\n",
       "    <tr style=\"text-align: right;\">\n",
       "      <th></th>\n",
       "      <th>Sales</th>\n",
       "      <th>Predictions</th>\n",
       "    </tr>\n",
       "    <tr>\n",
       "      <th>DATE</th>\n",
       "      <th></th>\n",
       "      <th></th>\n",
       "    </tr>\n",
       "  </thead>\n",
       "  <tbody>\n",
       "    <tr>\n",
       "      <th>2018-02-01</th>\n",
       "      <td>10415</td>\n",
       "      <td>11588.412311</td>\n",
       "    </tr>\n",
       "    <tr>\n",
       "      <th>2018-03-01</th>\n",
       "      <td>12683</td>\n",
       "      <td>12769.998888</td>\n",
       "    </tr>\n",
       "    <tr>\n",
       "      <th>2018-04-01</th>\n",
       "      <td>11919</td>\n",
       "      <td>12423.800947</td>\n",
       "    </tr>\n",
       "    <tr>\n",
       "      <th>2018-05-01</th>\n",
       "      <td>14138</td>\n",
       "      <td>14088.387459</td>\n",
       "    </tr>\n",
       "    <tr>\n",
       "      <th>2018-06-01</th>\n",
       "      <td>14583</td>\n",
       "      <td>14829.944727</td>\n",
       "    </tr>\n",
       "    <tr>\n",
       "      <th>2018-07-01</th>\n",
       "      <td>12640</td>\n",
       "      <td>12315.459156</td>\n",
       "    </tr>\n",
       "    <tr>\n",
       "      <th>2018-08-01</th>\n",
       "      <td>14257</td>\n",
       "      <td>13726.032736</td>\n",
       "    </tr>\n",
       "    <tr>\n",
       "      <th>2018-09-01</th>\n",
       "      <td>12396</td>\n",
       "      <td>12449.687363</td>\n",
       "    </tr>\n",
       "    <tr>\n",
       "      <th>2018-10-01</th>\n",
       "      <td>13914</td>\n",
       "      <td>13228.597689</td>\n",
       "    </tr>\n",
       "    <tr>\n",
       "      <th>2018-11-01</th>\n",
       "      <td>14174</td>\n",
       "      <td>13740.922498</td>\n",
       "    </tr>\n",
       "    <tr>\n",
       "      <th>2018-12-01</th>\n",
       "      <td>15504</td>\n",
       "      <td>14434.717192</td>\n",
       "    </tr>\n",
       "    <tr>\n",
       "      <th>2019-01-01</th>\n",
       "      <td>10718</td>\n",
       "      <td>10757.685922</td>\n",
       "    </tr>\n",
       "  </tbody>\n",
       "</table>\n",
       "</div>"
      ],
      "text/plain": [
       "            Sales   Predictions\n",
       "DATE                           \n",
       "2018-02-01  10415  11588.412311\n",
       "2018-03-01  12683  12769.998888\n",
       "2018-04-01  11919  12423.800947\n",
       "2018-05-01  14138  14088.387459\n",
       "2018-06-01  14583  14829.944727\n",
       "2018-07-01  12640  12315.459156\n",
       "2018-08-01  14257  13726.032736\n",
       "2018-09-01  12396  12449.687363\n",
       "2018-10-01  13914  13228.597689\n",
       "2018-11-01  14174  13740.922498\n",
       "2018-12-01  15504  14434.717192\n",
       "2019-01-01  10718  10757.685922"
      ]
     },
     "execution_count": 100,
     "metadata": {},
     "output_type": "execute_result"
    }
   ],
   "source": [
    "test"
   ]
  },
  {
   "cell_type": "code",
   "execution_count": 101,
   "metadata": {
    "scrolled": false
   },
   "outputs": [
    {
     "data": {
      "text/plain": [
       "<AxesSubplot:xlabel='DATE'>"
      ]
     },
     "execution_count": 101,
     "metadata": {},
     "output_type": "execute_result"
    },
    {
     "data": {
      "image/png": "[encoded data removed]",
      "text/plain": [
       "<Figure size 864x576 with 1 Axes>"
      ]
     },
     "metadata": {
      "needs_background": "light"
     },
     "output_type": "display_data"
    }
   ],
   "source": [
    "test.plot(figsize=(12,8))"
   ]
  },
  {
   "cell_type": "code",
   "execution_count": 102,
   "metadata": {},
   "outputs": [],
   "source": [
    "model.save('mycoolmodel.h5')"
   ]
  },
  {
   "cell_type": "code",
   "execution_count": 103,
   "metadata": {},
   "outputs": [
    {
     "data": {
      "text/plain": [
       "'C:\\\\Users\\\\ilvna\\\\Udemy'"
      ]
     },
     "execution_count": 103,
     "metadata": {},
     "output_type": "execute_result"
    }
   ],
   "source": [
    "pwd"
   ]
  },
  {
   "cell_type": "code",
   "execution_count": 104,
   "metadata": {},
   "outputs": [],
   "source": [
    "from tensorflow.keras.models import load_model"
   ]
  },
  {
   "cell_type": "code",
   "execution_count": 105,
   "metadata": {},
   "outputs": [
    {
     "name": "stdout",
     "output_type": "stream",
     "text": [
      "WARNING:tensorflow:Layer lstm_1 will not use cuDNN kernel since it doesn't meet the cuDNN kernel criteria. It will use generic GPU kernel as fallback when running on GPU\n"
     ]
    }
   ],
   "source": [
    "new_model = load_model('mycoolmodel.h5')"
   ]
  },
  {
   "cell_type": "code",
   "execution_count": 106,
   "metadata": {},
   "outputs": [
    {
     "name": "stdout",
     "output_type": "stream",
     "text": [
      "Model: \"sequential_3\"\n",
      "_________________________________________________________________\n",
      "Layer (type)                 Output Shape              Param #   \n",
      "=================================================================\n",
      "lstm_1 (LSTM)                (None, 150)               91200     \n",
      "_________________________________________________________________\n",
      "dense_7 (Dense)              (None, 1)                 151       \n",
      "=================================================================\n",
      "Total params: 91,351\n",
      "Trainable params: 91,351\n",
      "Non-trainable params: 0\n",
      "_________________________________________________________________\n"
     ]
    }
   ],
   "source": [
    "new_model.summary()"
   ]
  }
 ],
 "metadata": {
  "kernelspec": {
   "display_name": "Python 3",
   "language": "python",
   "name": "python3"
  },
  "language_info": {
   "codemirror_mode": {
    "name": "ipython",
    "version": 3
   },
   "file_extension": ".py",
   "mimetype": "text/x-python",
   "name": "python",
   "nbconvert_exporter": "python",
   "pygments_lexer": "ipython3",
   "version": "3.6.10"
  }
 },
 "nbformat": 4,
 "nbformat_minor": 4
}
